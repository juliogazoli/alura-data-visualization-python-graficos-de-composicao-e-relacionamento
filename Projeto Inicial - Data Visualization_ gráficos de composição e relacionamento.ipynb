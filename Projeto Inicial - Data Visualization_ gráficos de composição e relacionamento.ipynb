{
 "cells": [
  {
   "cell_type": "markdown",
   "metadata": {
    "id": "7D3n0DACbyjf"
   },
   "source": [
    "# <font color=green> Data Visualization: gráficos de composição e relacionamento</font>\n",
    "---"
   ]
  },
  {
   "cell_type": "markdown",
   "metadata": {
    "id": "Au2nZsz9ezur"
   },
   "source": [
    "# **Aula 1 - Proporção dos dados**\n"
   ]
  },
  {
   "cell_type": "markdown",
   "metadata": {
    "id": "zozK6sjqX0YH"
   },
   "source": [
    "## **1.1 Introdução**\n",
    "\n",
    "---\n",
    "\n",
    "Neste curso, vamos construir um portfólio com as análises de **duas** bases de dados diferentes, explorando cada uma e respondendo aos questionamentos levantados em torno de seus dados. Todas as bases estão no formato CSV e podem ser acessadas por meio do Github.\n",
    "\n",
    "> **Bases de dados:**\n",
    "\n",
    "1.   Tabela com os PIBs (Produto Interno Bruto) dos estados brasileiros no período de 2002 - 2020\n",
    "\n",
    "2.   Tabela com a pontuação do IDEB (Índice de Desenvolvimento da Educação Básica) das escolas à nivel nacional\n",
    "\n",
    "A cada aula, vamos passar por uma base de dados e tecer nossas análises de acordo com as perguntas que forem apresentadas buscando respondê-las por meio da utilização de recursos visuais (gráficos e elementos visuais)."
   ]
  },
  {
   "cell_type": "markdown",
   "metadata": {
    "id": "YvLE4O2iemTx"
   },
   "source": [
    "### Paleta de cores"
   ]
  },
  {
   "cell_type": "markdown",
   "metadata": {
    "id": "sAuABmczf3Ev"
   },
   "source": [
    "|Azul||||||\n",
    "|------|------|------|------|------|------|\n",
    "| AZUL1 |AZUL2 |AZUL3 |AZUL4 |AZUL5 |AZUL6 |\n",
    "|#174A7E | #4A81BF | #6495ED| #2596be | #94AFC5 | #CDDBF3 |\n",
    "|![adicionar desc](https://github.com/afonsosr2/dataviz-graficos-composicao-relacionamento/blob/638632b27146722cb9589f502a3a444a4eeac717/imagens/paleta_cores/AZUL1.png?raw=true)|![adicionar desc](https://github.com/afonsosr2/dataviz-graficos-composicao-relacionamento/blob/638632b27146722cb9589f502a3a444a4eeac717/imagens/paleta_cores/AZUL2.png?raw=true)|![adicionar desc](https://github.com/afonsosr2/dataviz-graficos-composicao-relacionamento/blob/638632b27146722cb9589f502a3a444a4eeac717/imagens/paleta_cores/AZUL3.png?raw=true)|![adicionar desc](https://github.com/afonsosr2/dataviz-graficos-composicao-relacionamento/blob/638632b27146722cb9589f502a3a444a4eeac717/imagens/paleta_cores/AZUL4.png?raw=true)|![adicionar desc](https://github.com/afonsosr2/dataviz-graficos-composicao-relacionamento/blob/638632b27146722cb9589f502a3a444a4eeac717/imagens/paleta_cores/AZUL5.png?raw=true)|![adicionar desc](https://github.com/afonsosr2/dataviz-graficos-composicao-relacionamento/blob/638632b27146722cb9589f502a3a444a4eeac717/imagens/paleta_cores/AZUL6.png?raw=true) |\n",
    "\n",
    "&nbsp;\n",
    "\n",
    "|Cinza||||||\n",
    "|------|------|------|------|------|------|\n",
    "| CINZA1 |CINZA2 |CINZA3 |CINZA4 |CINZA5|BRANCO|\n",
    "|#231F20 | #414040| #555655 | #A6A6A5| #BFBEBE |#FFFFFF|\n",
    "| ![adicionar desc](https://github.com/afonsosr2/dataviz-graficos-composicao-relacionamento/blob/638632b27146722cb9589f502a3a444a4eeac717/imagens/paleta_cores/CINZA1.png?raw=true)  |![adicionar desc](https://github.com/afonsosr2/dataviz-graficos-composicao-relacionamento/blob/638632b27146722cb9589f502a3a444a4eeac717/imagens/paleta_cores/CINZA2.png?raw=true) |![adicionar desc](https://github.com/afonsosr2/dataviz-graficos-composicao-relacionamento/blob/638632b27146722cb9589f502a3a444a4eeac717/imagens/paleta_cores/CINZA3.png?raw=true) |![adicionar desc](https://github.com/afonsosr2/dataviz-graficos-composicao-relacionamento/blob/638632b27146722cb9589f502a3a444a4eeac717/imagens/paleta_cores/CINZA4.png?raw=true) |![adicionar desc](https://github.com/afonsosr2/dataviz-graficos-composicao-relacionamento/blob/638632b27146722cb9589f502a3a444a4eeac717/imagens/paleta_cores/CINZA5.png?raw=true)|![adicionar desc](https://github.com/afonsosr2/dataviz-graficos-composicao-relacionamento/blob/638632b27146722cb9589f502a3a444a4eeac717/imagens/paleta_cores/BRANCO.png?raw=true)|\n",
    "\n",
    "&nbsp;\n",
    "\n",
    "|Vermelho|||Verde|||\n",
    "|------|------|------|------|------|------|\n",
    "| VERMELHO1 |VERMELHO2 |LARANJA1 | VERDE1 |VERDE2 | VERDE3 |\n",
    "|#C3514E | #E6BAB7 | #F79747|#0C8040 | #9ABB59 |#9ECCB3|\n",
    "| ![adicionar desc](https://github.com/afonsosr2/dataviz-graficos-composicao-relacionamento/blob/638632b27146722cb9589f502a3a444a4eeac717/imagens/paleta_cores//VERMELHO1.png?raw=true) |![adicionar desc](https://github.com/afonsosr2/dataviz-graficos-composicao-relacionamento/blob/638632b27146722cb9589f502a3a444a4eeac717/imagens/paleta_cores/VERMELHO2.png?raw=true)|![adicionar desc](https://github.com/afonsosr2/dataviz-graficos-composicao-relacionamento/blob/638632b27146722cb9589f502a3a444a4eeac717/imagens/paleta_cores/LARANJA1.png?raw=true)| ![adicionar desc](https://github.com/afonsosr2/dataviz-graficos-composicao-relacionamento/blob/638632b27146722cb9589f502a3a444a4eeac717/imagens/paleta_cores/VERDE1.png?raw=true) |![adicionar desc](https://github.com/afonsosr2/dataviz-graficos-composicao-relacionamento/blob/638632b27146722cb9589f502a3a444a4eeac717/imagens/paleta_cores/VERDE2.png?raw=true)|![adicionar desc](https://github.com/afonsosr2/dataviz-graficos-composicao-relacionamento/blob/638632b27146722cb9589f502a3a444a4eeac717/imagens/paleta_cores/VERDE3.png?raw=true)|\n"
   ]
  },
  {
   "cell_type": "code",
   "execution_count": 6,
   "metadata": {
    "id": "_LZKF5MzesCL"
   },
   "outputs": [],
   "source": [
    "# Definindo a paleta de cores\n",
    "AZUL1, AZUL2, AZUL3, AZUL4, AZUL5, AZUL6 = '#174A7E', '#4A81BF', \"#6495ED\", '#2596BE', '#94AFC5', '#CDDBF3'\n",
    "CINZA1, CINZA2, CINZA3, CINZA4, CINZA5, BRANCO = '#231F20', '#414040', '#555655', '#A6A6A5', '#BFBEBE', '#FFFFFF'\n",
    "VERMELHO1, VERMELHO2, LARANJA1 = '#C3514E',\t'#E6BAB7',\t'#F79747'\n",
    "VERDE1, VERDE2, VERDE3 = '#0C8040',\t'#9ABB59', '#9ECCB3'"
   ]
  },
  {
   "cell_type": "markdown",
   "metadata": {
    "id": "fTAQwVAbUQKM"
   },
   "source": [
    "## **1.2 - Apresentando a base de dados**\n",
    "\n",
    "---\n",
    "\n"
   ]
  },
  {
   "cell_type": "markdown",
   "metadata": {
    "id": "qYOQwjMnUQKR"
   },
   "source": [
    "### **Situação-problema 1**\n",
    "\n",
    "Você como cientista de dados recebeu um conjunto de dados para analisar a composição do PIB em relação aos estados do Brasil durante o período de 2002-2020. Os dados descrevem os valores do PIB e os valores agregados a ele anualmente por setores como agropecuária, indústria, serviços e outros.\n",
    "\n",
    "Aqui, vamos focar em investigar a composição dos dados em relação aos estados e regiões e tecer alguns comentários a respeito das perguntas levantadas."
   ]
  },
  {
   "cell_type": "code",
   "execution_count": 1,
   "metadata": {
    "id": "NHTf2WaNUQKR"
   },
   "outputs": [],
   "source": [
    "import pandas as pd"
   ]
  },
  {
   "cell_type": "code",
   "execution_count": 2,
   "metadata": {
    "id": "jYw1ma0AUQKR"
   },
   "outputs": [
    {
     "data": {
      "text/html": [
       "<div>\n",
       "<style scoped>\n",
       "    .dataframe tbody tr th:only-of-type {\n",
       "        vertical-align: middle;\n",
       "    }\n",
       "\n",
       "    .dataframe tbody tr th {\n",
       "        vertical-align: top;\n",
       "    }\n",
       "\n",
       "    .dataframe thead th {\n",
       "        text-align: right;\n",
       "    }\n",
       "</style>\n",
       "<table border=\"1\" class=\"dataframe\">\n",
       "  <thead>\n",
       "    <tr style=\"text-align: right;\">\n",
       "      <th></th>\n",
       "      <th>ano</th>\n",
       "      <th>sigla_uf</th>\n",
       "      <th>regiao</th>\n",
       "      <th>pib</th>\n",
       "      <th>impostos_liquidos</th>\n",
       "      <th>va</th>\n",
       "      <th>va_agropecuaria</th>\n",
       "      <th>va_industria</th>\n",
       "      <th>va_servicos</th>\n",
       "      <th>va_adespss</th>\n",
       "    </tr>\n",
       "  </thead>\n",
       "  <tbody>\n",
       "    <tr>\n",
       "      <th>0</th>\n",
       "      <td>2002</td>\n",
       "      <td>RO</td>\n",
       "      <td>Norte</td>\n",
       "      <td>7467629886</td>\n",
       "      <td>839731192</td>\n",
       "      <td>6627898698</td>\n",
       "      <td>715526872</td>\n",
       "      <td>1191090432</td>\n",
       "      <td>2484579193</td>\n",
       "      <td>2236702207</td>\n",
       "    </tr>\n",
       "    <tr>\n",
       "      <th>1</th>\n",
       "      <td>2003</td>\n",
       "      <td>RO</td>\n",
       "      <td>Norte</td>\n",
       "      <td>9425010486</td>\n",
       "      <td>1108434936</td>\n",
       "      <td>8316575548</td>\n",
       "      <td>1278658831</td>\n",
       "      <td>1216605061</td>\n",
       "      <td>3376727040</td>\n",
       "      <td>2444584625</td>\n",
       "    </tr>\n",
       "    <tr>\n",
       "      <th>2</th>\n",
       "      <td>2004</td>\n",
       "      <td>RO</td>\n",
       "      <td>Norte</td>\n",
       "      <td>11004641436</td>\n",
       "      <td>1288806654</td>\n",
       "      <td>9715834778</td>\n",
       "      <td>1288515348</td>\n",
       "      <td>1674933817</td>\n",
       "      <td>3986529419</td>\n",
       "      <td>2765856199</td>\n",
       "    </tr>\n",
       "    <tr>\n",
       "      <th>3</th>\n",
       "      <td>2005</td>\n",
       "      <td>RO</td>\n",
       "      <td>Norte</td>\n",
       "      <td>12511821181</td>\n",
       "      <td>1476144194</td>\n",
       "      <td>11035676990</td>\n",
       "      <td>1342222120</td>\n",
       "      <td>1887932121</td>\n",
       "      <td>4603783904</td>\n",
       "      <td>3201738843</td>\n",
       "    </tr>\n",
       "    <tr>\n",
       "      <th>4</th>\n",
       "      <td>2006</td>\n",
       "      <td>RO</td>\n",
       "      <td>Norte</td>\n",
       "      <td>13054713344</td>\n",
       "      <td>1613809974</td>\n",
       "      <td>11440903374</td>\n",
       "      <td>1238006193</td>\n",
       "      <td>2210692147</td>\n",
       "      <td>4320526746</td>\n",
       "      <td>3671678293</td>\n",
       "    </tr>\n",
       "    <tr>\n",
       "      <th>...</th>\n",
       "      <td>...</td>\n",
       "      <td>...</td>\n",
       "      <td>...</td>\n",
       "      <td>...</td>\n",
       "      <td>...</td>\n",
       "      <td>...</td>\n",
       "      <td>...</td>\n",
       "      <td>...</td>\n",
       "      <td>...</td>\n",
       "      <td>...</td>\n",
       "    </tr>\n",
       "    <tr>\n",
       "      <th>508</th>\n",
       "      <td>2016</td>\n",
       "      <td>DF</td>\n",
       "      <td>Centro-Oeste</td>\n",
       "      <td>235540044811</td>\n",
       "      <td>29145619376</td>\n",
       "      <td>206394425435</td>\n",
       "      <td>820754661</td>\n",
       "      <td>9662357225</td>\n",
       "      <td>103859865830</td>\n",
       "      <td>92051447720</td>\n",
       "    </tr>\n",
       "    <tr>\n",
       "      <th>509</th>\n",
       "      <td>2017</td>\n",
       "      <td>DF</td>\n",
       "      <td>Centro-Oeste</td>\n",
       "      <td>244722249337</td>\n",
       "      <td>29120461647</td>\n",
       "      <td>215601787690</td>\n",
       "      <td>828313642</td>\n",
       "      <td>8448768236</td>\n",
       "      <td>108322119432</td>\n",
       "      <td>98002586380</td>\n",
       "    </tr>\n",
       "    <tr>\n",
       "      <th>510</th>\n",
       "      <td>2018</td>\n",
       "      <td>DF</td>\n",
       "      <td>Centro-Oeste</td>\n",
       "      <td>254817204692</td>\n",
       "      <td>28692287369</td>\n",
       "      <td>226124917323</td>\n",
       "      <td>1022690641</td>\n",
       "      <td>9541298290</td>\n",
       "      <td>113768086938</td>\n",
       "      <td>101792841454</td>\n",
       "    </tr>\n",
       "    <tr>\n",
       "      <th>511</th>\n",
       "      <td>2019</td>\n",
       "      <td>DF</td>\n",
       "      <td>Centro-Oeste</td>\n",
       "      <td>273613711477</td>\n",
       "      <td>30686607647</td>\n",
       "      <td>242927103829</td>\n",
       "      <td>992393584</td>\n",
       "      <td>9453608031</td>\n",
       "      <td>125261853488</td>\n",
       "      <td>107219248727</td>\n",
       "    </tr>\n",
       "    <tr>\n",
       "      <th>512</th>\n",
       "      <td>2020</td>\n",
       "      <td>DF</td>\n",
       "      <td>Centro-Oeste</td>\n",
       "      <td>265847334003</td>\n",
       "      <td>25466227775</td>\n",
       "      <td>240381106228</td>\n",
       "      <td>1623976909</td>\n",
       "      <td>10942472569</td>\n",
       "      <td>116547655370</td>\n",
       "      <td>111267001381</td>\n",
       "    </tr>\n",
       "  </tbody>\n",
       "</table>\n",
       "<p>513 rows × 10 columns</p>\n",
       "</div>"
      ],
      "text/plain": [
       "      ano sigla_uf        regiao           pib  impostos_liquidos  \\\n",
       "0    2002       RO         Norte    7467629886          839731192   \n",
       "1    2003       RO         Norte    9425010486         1108434936   \n",
       "2    2004       RO         Norte   11004641436         1288806654   \n",
       "3    2005       RO         Norte   12511821181         1476144194   \n",
       "4    2006       RO         Norte   13054713344         1613809974   \n",
       "..    ...      ...           ...           ...                ...   \n",
       "508  2016       DF  Centro-Oeste  235540044811        29145619376   \n",
       "509  2017       DF  Centro-Oeste  244722249337        29120461647   \n",
       "510  2018       DF  Centro-Oeste  254817204692        28692287369   \n",
       "511  2019       DF  Centro-Oeste  273613711477        30686607647   \n",
       "512  2020       DF  Centro-Oeste  265847334003        25466227775   \n",
       "\n",
       "               va  va_agropecuaria  va_industria   va_servicos    va_adespss  \n",
       "0      6627898698        715526872    1191090432    2484579193    2236702207  \n",
       "1      8316575548       1278658831    1216605061    3376727040    2444584625  \n",
       "2      9715834778       1288515348    1674933817    3986529419    2765856199  \n",
       "3     11035676990       1342222120    1887932121    4603783904    3201738843  \n",
       "4     11440903374       1238006193    2210692147    4320526746    3671678293  \n",
       "..            ...              ...           ...           ...           ...  \n",
       "508  206394425435        820754661    9662357225  103859865830   92051447720  \n",
       "509  215601787690        828313642    8448768236  108322119432   98002586380  \n",
       "510  226124917323       1022690641    9541298290  113768086938  101792841454  \n",
       "511  242927103829        992393584    9453608031  125261853488  107219248727  \n",
       "512  240381106228       1623976909   10942472569  116547655370  111267001381  \n",
       "\n",
       "[513 rows x 10 columns]"
      ]
     },
     "execution_count": 2,
     "metadata": {},
     "output_type": "execute_result"
    }
   ],
   "source": [
    "# Importando a base de dados com o PIB dos estados brasileiros de 2002 a 2020\n",
    "df_pib = pd.read_csv(\"https://raw.githubusercontent.com/afonsosr2/dataviz-graficos-composicao-relacionamento/master/dados/pib_br_2002_2020_estados.csv\")\n",
    "df_pib"
   ]
  },
  {
   "cell_type": "code",
   "execution_count": 3,
   "metadata": {
    "id": "BO78an5eUQKR"
   },
   "outputs": [
    {
     "name": "stdout",
     "output_type": "stream",
     "text": [
      "<class 'pandas.core.frame.DataFrame'>\n",
      "RangeIndex: 513 entries, 0 to 512\n",
      "Data columns (total 10 columns):\n",
      " #   Column             Non-Null Count  Dtype \n",
      "---  ------             --------------  ----- \n",
      " 0   ano                513 non-null    int64 \n",
      " 1   sigla_uf           513 non-null    object\n",
      " 2   regiao             513 non-null    object\n",
      " 3   pib                513 non-null    int64 \n",
      " 4   impostos_liquidos  513 non-null    int64 \n",
      " 5   va                 513 non-null    int64 \n",
      " 6   va_agropecuaria    513 non-null    int64 \n",
      " 7   va_industria       513 non-null    int64 \n",
      " 8   va_servicos        513 non-null    int64 \n",
      " 9   va_adespss         513 non-null    int64 \n",
      "dtypes: int64(8), object(2)\n",
      "memory usage: 40.2+ KB\n"
     ]
    }
   ],
   "source": [
    "# Verificando os tipos de dados e se existem dados nulos\n",
    "df_pib.info()"
   ]
  },
  {
   "cell_type": "markdown",
   "metadata": {
    "id": "wWoSB0AUUQKR"
   },
   "source": [
    "Após visualizarmos de maneira rápida os dados que possuímos, vamos partir para as análises que podemos fazer com esses dados e quais os gráficos de composição vamos utilizar a fim de apresentar esse tipo de informação.\n",
    "\n",
    "### **Questionamentos**\n",
    "\n",
    "1.   Como está disposto o PIB nos estados brasileiros no ano de 2020? É possível notar os estados com maior e menor participação no PIB nacional?\n",
    "\n",
    "2. Houve uma significativa mudança na distribuição do PIB por região comparando os valores de 2002 e 2020?\n",
    "\n",
    "3. Qual a participação do estado de Minas Gerais no PIB de todo o Brasil no ano de 2020?\n",
    "\n",
    "4. Como está distribuído o PIB do estado da Bahia em 2020 separado por impostos líquidos e os valores adicionados brutos dos bens e serviços produzidos?\n",
    "\n",
    "5. Qual a evolução anual do PIB do estado do Rio de Janeiro entre os anos de 2010 a 2020?\n",
    "\n",
    "6. Como está distribuído o PIB nos 3 últimos quinquênios (lustro) dos dados (2010, 2015, 2020) na Região Sul do Brasil divididos pelos estados (Paraná, Santa Catarina e Rio Grande do Sul)?\n",
    "\n",
    "7. Como estão distribuídos, em porcentagem, os valores adicionados de bens e serviços descritos na base de dados em relação a cada região no ano de 2020?\n",
    "\n",
    "8. Na agropecuária, como estão distribuídos seus valores adicionados por região dentro do período da base dos dados (2002 - 2020)?\n",
    "\n"
   ]
  },
  {
   "cell_type": "markdown",
   "metadata": {
    "id": "vP-hC2RlZ-2x"
   },
   "source": [
    "## **1.3 - Problemas em um gráfico de pizza**\n",
    "\n",
    "---\n",
    "\n"
   ]
  },
  {
   "cell_type": "markdown",
   "metadata": {
    "id": "OGufZfA4lVnv"
   },
   "source": [
    "<img src=\"https://github.com/afonsosr2/dataviz-graficos-composicao-relacionamento/blob/main/imagens/Tipos_Graficos/Gr%C3%A1ficos%20de%20composi%C3%A7%C3%A3o%20(propor%C3%A7%C3%A3o%20dos%20dados).png?raw=true\" alt=\"inserir alt\" height=\"343\">\n",
    "\n",
    "\n",
    "<font size=2>Fonte: Andrew Abela (Extreme Presentation/Biuwer)</font>\n"
   ]
  },
  {
   "cell_type": "markdown",
   "metadata": {
    "id": "iSe6OeO-UQKR"
   },
   "source": [
    "### **Pergunta 1 -** Como está disposto o PIB nos estados brasileiros no ano de 2020? É possível notar os estados com maior e menor participação no PIB nacional?"
   ]
  },
  {
   "cell_type": "markdown",
   "metadata": {
    "id": "Ag4_2fwtUQKR"
   },
   "source": [
    "#### Tratando os dados para gerar a visualização"
   ]
  },
  {
   "cell_type": "code",
   "execution_count": 12,
   "metadata": {
    "id": "QKNryeg3UQKS"
   },
   "outputs": [
    {
     "data": {
      "text/html": [
       "<div>\n",
       "<style scoped>\n",
       "    .dataframe tbody tr th:only-of-type {\n",
       "        vertical-align: middle;\n",
       "    }\n",
       "\n",
       "    .dataframe tbody tr th {\n",
       "        vertical-align: top;\n",
       "    }\n",
       "\n",
       "    .dataframe thead th {\n",
       "        text-align: right;\n",
       "    }\n",
       "</style>\n",
       "<table border=\"1\" class=\"dataframe\">\n",
       "  <thead>\n",
       "    <tr style=\"text-align: right;\">\n",
       "      <th></th>\n",
       "      <th>pib</th>\n",
       "    </tr>\n",
       "    <tr>\n",
       "      <th>sigla_uf</th>\n",
       "      <th></th>\n",
       "    </tr>\n",
       "  </thead>\n",
       "  <tbody>\n",
       "    <tr>\n",
       "      <th>SP</th>\n",
       "      <td>2377638979835</td>\n",
       "    </tr>\n",
       "    <tr>\n",
       "      <th>RJ</th>\n",
       "      <td>753823710636</td>\n",
       "    </tr>\n",
       "    <tr>\n",
       "      <th>MG</th>\n",
       "      <td>682786116407</td>\n",
       "    </tr>\n",
       "    <tr>\n",
       "      <th>PR</th>\n",
       "      <td>487930593779</td>\n",
       "    </tr>\n",
       "    <tr>\n",
       "      <th>RS</th>\n",
       "      <td>470941846057</td>\n",
       "    </tr>\n",
       "  </tbody>\n",
       "</table>\n",
       "</div>"
      ],
      "text/plain": [
       "                    pib\n",
       "sigla_uf               \n",
       "SP        2377638979835\n",
       "RJ         753823710636\n",
       "MG         682786116407\n",
       "PR         487930593779\n",
       "RS         470941846057"
      ]
     },
     "execution_count": 12,
     "metadata": {},
     "output_type": "execute_result"
    }
   ],
   "source": [
    "# Criando um df com os dados desejados\n",
    "df_pib_2020 = df_pib.copy()\n",
    "df_pib_2020 = df_pib_2020.query('ano == 2020').set_index('sigla_uf').sort_values('pib', ascending=False)[['pib']]\n",
    "\n",
    "df_pib_2020.head()"
   ]
  },
  {
   "cell_type": "markdown",
   "metadata": {
    "id": "fbIAlL3aUQKS"
   },
   "source": [
    "#### Gerando o gráfico"
   ]
  },
  {
   "cell_type": "code",
   "execution_count": 13,
   "metadata": {
    "id": "b-qojclxUQKS"
   },
   "outputs": [
    {
     "data": {
      "image/png": "[encoded data removed]",
      "text/plain": [
       "<Figure size 600x600 with 1 Axes>"
      ]
     },
     "metadata": {},
     "output_type": "display_data"
    }
   ],
   "source": [
    "## Configurando o gráfico com parâmetros que potencializam a visualização dos dados\n",
    "\n",
    "# Importando as bibliotecas\n",
    "import matplotlib.pyplot as plt\n",
    "\n",
    "# Área do gráfico e tema da visualização\n",
    "fig, ax = plt.subplots(figsize=(6,6))\n",
    "\n",
    "# Gerando o gráfico de pizza\n",
    "ax.pie(\n",
    "    data=df_pib_2020,\n",
    "    x='pib',\n",
    "    labels=df_pib_2020.index,\n",
    "    autopct='%.1f%%',\n",
    "    radius=1.1,\n",
    "    pctdistance=0.8,\n",
    "    textprops={'size': 12},\n",
    ")\n",
    "\n",
    "# Personalizando o gráfico\n",
    "plt.suptitle('Produto Interno Bruto (PIB) por estado (2020)', size=18, color=CINZA1)\n",
    "plt.title('Em porcentagem (%)', fontsize=14, color=CINZA3, pad = 15, x = 0.1, y = 0.98 )\n",
    "\n",
    "# # Anotando uma conclusão no gráfico\n",
    "# ax.text(1.1, 0.5,\n",
    "#          'Um $\\\\bf{gráfico\\ de\\ pizza}$, consegue trazer a informação de\\n'\n",
    "#          'participação no PIB de forma direta, no entanto, percebemos\\n'\n",
    "#          'que o uso de $\\\\bf{muitas\\ fatias}$ atrapalham na análise dos\\n'\n",
    "#          'dados para estados com $\\\\bf{menor}$ parcela no PIB.\\n'\n",
    "#          'Além de gerar incômodo visualmente para quem lê.\\n\\n'\n",
    "#          'Percebemos que os estados de $\\\\bf{São\\ Paulo}$, $\\\\bf{Rio\\ de\\ Janeiro}$ e $\\\\bf{Minas\\ Gerais}$\\n'\n",
    "#          'possuem $\\\\bf{maior}$ participação no PIB nacional, porém, não conseguimos\\n'\n",
    "#          'precisar quais estados tem a menor e quanto seria em percentual.',\n",
    "#          fontsize=12,\n",
    "#          linespacing=1.45,\n",
    "#          color=CINZA3, transform= ax.transAxes)\n",
    "\n",
    "plt.show()"
   ]
  },
  {
   "cell_type": "markdown",
   "metadata": {
    "id": "bAc7JYv3UQKS"
   },
   "source": [
    "<font color=green size=4> Conclusões: </font>\n",
    "\n",
    "---\n",
    "\n",
    "Os gráficos de pizza são ideais para mostrar a relação das partes de um todo. Mas dependendo da quantidade de fatias ele dificulta a visualização dos dados. Entretanto, podemos aplicá-lo quando apresentamos composições de dados por meio de pequenas categorias, entre 2 a 5 fatias, ou quando queremos destacar apenas 1 valor frente a diversas categorias agrupando-as em uma só.\n",
    "\n",
    "Como você poderia passar a participação dos estados com menores valores de PIB? Seria por meio do gráfico de pizza ou outra visualização?"
   ]
  },
  {
   "cell_type": "markdown",
   "metadata": {
    "id": "p1X3B0y3pcQz"
   },
   "source": [
    "## **1.4 - Uso correto do gráfico de pizza**\n",
    "\n",
    "---\n",
    "\n",
    "\n"
   ]
  },
  {
   "cell_type": "markdown",
   "metadata": {
    "id": "mCZ4irjr8kte"
   },
   "source": [
    "### **Pergunta 2 -** Houve uma significativa mudança na distribuição do PIB por região comparando os valores de 2002 e 2020?"
   ]
  },
  {
   "cell_type": "markdown",
   "metadata": {
    "id": "GMqN-xAo8ktf"
   },
   "source": [
    "#### Tratando os dados para gerar a visualização"
   ]
  },
  {
   "cell_type": "code",
   "execution_count": null,
   "metadata": {
    "id": "iSx5_7hC8ktf"
   },
   "outputs": [],
   "source": [
    "# Criando um df com os dados desejados\n",
    "...\n",
    "...\n",
    "\n",
    "...\n",
    "...\n",
    "display(df_pib_2002, df_pib_2020)"
   ]
  },
  {
   "cell_type": "markdown",
   "metadata": {
    "id": "-WHWfNjJ8ktf"
   },
   "source": [
    "#### Gerando o gráfico"
   ]
  },
  {
   "cell_type": "code",
   "execution_count": null,
   "metadata": {
    "id": "L_mwB7808ktf"
   },
   "outputs": [],
   "source": [
    "## Configurando o gráfico com parâmetros que potencializam a visualização dos dados\n",
    "\n",
    "# Importando as bibliotecas\n",
    "import matplotlib.pyplot as plt\n",
    "\n",
    "# Área do gráfico e tema da visualização\n",
    "fig, axs = plt.subplots(1, 2, figsize=(14,6))\n",
    "\n",
    "# Definindo as cores do gráfico\n",
    "cores = [AZUL3, LARANJA1, AZUL5 , VERDE1, CINZA5]\n",
    "\n",
    "# Personalizando o gráfico\n",
    "plt.suptitle('Produto Interno Bruto (PIB) por região', fontsize=18, color=CINZA1, ha = 'right', x = 0.5, y = 1.05)\n",
    "\n",
    "# GRÁFICO 1 - PIB de 2002 por região\n",
    "...\n",
    "\n",
    "# # Título do Gráfico 1\n",
    "# axs[0].annotate(\"Em 2002\", xy=(50, 350), size =12, xycoords='axes points',\n",
    "#             bbox=dict(boxstyle=\"round\", fc=BRANCO, ec=CINZA3))\n",
    "\n",
    "# # Ajustando as cores das regiões relativas as fatias\n",
    "# for i, p in enumerate(ptc):\n",
    "#   text[i].set_color(p.get_facecolor())\n",
    "\n",
    "#######################################\n",
    "\n",
    "# GRÁFICO 2 - PIB de 2020 por região\n",
    "...\n",
    "\n",
    "# # Título do Gráfico 2\n",
    "# axs[1].annotate(\"Em 2020\", xy=(50, 350), size =12, xycoords='axes points',\n",
    "#             bbox=dict(boxstyle=\"round\", fc=BRANCO, ec=CINZA3))\n",
    "\n",
    "# # Ajustando as cores das regiões relativas as fatias\n",
    "# for i, p in enumerate(ptc):\n",
    "#   text[i].set_color(p.get_facecolor())\n",
    "\n",
    "#######################################\n",
    "\n",
    "# axs[0].annotate('A Região Sudeste foi a única que\\nreduziu a participação no PIB',\n",
    "#             xy=(180, 245), xycoords='axes points', xytext=(280, 295), textcoords='axes points',\n",
    "#             bbox=dict(boxstyle=\"round\", fc=BRANCO, ec=CINZA3),\n",
    "#             size=10, arrowprops=dict(arrowstyle=\"->\", fc=CINZA1, connectionstyle=\"arc,angleA=-90,angleB=0,armA=30,armB=30,rad=5\"))\n",
    "\n",
    "# axs[1].annotate('\\n\\n', xy=(140, 245), xycoords='axes points', xytext=(-50, 295), textcoords='axes points',\n",
    "#             size=10, arrowprops=dict(arrowstyle=\"->\", fc=CINZA1, connectionstyle=\"arc,angleA=-90,angleB=0,armA=30,armB=-30,rad=5\"))\n",
    "\n",
    "plt.show()"
   ]
  },
  {
   "cell_type": "markdown",
   "metadata": {
    "id": "OT73-kb78ktf"
   },
   "source": [
    "<font color=green size=4> Conclusões: </font>\n",
    "\n",
    "---\n",
    "\n",
    "Aqui notamos um uso correto de gráfico de pizza que trouxemos 5 fatias no total. Tecemos uma comparação entre dois períodos separadamente, visto que o gráfico de pizza representa composições estáticas.\n",
    "\n",
    "Podemos notar que apenas a região Sudeste recuou em participação no PIB no período que abrange 18 anos (2002 - 2020). Ou seja, foi possível notar que o PIB foi mais distribuído. Podemos perceber esse comportamento sem nem precisar analisar os dados absolutos, apenas os relativos.\n",
    "\n",
    "Como sugestão, podemos testar adicionando os valores absolutos do PIB das regiões ou fazer essa análise em uma região em específico como por exemplo, a região Sul do Brasil (3 estados apenas)."
   ]
  },
  {
   "cell_type": "markdown",
   "metadata": {
    "id": "juIMc2NawuH3"
   },
   "source": [
    "## **1.5 - Gráfico de rosca**\n",
    "\n",
    "---\n",
    "\n"
   ]
  },
  {
   "cell_type": "markdown",
   "metadata": {
    "id": "VrKVQK1zZfRd"
   },
   "source": [
    "### **Pergunta 3 -** Qual a participação do estado de Minas Gerais no PIB de todo o Brasil no ano de 2020?"
   ]
  },
  {
   "cell_type": "markdown",
   "metadata": {
    "id": "Srsoie6mZfRd"
   },
   "source": [
    "#### Tratando os dados para gerar a visualização"
   ]
  },
  {
   "cell_type": "code",
   "execution_count": null,
   "metadata": {
    "id": "Rbp44RtpZfRd"
   },
   "outputs": [],
   "source": [
    "# Criando um df com os dados desejados\n",
    "df_mg_2020 = df_pib.query(\"ano == 2020\")[[\"sigla_uf\", \"pib\"]]\n",
    "\n",
    "# Renomeando todos os estados como 'Outros' e mudando da sigla MG para Minas Gerais\n",
    "...\n",
    "...\n",
    "\n",
    "...\n",
    "df_mg_2020"
   ]
  },
  {
   "cell_type": "markdown",
   "metadata": {
    "id": "AYq7_n8OZfRd"
   },
   "source": [
    "#### Gerando o gráfico"
   ]
  },
  {
   "cell_type": "code",
   "execution_count": null,
   "metadata": {
    "id": "nmB0zhRoZfRd"
   },
   "outputs": [],
   "source": [
    "## Configurando o gráfico com parâmetros que potencializam a visualização dos dados\n",
    "\n",
    "# Importando as bibliotecas\n",
    "import matplotlib.pyplot as plt\n",
    "\n",
    "# Área do gráfico e tema da visualização\n",
    "fig, ax = plt.subplots(figsize=(6,6))\n",
    "\n",
    "# Definindo as cores do gráfico\n",
    "cores = [AZUL3, CINZA5]\n",
    "\n",
    "# Personalizando o gráfico\n",
    "plt.suptitle('PIB de Minas Gerais em relação ao Brasil em 2020', fontsize=18, color=CINZA1, ha = 'left', x = 0, y = 0.9)\n",
    "\n",
    "# Gerando o gráfico do PIB de 2020 de Minas Gerais em relação a todo Brasil\n",
    "...\n",
    "\n",
    "# # Ajustando as cores das regiões relativas as fatias\n",
    "# for i, p in enumerate(ptc):\n",
    "#   text[i].set_color(p.get_facecolor())\n",
    "\n",
    "plt.show()"
   ]
  },
  {
   "cell_type": "markdown",
   "metadata": {
    "id": "NMNebSXmZfRe"
   },
   "source": [
    "<font color=green size=4> Conclusões: </font>\n",
    "\n",
    "---\n",
    "\n",
    "O gráfico de rosca apresenta a melhor forma de utilizarmos os gráficos de pizza e rosca numa visualização: comparando dados binários ou dicotômicos. Aqui, fizemos a comparação do PIB de Minas Gerais em relação a todo o Brasil no ano de 2020.\n",
    "\n",
    "Como sugestão, podemos analisar o seu próprio estado ou aquele que tenha interesse em comparar com o Brasil inteiro ou até uma região pelo todo em um dado ano."
   ]
  },
  {
   "cell_type": "markdown",
   "metadata": {
    "id": "BGO9CiDvw2br"
   },
   "source": [
    "## **Para saber mais: Gráfico de árvore (Treemap)**\n",
    "\n",
    "---\n",
    "\n"
   ]
  },
  {
   "cell_type": "markdown",
   "metadata": {
    "id": "sCcQgdXUxXfK"
   },
   "source": [
    "Conseguiu descobrir uma forma de representar a participação dos estados com menores valores de PIB? Qual visualização você acha que seria ideal?\n",
    "\n",
    "Vamos recapitular a nossa 1ª pergunta e responder com um **gráfico de árvore**, mais conhecido como **Treemap**:\n",
    "\n",
    "*Como está disposto o PIB nos estados brasileiros no ano de 2020? É possível notar os estados com maior e menor participação no PIB nacional?*"
   ]
  },
  {
   "cell_type": "markdown",
   "metadata": {
    "id": "KxMFOm4Rww7o"
   },
   "source": [
    "#### Visualizando os dados"
   ]
  },
  {
   "cell_type": "code",
   "execution_count": null,
   "metadata": {
    "id": "yuD0uBMXxExB"
   },
   "outputs": [],
   "source": [
    "# Criando um df com os dados desejados\n",
    "pib_2020 = df_pib.copy()\n",
    "pib_2020 = pib_2020.query(\"ano == 2020\")[[\"regiao\", \"sigla_uf\", \"pib\"]]\n",
    "\n",
    "# Ajustando os valores do PIB para bilhões e ordenando pelo pib\n",
    "...\n",
    "\n",
    "# Gerando uma coluna para a porcentagem da representação de cada estado no PIB de 2020\n",
    "# e passando para 0 a 100 %\n",
    "...\n",
    "\n",
    "pib_2020.head()"
   ]
  },
  {
   "cell_type": "markdown",
   "metadata": {
    "id": "qGUzDeh_ww7p"
   },
   "source": [
    "#### Gerando o gráfico"
   ]
  },
  {
   "cell_type": "code",
   "execution_count": null,
   "metadata": {
    "id": "a42LyUwmww7p"
   },
   "outputs": [],
   "source": [
    "# Importando a biblioteca\n",
    "import plotly.express as px\n",
    "\n",
    "# Gerando o gráfico de árvore (TREEMAP) para os anos de 2015 a 2022\n",
    "...\n",
    "\n",
    "# # Ajustando o layout do gráfico\n",
    "# fig.update_layout(width=1400, height=600, margin = dict(t=50, l=0, r=0, b=25), font_family = 'DejaVu Sans',\n",
    "#                   font_size=14, font_color= CINZA2, title_font_color= CINZA1, title_font_size=24)\n",
    "\n",
    "# # Ajustando o hovertext\n",
    "# fig.update_traces(marker=dict(cornerradius=3), texttemplate='<b>%{label}</b>', hovertemplate='<b>Estado:</b> %{label} <br><b>Região</b> = %{customdata[0]} <br>'\n",
    "#                                                                                              '<b>PIB</b> = R$ %{customdata[1]} bi (%{value}%)')\n",
    "fig.show()"
   ]
  },
  {
   "cell_type": "markdown",
   "metadata": {
    "id": "XXqhzZNiww7p"
   },
   "source": [
    "<font color=green size=4> Conclusões: </font>\n",
    "\n",
    "---\n",
    "\n",
    "Um treemap é uma espécie de diagrama de árvore que utiliza retângulos dimensionados diferentemente para representar os valores numéricos para cada ramificação.\n",
    "\n",
    "Os treemaps respondem  sobre as proporções dos dados e a relação das categorias no total. Aqui separamos cada estado pela região (cores) e sua participação no pib (setores)."
   ]
  },
  {
   "cell_type": "markdown",
   "metadata": {
    "id": "NzC9mzrHhzW3"
   },
   "source": [
    "# **Aula 2 - Compondo dados estáticos**"
   ]
  },
  {
   "cell_type": "markdown",
   "metadata": {
    "id": "n1VvSCOeyI4w"
   },
   "source": [
    "<img src=\"https://github.com/afonsosr2/dataviz-graficos-composicao-relacionamento/blob/184cef2649b20ac20bb2d3dfe4e73cd4d38249cc/imagens/Tipos_Graficos/Gr%C3%A1ficos%20de%20composi%C3%A7%C3%A3o%20(compondo%20dados%20estaticos%20e%20din%C3%A2micos).png?raw=true\" alt=\"inserir alt\" height=\"343\">\n",
    "\n",
    "\n",
    "<font size=2>Fonte: Andrew Abela (Extreme Presentation/Biuwer)</font>\n"
   ]
  },
  {
   "cell_type": "markdown",
   "metadata": {
    "id": "nSkpelMIsivz"
   },
   "source": [
    "## **2.1 - Gráfico de cascata simples**\n",
    "\n",
    "---\n",
    "\n"
   ]
  },
  {
   "cell_type": "markdown",
   "metadata": {
    "id": "jG3xTIBYscd1"
   },
   "source": [
    "### **Pergunta 4 -** Como está distribuído o PIB do estado da Bahia em 2020 separado por impostos líquidos e os valores adicionados brutos dos bens e serviços produzidos?"
   ]
  },
  {
   "cell_type": "markdown",
   "metadata": {
    "id": "G1Rd-o0uscd2"
   },
   "source": [
    "#### Tratando os dados para gerar a visualização"
   ]
  },
  {
   "cell_type": "code",
   "execution_count": null,
   "metadata": {
    "id": "MBPx8bOnscd3"
   },
   "outputs": [],
   "source": [
    "...\n",
    "bahia.rename(columns = {\"pib\":\"PIB\", \"impostos_liquidos\": \"Impostos Líquidos\", \"va\":\"Valor Adicionado Bruto\"}, inplace=True)\n",
    "bahia"
   ]
  },
  {
   "cell_type": "code",
   "execution_count": null,
   "metadata": {
    "id": "kuvCo-wYscd4"
   },
   "outputs": [],
   "source": [
    "# Criando um df com os dados desejados\n",
    "...\n",
    "...\n",
    "...\n",
    "...\n",
    "\n",
    "bahia"
   ]
  },
  {
   "cell_type": "markdown",
   "metadata": {
    "id": "gczjrv2Yscd5"
   },
   "source": [
    "#### Gerando o gráfico"
   ]
  },
  {
   "cell_type": "code",
   "execution_count": null,
   "metadata": {
    "id": "3i5xQWXBscd5"
   },
   "outputs": [],
   "source": [
    "## Configurando o gráfico com parâmetros que potencializam a visualização dos dados\n",
    "\n",
    "# Importando as bibliotecas\n",
    "import plotly.graph_objects as go\n",
    "\n",
    "# Gerando o gráfico de cascata\n",
    "fig = go.Figure( go.Waterfall(name = \"\", orientation = \"v\", measure = bahia[\"Medidas\"],\n",
    "                             x = bahia[\"Indicadores\"],  y = bahia[\"Valores\"],\n",
    "                             text = bahia[\"Valores_str\"], textposition = \"outside\",\n",
    "                             connector_line = dict(color = CINZA3),\n",
    "                             totals_marker = dict(color = AZUL3),\n",
    "                             decreasing_marker = dict(color = VERMELHO1)\n",
    "                             )\n",
    "              )\n",
    "\n",
    "# # Personalizando o gráfico\n",
    "# fig.update_layout(width=1000, height=500, font_family = 'DejaVu Sans', font_size=15,\n",
    "#                   font_color= CINZA2, title_font_color= CINZA1, title_font_size=24,\n",
    "#                   title_text='Distribuição do Produto Interno Bruto (PIB) da Bahia em 2020' +\n",
    "#                              '<br><sup size=1 style=\"color:#555655\">Impostos líquidos e Valores ' +\n",
    "#                               'Adicionados Brutos de bens e serviços (em bilhões de reais)</sup>',\n",
    "#                   title_pad_l = 50, plot_bgcolor= BRANCO, yaxis_range=[0,380e9], hovermode=\"closest\")\n",
    "\n",
    "# # Retirando os ticks do eixo y\n",
    "# fig.update_yaxes(showticklabels=False)\n",
    "\n",
    "# # Dados ao passar o mouse\n",
    "# fig.update_traces(hovertemplate = \"<b>%{x}</b> = %{text}\")\n",
    "\n",
    "# fig.add_annotation(text='Fonte dos dados: <a href=\"https://sidra.ibge.gov.br/pesquisa/pib-munic/tabelas\">Produto Interno Bruto | IBGE</a>',\n",
    "#                    align=\"left\", xref=\"paper\", yref = \"paper\", x=1, y=-0.2, showarrow=False)\n",
    "\n",
    "fig.show()"
   ]
  },
  {
   "cell_type": "markdown",
   "metadata": {
    "id": "bC-BzT5dscd8"
   },
   "source": [
    "<font color=green size=4> Conclusões: </font>\n",
    "\n",
    "---\n",
    "\n",
    "Um gráfico de cascata é aplamente utilizado em dados econômicos e financeiros por sua natureza de representar de maneira simples e direta a acumulação e /ou subtração do total em determinado período ou em diferentes categorias.\n",
    "\n",
    "Como sugestão, podemos analisar esses valores do seu próprio estado ou até separar os valores adicionados por tipo de serviço mostrando a agregação de cada um.\n",
    "\n",
    "**Observação:** Para auxiliar na compreensão do gráfico, os bens e serviços finais que compõem o PIB são medidos no preço em que chegam ao consumidor. Dessa forma, levam em consideração também os impostos sobre os produtos comercializados."
   ]
  },
  {
   "cell_type": "markdown",
   "metadata": {
    "id": "RykpKIOwxwMr"
   },
   "source": [
    "## **2.2 - Adicionando mais acréscimos/decréscimos**\n",
    "\n",
    "---\n",
    "\n"
   ]
  },
  {
   "cell_type": "markdown",
   "metadata": {
    "id": "dYmDjVM0J07p"
   },
   "source": [
    "### **Pergunta 5 -** Qual a evolução anual do PIB do estado do Rio de Janeiro entre os anos de 2010 a 2020?"
   ]
  },
  {
   "cell_type": "markdown",
   "metadata": {
    "id": "uLZzjFG5J07q"
   },
   "source": [
    "#### Tratando os dados para gerar a visualização"
   ]
  },
  {
   "cell_type": "code",
   "execution_count": null,
   "metadata": {
    "id": "OJe_MbizJ07r"
   },
   "outputs": [],
   "source": [
    "# Selecionando os dados do RJ\n",
    "anos = ...\n",
    "rio = df_pib.query(\"sigla_uf == 'RJ' and ano == @anos\")[[\"ano\", \"pib\"]]\n",
    "rio = rio.reset_index(drop=True)\n",
    "rio"
   ]
  },
  {
   "cell_type": "code",
   "execution_count": null,
   "metadata": {
    "id": "HTXk2FnSJ07s"
   },
   "outputs": [],
   "source": [
    "# Gerando uma coluna com a variação do pib e passando o valor\n",
    "# do PIB inicial para a 1ª linha da variação pib\n",
    "...\n",
    "\n",
    "# Gerando uma coluna com as Medidas para o gráfico de cascata\n",
    "...\n",
    "\n",
    "rio.head()"
   ]
  },
  {
   "cell_type": "code",
   "execution_count": null,
   "metadata": {
    "id": "6l4asAE9W5_q"
   },
   "outputs": [],
   "source": [
    "# Gerando uma observação com a atualização da última linha com o PIB total de 2020\n",
    "atualizacao = pd.Series({'ano': 'Total',\n",
    "                         'pib': rio[\"pib\"].values[-1],\n",
    "                         'variacao_pib': rio[\"pib\"].values[-1],\n",
    "                         'Medidas': \"total\"}).to_frame().T\n",
    "\n",
    "# Concatenando o df com a atualização e retirando a coluna pib\n",
    "...\n",
    "...\n",
    "\n",
    "# Ajustando a formatação do PIB e renomeando colunas\n",
    "rio[\"variacao_pib_texto\"] = (rio[\"variacao_pib\"]/1e9).map('R$ {:,.2f} Bi'.format)\n",
    "rio.rename(columns = {\"ano\":\"Ano\", \"variacao_pib\": \"Variação do PIB\", \"variacao_pib_texto\":\"Variação do PIB (em texto)\"}, inplace=True)\n",
    "rio"
   ]
  },
  {
   "cell_type": "markdown",
   "metadata": {
    "id": "WyAcgUzyJ07s"
   },
   "source": [
    "#### Gerando o gráfico"
   ]
  },
  {
   "cell_type": "code",
   "execution_count": null,
   "metadata": {
    "id": "zpx0MROkJ07t"
   },
   "outputs": [],
   "source": [
    "## Configurando o gráfico com parâmetros que potencializam a visualização dos dados\n",
    "\n",
    "# Importando as bibliotecas\n",
    "import plotly.graph_objects as go\n",
    "import numpy as np\n",
    "\n",
    "# Gerando o gráfico de cascata\n",
    "fig = go.Figure(\n",
    "                go.Waterfall(name = \"\", orientation = \"v\", measure = rio[\"Medidas\"],\n",
    "                             y = rio[\"Variação do PIB\"], text = rio[\"Variação do PIB (em texto)\"],\n",
    "                             textposition = \"outside\",\n",
    "                             connector_line = dict(color = CINZA3),\n",
    "                             totals_marker = dict(color = AZUL3),\n",
    "                             increasing_marker = dict(color = VERDE1),\n",
    "                             decreasing_marker = dict(color = VERMELHO1)\n",
    "                             )\n",
    "                )\n",
    "\n",
    "# # Personalizando o gráfico\n",
    "# fig.update_layout(width=1300, height=600, font_family = 'DejaVu Sans', font_size=15,\n",
    "#                   font_color= CINZA2, title_font_color= CINZA1, title_font_size=24,\n",
    "#                   title_text='Variação do Produto Interno Bruto (PIB) do Rio de Janeiro' +\n",
    "#                              '<br><sup size=1 style=\"color:#555655\">De 2010 a 2020 (em bilhões de reais)</sup>',\n",
    "#                   plot_bgcolor= BRANCO, yaxis_range=[0,850e9])\n",
    "\n",
    "# # Retirando os ticks do eixo y\n",
    "# fig.update_yaxes(showticklabels=False)\n",
    "\n",
    "# # Ajustando o eixo x para receber o Total\n",
    "# fig.update_xaxes(tickmode='array', tickvals=np.arange(0,12), ticktext=rio[\"Ano\"])\n",
    "\n",
    "# # Dados ao passar o mouse\n",
    "# fig.update_traces(hovertemplate = \"<b>%{x}</b> = %{text}\")\n",
    "\n",
    "# fig.add_annotation(text=\"O <b>Rio de Janeiro</b> apresentou recuo no PIB<br>em pelo menos 3 anos no período:<br>2015, 2016 e 2020\",\n",
    "#                    align=\"left\", axref = 'x', ayref='y', x=5, y=600e9, ax=8, ay=450e9,\n",
    "#                    arrowhead=1, arrowside = \"start\", showarrow=True, arrowwidth=2, arrowcolor=CINZA3,\n",
    "#                    bordercolor= CINZA3, borderwidth=1, borderpad=4)\n",
    "# fig.add_annotation(text=\"\", axref = 'x', ayref='y', x=6, y=600e9, ax=8, ay=530e9,\n",
    "#                    arrowhead=1, arrowside = \"start\", showarrow=True, arrowwidth=2, arrowcolor=CINZA3)\n",
    "# fig.add_annotation(text=\"\", axref = 'x', ayref='y', x=10, y=710e9, ax=8.5, ay=530e9,\n",
    "#                    arrowhead=1, arrowside = \"start\", showarrow=True, arrowwidth=2, arrowcolor=CINZA3)\n",
    "\n",
    "fig.show()"
   ]
  },
  {
   "cell_type": "markdown",
   "metadata": {
    "id": "8EZIMX7uJ07u"
   },
   "source": [
    "<font color=green size=4> Conclusões: </font>\n",
    "\n",
    "---\n",
    "\n",
    "Neste exemplo, o gráfico de cascata foi utlilizado para mostrar a evolução do PIB de um estado ano após ano partindo do valor inicial (ano de 2010) até o final (ano de 2020, representado pela coluna Total). É possível notar acréscimos e descréscimos ao longo do tempo, representados pelas cores verde e vermelho, respectivamente.\n",
    "\n",
    "Como sugestão, podemos analisar a evolução do PIB do seu próprio estado ou de uma região de interesse."
   ]
  },
  {
   "cell_type": "markdown",
   "metadata": {
    "id": "mNDGtWAqIS6C"
   },
   "source": [
    "# **Aula 3 - Compondo dados dinâmicos**"
   ]
  },
  {
   "cell_type": "markdown",
   "metadata": {
    "id": "g3kOpf2hIS6D"
   },
   "source": [
    "<img src=\"https://github.com/afonsosr2/dataviz-graficos-composicao-relacionamento/blob/184cef2649b20ac20bb2d3dfe4e73cd4d38249cc/imagens/Tipos_Graficos/Gr%C3%A1ficos%20de%20composi%C3%A7%C3%A3o%20(compondo%20dados%20estaticos%20e%20din%C3%A2micos).png?raw=true\" alt=\"inserir alt\" height=\"343\">\n",
    "\n",
    "\n",
    "<font size=2>Fonte: Andrew Abela (Extreme Presentation/Biuwer)</font>\n"
   ]
  },
  {
   "cell_type": "markdown",
   "metadata": {
    "id": "vF3ePz1ByEiu"
   },
   "source": [
    "## **3.1 - Colunas agrupadas x empilhadas**\n",
    "\n",
    "---\n",
    "\n"
   ]
  },
  {
   "cell_type": "markdown",
   "metadata": {
    "id": "HzhhB4-TeRXq"
   },
   "source": [
    "### **Pergunta 6 -** Como está distribuído o PIB nos 3 últimos quinquênios (lustro) dos dados (2010, 2015, 2020) na Região Sul do Brasil divididos pelos estados (Paraná, Santa Catarina e Rio Grande do Sul)?"
   ]
  },
  {
   "cell_type": "markdown",
   "metadata": {
    "id": "AdhrRcWbeRXr"
   },
   "source": [
    "#### Tratando os dados para gerar a visualização"
   ]
  },
  {
   "cell_type": "code",
   "execution_count": null,
   "metadata": {
    "id": "v4EVCF10hiY7"
   },
   "outputs": [],
   "source": [
    "# Selecionando os dados da região Sul do Brasil\n",
    "anos = ...\n",
    "pib_sul = df_pib.query(\"regiao == 'Sul' and ano == @anos\")[[\"ano\", \"sigla_uf\", \"pib\"]]\n",
    "pib_sul[\"pib\"] = (pib_sul[\"pib\"] / 1e9).round(2)\n",
    "pib_sul = pib_sul.reset_index(drop=True)\n",
    "pib_sul"
   ]
  },
  {
   "cell_type": "code",
   "execution_count": null,
   "metadata": {
    "id": "eABnofHchiY8"
   },
   "outputs": [],
   "source": [
    "# Criando uma tabela cruzada (crosstab) com os valores de venda de cada ano por região\n",
    "...\n",
    "...\n",
    "pib_sul_cross"
   ]
  },
  {
   "cell_type": "markdown",
   "metadata": {
    "id": "fkEmKm8BKOUN"
   },
   "source": [
    "#### Gerando o gráfico"
   ]
  },
  {
   "cell_type": "code",
   "execution_count": null,
   "metadata": {
    "id": "R1yf2iAuhiY8"
   },
   "outputs": [],
   "source": [
    "## Configurando o gráfico com parâmetros que potencializam a visualização dos dados\n",
    "\n",
    "# Importando as bibliotecas\n",
    "import matplotlib.pyplot as plt\n",
    "import seaborn as sns\n",
    "\n",
    "# Área do gráfico e tema da visualização\n",
    "fig, axs = plt.subplots(1, 2, figsize=(16,6))\n",
    "sns.set_theme(style=\"white\")\n",
    "\n",
    "# Definindo as cores do gráfico\n",
    "cores = [AZUL6, VERDE3, VERMELHO2]\n",
    "\n",
    "# Personalizando o Título superior\n",
    "fig.suptitle(\"Distribuição do PIB na região Sul do Brasil por quinquênio (2010 - 2020)\",\n",
    "             fontsize=18, color=CINZA1, ha = 'right', x = 0.66, y = 1.05)\n",
    "\n",
    "# GRÁFICO 1 - Gráfico de colunas agrupadas\n",
    "...\n",
    "\n",
    "# axs[0].set_title('Em bilhões de reais\\n', color = CINZA3, loc = \"left\")\n",
    "# axs[0].set_xlabel('')\n",
    "# axs[0].set_ylabel('')\n",
    "# axs[0].xaxis.set_tick_params(labelsize=14, color = CINZA2)\n",
    "# axs[0].yaxis.set_tick_params(labelsize=14, color = CINZA2)\n",
    "# axs[0].set_frame_on(False)\n",
    "\n",
    "# Remover a legenda e colocar grids no eixo y\n",
    "# axs[0].legend().remove()\n",
    "# axs[0].yaxis.grid(linestyle='--', linewidth=1)\n",
    "\n",
    "#######################################\n",
    "\n",
    "# GRÁFICO 2 - Gráfico de colunas empilhadas 100 %\n",
    "...\n",
    "\n",
    "# axs[1].set_title('Em porcentagem\\n', color = CINZA3, loc = \"left\")\n",
    "# axs[1].set_xlabel('')\n",
    "# axs[1].set_ylabel('')\n",
    "# axs[1].set_yticklabels([])\n",
    "# axs[1].xaxis.set_tick_params(labelsize=14, color = CINZA2, labelrotation = 0)\n",
    "# axs[1].set_frame_on(False)\n",
    "\n",
    "# # Adicionar a legenda entre os dois gráficos\n",
    "# axs[1].legend(bbox_to_anchor=(-0.005, 1), title='Estado', title_fontsize  = 12, fontsize = 12)\n",
    "\n",
    "# # Adicionando os valores dentro da coluna\n",
    "# for container in axs[1].containers:\n",
    "#     labels = [f'{valor.get_height()*100:.0f}%' for valor in container]\n",
    "#     axs[1].bar_label(container, label_type='center', labels = labels, size = 11, color = CINZA3, fontweight = \"bold\")\n",
    "\n",
    "#######################################\n",
    "\n",
    "plt.show()"
   ]
  },
  {
   "cell_type": "markdown",
   "metadata": {
    "id": "_VzWByW5eRXx"
   },
   "source": [
    "<font color=green size=4> Conclusões: </font>\n",
    "\n",
    "---\n",
    "\n",
    "Neste exemplo, apresentamos as diferenças entre colunas agrupadas e empilhadas. A 1ª reflete os valores absolutos do PIB em cada estado da Região Sul por quinquênio (lustro), já a 2ª representa os valores relativos compilados ano a ano da região como um todo.\n"
   ]
  },
  {
   "cell_type": "markdown",
   "metadata": {
    "id": "nZRaxGNlZIiC"
   },
   "source": [
    "## **3.2 - Gráfico de barras empilhadas**\n",
    "\n",
    "---\n",
    "\n"
   ]
  },
  {
   "cell_type": "markdown",
   "metadata": {
    "id": "lkRGyuqXcOrL"
   },
   "source": [
    "### **Pergunta 7 -** Como estão distribuídos, em porcentagem, os valores adicionados de bens e serviços descritos na base de dados em relação a cada região no ano de 2020?"
   ]
  },
  {
   "cell_type": "markdown",
   "metadata": {
    "id": "xOXJs9GLcOrM"
   },
   "source": [
    "#### Tratando os dados para gerar a visualização"
   ]
  },
  {
   "cell_type": "code",
   "execution_count": null,
   "metadata": {
    "id": "rV0AYi0NcOrN"
   },
   "outputs": [],
   "source": [
    "# Selecionando os dados desejados\n",
    "df_va_separado = df_pib.query(\"ano == 2020\")[[\"regiao\", \"va_servicos\", \"va_industria\", \"va_adespss\", \"va_agropecuaria\"]]\n",
    "df_va_separado = df_va_separado.reset_index(drop=True)\n",
    "df_va_separado.head()"
   ]
  },
  {
   "cell_type": "code",
   "execution_count": null,
   "metadata": {
    "id": "BEDyumW5cOrO"
   },
   "outputs": [],
   "source": [
    "# Agrupando os dados por região\n",
    "...\n",
    "\n",
    "# Normalizando os dados de cada região\n",
    "...\n",
    "...\n",
    "df_va_separado"
   ]
  },
  {
   "cell_type": "markdown",
   "metadata": {
    "id": "HdQTXUnvKQ9q"
   },
   "source": [
    "#### Gerando o gráfico"
   ]
  },
  {
   "cell_type": "code",
   "execution_count": null,
   "metadata": {
    "id": "CDWF8Ne_dKnH"
   },
   "outputs": [],
   "source": [
    "# Gerando a função para criar o gráfico de barras empilhadas\n",
    "\n",
    "def grafico_va():\n",
    "  # Importando as bibliotecas\n",
    "  import matplotlib.pyplot as plt\n",
    "\n",
    "  # Área do gráfico e tema da visualização\n",
    "  fig, ax = plt.subplots(figsize=(10,7))\n",
    "\n",
    "  # Definindo as cores do gráfico\n",
    "  cores = [AZUL3, LARANJA1, CINZA5, VERDE3]\n",
    "\n",
    "  # Gerando o gráfico de barras empilhadas 100%\n",
    "  ...\n",
    "\n",
    "  # ## Personalizando o gráfico\n",
    "  # plt.suptitle('Valores adicionados de bens e serviços do PIB brasileiro em 2020', size=18, color=CINZA1, ha = 'right', x = 0.8, y = 1.01)\n",
    "  # plt.title('Em distribuição dos setores por região (%)\\n', fontsize=14, color=CINZA3, pad = 15, ha = \"right\", x = 0.35)\n",
    "  # ax.legend(bbox_to_anchor=(1, 1), bbox_transform=ax.transAxes, fontsize = 10, loc='upper left', )\n",
    "  # ax.set_ylabel('')\n",
    "  # ax.set_xticklabels([])\n",
    "  # ax.yaxis.set_tick_params(labelsize=14, color = CINZA2)\n",
    "  # ax.set_frame_on(False)\n",
    "\n",
    "  # # Valores das barras\n",
    "  # for container in ax.containers:\n",
    "  #     labels = [f'{valor.get_width()*100:.0f}%' for valor in container]\n",
    "  #     ax.bar_label(container, label_type='center', labels = labels, size = 10, color = CINZA2, fontweight='bold')\n",
    "\n",
    "  return ax, cores\n",
    "\n",
    "ax, cores = grafico_va()"
   ]
  },
  {
   "cell_type": "markdown",
   "metadata": {
    "id": "sNHJI5BWZVgP"
   },
   "source": [
    "## **3.3 - Anotações e legenda de dados**\n",
    "\n",
    "---\n",
    "\n"
   ]
  },
  {
   "cell_type": "markdown",
   "metadata": {
    "id": "cjzmS_G7brRI"
   },
   "source": [
    "Vamos trabalhar com uma função para escrita de texto utilizando diferentes cores.\n",
    "\n",
    "> (Adaptada de https://github.com/empathy87/storytelling-with-data)\n",
    "\n"
   ]
  },
  {
   "cell_type": "code",
   "execution_count": null,
   "metadata": {
    "id": "Z30pd_ZmdKnG"
   },
   "outputs": [],
   "source": [
    "# Função para escrita de texto utilizando diferentes cores. Não existe uma\n",
    "# função nativa para isso. (Adaptado de https://github.com/empathy87/storytelling-with-data)\n",
    "from matplotlib import transforms\n",
    "\n",
    "def texto_colorido(x, y, texto, cores, esp=20, ax=None, **kw):\n",
    "    cores = list(reversed(cores))\n",
    "    t = ax.transData\n",
    "    canvas = ax.figure.canvas\n",
    "\n",
    "    for i, linha in enumerate(reversed(texto.split('\\n'))):\n",
    "        frases = linha.split('||')\n",
    "        for s, cor in zip(frases, cores[i]):\n",
    "            texto = ax.text(x, y, s, color=cor, transform=t, **kw)\n",
    "            texto.draw(canvas.get_renderer())\n",
    "            ex = texto.get_window_extent()\n",
    "            t = transforms.offset_copy(texto._transform, x=ex.width,\n",
    "                                       units='dots')\n",
    "\n",
    "        t = transforms.offset_copy(ax.transData, x=0, y=(i + 1) * esp, units='dots')"
   ]
  },
  {
   "cell_type": "code",
   "execution_count": null,
   "metadata": {
    "id": "iIv0XOduZ5TT"
   },
   "outputs": [],
   "source": [
    "## Configurando o gráfico com parâmetros que potencializam a visualização dos dados\n",
    "\n",
    "# Gerando o gráfico de barras empilhadas e salvando as cores que vamos utilizar no texto\n",
    "...\n",
    "\n",
    "## Trabalhando com o texto colorido para legenda e anotações\n",
    "\n",
    "# # legenda das barras\n",
    "# ax.legend().remove()    # remover legenda padrão da visualização\n",
    "# texto_colorido(0, 4.4, '$\\\\bf{Serviços}$ || | || $\\\\bf{Indústria}$ || | || $\\\\bf{ADESPSS}$ || | || $\\\\bf{Agropecuária}$',\n",
    "#                cores = [[cores[0], CINZA3, cores[1], CINZA3, cores[2], CINZA3, cores[3]]], ax=ax, fontsize=12)\n",
    "\n",
    "# # Anotando uma conclusão no gráfico\n",
    "# texto_colorido(\n",
    "#     1.05, 2,                                                             # coordenadas\n",
    "#     'O setor de ||$\\\\bf{serviços}$|| corresponde a maior fatia\\n'        # texto\n",
    "#     'do PIB em todas as regiões. Na Região ||$\\\\bf{Sudeste}$||,\\n'\n",
    "#     'ele representa ||$\\\\bf{mais\\ de\\ 60\\%}$|| do PIB frente a outros setores.\\n'\n",
    "#     '\\n'\n",
    "#     'O setor de ||$\\\\bf{ADESPSS\\ (Administração,\\ Defesa,\\ Educação,}$\\n'\n",
    "#     '$\\\\bf{Saúde\\ Pública\\ e\\ Seguridade\\ Social)}$|| é o ||$\\\\bf{2º\\ mais\\ relevante}$||\\n'\n",
    "#     'no PIB da Região ||$\\\\bf{Nordeste}$||.\\n'\n",
    "#     '\\n'\n",
    "#     'O setor com menor participação é o da ||$\\\\bf{agropecuária}$||.\\n'\n",
    "#     'Na Região ||$\\\\bf{Centro-Oeste}$|| ele praticamente empata com\\n'\n",
    "#     'o setor da ||$\\\\bf{indústria}$|| em peso na região.',\n",
    "#     [[CINZA3, AZUL3, CINZA3],         # linha 1                          # cores\n",
    "#      [CINZA3, CINZA1, CINZA3],        # linha 2\n",
    "#      [CINZA3, CINZA1, CINZA3],        # linha 3\n",
    "#      [CINZA3],                        # linha 4\n",
    "#      [CINZA3, CINZA5],                # linha 5\n",
    "#      [CINZA5, CINZA3, CINZA1],        # linha 6\n",
    "#      [CINZA3, CINZA1, CINZA3],        # linha 7\n",
    "#      [CINZA3],                        # linha 8\n",
    "#      [CINZA3, VERDE3, CINZA3],        # linha 9\n",
    "#      [CINZA3, CINZA1, CINZA3],        # linha 10\n",
    "#      [CINZA3, LARANJA1, CINZA3]       # linha 11\n",
    "#     ],\n",
    "#     esp=22,         # espaçamento\n",
    "#     ax=ax,          # figura onde desenhar o texto\n",
    "#     fontsize=12)\n",
    "\n",
    "fig.show()"
   ]
  },
  {
   "cell_type": "markdown",
   "metadata": {
    "id": "42OU6GlYcOrQ"
   },
   "source": [
    "<font color=green size=4> Conclusões: </font>\n",
    "\n",
    "---\n",
    "\n",
    "As barras empilhadas são extremamente úteis para representação dos dados em pequenos períodos e quando desejamos comparar diferenças absolutas e relativas ou apenas relativas (como no exemplo acima).\n",
    "\n",
    "Como sugestão, podemos analisar a composição dos dados em relação aos setores de uma dada região, separada pelos estados.\n"
   ]
  },
  {
   "cell_type": "markdown",
   "metadata": {
    "id": "u4daHAtucvyL"
   },
   "source": [
    "# **Aula 4 - Investigando a variação dos dados**"
   ]
  },
  {
   "cell_type": "markdown",
   "metadata": {
    "id": "ci5ZaATmcyee"
   },
   "source": [
    "<img src=\"https://github.com/afonsosr2/dataviz-graficos-composicao-relacionamento/blob/0e8022ffd2961343138edb39ce1226c55502423d/imagens/Tipos_Graficos/Gr%C3%A1ficos%20de%20composi%C3%A7%C3%A3o%20(investigando%20variacao).png?raw=true\" alt=\"inserir alt\" height=\"343\">\n",
    "\n",
    "\n",
    "<font size=2>Fonte: Andrew Abela (Extreme Presentation/Biuwer)</font>\n"
   ]
  },
  {
   "cell_type": "markdown",
   "metadata": {
    "id": "y4nQ5kYxOXl8"
   },
   "source": [
    "## **4.1 - Gráfico de áreas**\n",
    "\n",
    "---\n",
    "\n"
   ]
  },
  {
   "cell_type": "markdown",
   "metadata": {
    "id": "YW24pMN0Ki6d"
   },
   "source": [
    "### **Pergunta 8 -** Na agropecuária, como estão distribuídos seus valores adicionados por região dentro do período da base dos dados (2002 - 2020)?"
   ]
  },
  {
   "cell_type": "markdown",
   "metadata": {
    "id": "CItml9JhKi6d"
   },
   "source": [
    "#### Tratando os dados para gerar a visualização"
   ]
  },
  {
   "cell_type": "code",
   "execution_count": null,
   "metadata": {
    "id": "TlZzFV3KKi6d"
   },
   "outputs": [],
   "source": [
    "# Selecionando os dados desejados\n",
    "df_agro = df_pib.copy()\n",
    "df_agro = df_agro[[\"regiao\",  \"ano\", \"va_agropecuaria\"]]\n",
    "\n",
    "# Agrupando os dados por região\n",
    "df_agro = pd.crosstab(index = df_agro.ano, columns = df_agro.regiao,\n",
    "                      values = df_agro.va_agropecuaria, aggfunc=\"sum\")\n",
    "df_agro = (df_agro / 1e9).round(2)\n",
    "\n",
    "df_agro.head()"
   ]
  },
  {
   "cell_type": "markdown",
   "metadata": {
    "id": "qtk1QwX1Ki6e"
   },
   "source": [
    "#### Gerando o gráfico"
   ]
  },
  {
   "cell_type": "code",
   "execution_count": null,
   "metadata": {
    "id": "bjBKP560Ki6e"
   },
   "outputs": [],
   "source": [
    "## Configurando o gráfico com parâmetros que potencializam a visualização dos dados\n",
    "\n",
    "# Importando as bibliotecas\n",
    "import matplotlib.pyplot as plt\n",
    "\n",
    "# Área do gráfico e tema da visualização\n",
    "fig, ax = plt.subplots(figsize=(14,7))\n",
    "\n",
    "# Definindo as cores do gráfico\n",
    "cores = [VERDE3, VERMELHO2, AZUL3, LARANJA1, CINZA4]\n",
    "\n",
    "# Gerando o gráfico de barras empilhadas 100%\n",
    "...\n",
    "\n",
    "# ## Personalizando o gráfico\n",
    "# ax.set_title('PIB relativo à agropecuária nas regiões do Brasil', fontsize = 18, color = CINZA1, loc='left')\n",
    "# ax.text(0.29, 0.98, \"De 2002 a 2020 (em bilhões de reais)\", transform=ax.transAxes, color= CINZA3, fontsize=12, ha='right', va='center')\n",
    "# ax.set_ylabel('')\n",
    "# ax.xaxis.set_tick_params(labelsize=14, color = CINZA2)\n",
    "# ax.legend().remove()\n",
    "# ax.set_frame_on(False)\n",
    "\n",
    "# # Anotando os nomes das regiões\n",
    "# reg = list(reversed(df_agro.columns))\n",
    "# cor = list(reversed(cores))\n",
    "# for i in range(len(reg)):\n",
    "#   ax.text(0.97, (0.67 - i/7), f'{reg[i]}', fontsize=14, color = cor[i], transform=ax.transAxes)\n",
    "\n",
    "# ## Ajustes no eixo y\n",
    "# # Descrevendo o limite mínimo e máximo do eixo y e escondendo o eixo\n",
    "# plt.ylim(0, 500)\n",
    "# ax.get_yaxis().set_visible(False)\n",
    "\n",
    "# # remover todos os ticks do eixo x e y\n",
    "# ax.tick_params(axis='both', which='both', length=0)\n",
    "\n",
    "# # Destacando os valores de 4 em 4 anos e no ano de 2020\n",
    "# agregado_ano = list(df_agro.sum(axis=1).round(2))\n",
    "# for i in range(0, len(df_agro.index), 4):\n",
    "#   ax.text(x = df_agro.index[i], y = agregado_ano[i] + 20, s = f\"{agregado_ano[i]} Bi\", color = CINZA3, weight = \"bold\", fontsize = 10, ha=\"center\")\n",
    "# ax.text(x = df_agro.index[-1], y = agregado_ano[-1] + 20, s = f\"{agregado_ano[-1]} Bi\", color = CINZA3, weight = \"bold\", fontsize = 10, ha=\"center\")\n",
    "\n",
    "plt.show()"
   ]
  },
  {
   "cell_type": "markdown",
   "metadata": {
    "id": "EFANO8zp-1ir"
   },
   "source": [
    "<font color=green size=4> Conclusões: </font>\n",
    "\n",
    "---\n",
    "\n",
    "Os gráficos de áreas são extremamente úteis quando queremos enfatizar a magnitude das mudanças ao longo do período. Ele é uma junção de várias linhas empilhadas preenchidas com a cor de cada categoria para representação dos dados ao longo do período. No exemplo acima, utilizamos o gráfico de áreas em que tanto a diferença absoluta (valores ao longo do tempo) quanto a relativa (espessuras entre elas) são importantes em nossa análise.\n",
    "\n",
    "Como sugestão, podemos analisar a composição dos dados em relação a outros setores."
   ]
  },
  {
   "cell_type": "markdown",
   "metadata": {
    "id": "rQaLziqMgXCa"
   },
   "source": [
    "## **4.2 - Gráfico de inclinação**\n",
    "\n",
    "---\n",
    "\n"
   ]
  },
  {
   "cell_type": "markdown",
   "metadata": {
    "id": "TuC316_JYQL1"
   },
   "source": [
    "#### Tratando os dados para gerar a visualização"
   ]
  },
  {
   "cell_type": "code",
   "execution_count": null,
   "metadata": {
    "id": "Vg2LvPnVgTNY"
   },
   "outputs": [],
   "source": [
    "# Selecionando os dados desejados\n",
    "df_agro_slope = df_pib.query(\"ano == [2002, 2020]\")[[\"regiao\",  \"ano\", \"va_agropecuaria\"]]\n",
    "\n",
    "# Agrupando os dados por região\n",
    "df_agro_slope = pd.crosstab(index = df_agro_slope.ano, columns = df_agro_slope.regiao,\n",
    "                      values = df_agro_slope.va_agropecuaria, aggfunc=\"sum\", normalize=\"index\")\n",
    "\n",
    "df_agro_slope = (df_agro_slope * 100).round(1)\n",
    "\n",
    "df_agro_slope.head()"
   ]
  },
  {
   "cell_type": "markdown",
   "metadata": {
    "id": "JM5glS-IYS7x"
   },
   "source": [
    "#### Gerando o gráfico"
   ]
  },
  {
   "cell_type": "code",
   "execution_count": null,
   "metadata": {
    "id": "FxJqnHcfgTNY"
   },
   "outputs": [],
   "source": [
    "## Gerando a função para criar o gráfico de inclinação\n",
    "\n",
    "def grafico_slope_agro():\n",
    "  # Importando as bibliotecas\n",
    "  import matplotlib.pyplot as plt\n",
    "\n",
    "  # Área do gráfico e tema da visualização\n",
    "  fig, ax1 = plt.subplots(figsize=(7,7))\n",
    "\n",
    "  # Definindo as cores do gráfico\n",
    "  cores = [VERDE3, VERMELHO2, AZUL3, LARANJA1, CINZA4]\n",
    "\n",
    "  # O seaborn possui uma função chamada pointplot() que pode gerar um gráfico deste tipo\n",
    "  # mas para termos liberdade na criação do nosso gráfico vamos optar por contruí-lo\n",
    "  # por meio do matplotlib usando axis duplos partilhando o eixo x e os mesmos limites em y\n",
    "  ...\n",
    "  ...\n",
    "  ...\n",
    "\n",
    "  # Gerando o gráfico de inclinação (pontos + curva + texto)\n",
    "  for i in range(5):\n",
    "    # Adicionando o ponto inicial e final\n",
    "    ...\n",
    "\n",
    "    # Adicionando a inclinação\n",
    "    ...\n",
    "\n",
    "    # # Adicionando as regiões no label\n",
    "    # ax1.text(x = 2024, y = df_agro_slope.iloc[-1,i], s = df_agro_slope.columns[i],\n",
    "    #         fontsize=15, fontweight = 'bold', linespacing=1.5, color=cores[i], va='center')\n",
    "\n",
    "  # ## Personalizando o gráfico\n",
    "  # ax1.set_title('PIB relativo à agropecuária nas regiões do Brasil', fontsize = 18, color = CINZA1, loc='left', pad = 40)\n",
    "  # ax1.text(0, 1.05, \"Comparação entre os anos de 2002 e 2020 (%)\", transform=ax1.transAxes, color= CINZA3, fontsize=12, ha='left', va='center')\n",
    "\n",
    "  return ax1, ax2, cores\n",
    "\n",
    "ax1, ax2, cores = grafico_slope_agro()"
   ]
  },
  {
   "cell_type": "markdown",
   "metadata": {
    "id": "VbkmUTqsnN20"
   },
   "source": [
    "## **4.3 - Estilizando o gráfico**\n",
    "\n",
    "---\n",
    "\n"
   ]
  },
  {
   "cell_type": "code",
   "execution_count": null,
   "metadata": {
    "id": "igwF-2PcgsKn"
   },
   "outputs": [],
   "source": [
    "## Configurando o gráfico com parâmetros que potencializam a visualização dos dados\n",
    "\n",
    "# Gerando o gráfico de inclinação\n",
    "...\n",
    "\n",
    "# # Retirando os ticks do eixo y de ambos os lados e as bordas exeto a da base\n",
    "# ax1.tick_params(left = False)\n",
    "# ax1.spines[[\"top\", \"left\", \"right\"]].set_visible(False)\n",
    "# ax2.tick_params(right = False)\n",
    "# ax2.set_frame_on(False)\n",
    "\n",
    "# Ajustando as propriedades do eixo y da esquerda\n",
    "...\n",
    "...\n",
    "...\n",
    "...\n",
    "...\n",
    "\n",
    "# Ajustando as propriedades do eixo y da direita\n",
    "...\n",
    "\n",
    "# # Ajustando propriedades dos dois eixos y\n",
    "# for ax in (ax1, ax2):\n",
    "#   for i, item in enumerate(ax.get_yticklabels()):\n",
    "#     item.set_fontsize(14)\n",
    "#     item.set_fontweight('bold')\n",
    "#     item.set_color(cores[i])\n",
    "\n",
    "# # Ajustando propriedades do eixo x\n",
    "# ax1.xaxis.set_tick_params(labelsize=14, labelcolor=CINZA3)\n",
    "# ax1.spines['bottom'].set_color(CINZA3)\n",
    "\n",
    "plt.show()"
   ]
  },
  {
   "cell_type": "markdown",
   "metadata": {
    "id": "59101h3-Ki6f"
   },
   "source": [
    "<font color=green size=4> Conclusões: </font>\n",
    "\n",
    "---\n",
    "\n",
    "Os gráficos de inclinação são úteis quando temos dois períodos de tempo que queremos comparar, mostrando de maneira simples e direta os aumentos e diminuições relativas entre dois pontos dos dados.\n",
    "\n",
    "Como sugestão, podemos analisar essa relação a partir de outros setores."
   ]
  },
  {
   "cell_type": "markdown",
   "metadata": {
    "id": "HYm_qsOvn6oV"
   },
   "source": [
    "# **Aula 5 - Relacionando dados**"
   ]
  },
  {
   "cell_type": "markdown",
   "metadata": {
    "id": "wfAWxzoeNWJm"
   },
   "source": [
    "## **5.1 - Apresentando a base de dados**\n",
    "---"
   ]
  },
  {
   "cell_type": "markdown",
   "metadata": {
    "id": "PwFQF88Zn6oW"
   },
   "source": [
    "### **Situação-problema 2**\n",
    "\n",
    "Nesta situação-problema, você recebeu um conjunto de dados para analisar as notas do IDEB, divididas por região, das provas realizadas entre 2005 e 2021. Os dados descrevem o desempenho dos alunos em testes de língua portuguesa e matemática, além da taxa de aprovação escolar.\n",
    "\n",
    "O IDEB é medido em uma escala de 0 a 10 e é uma importante ferramenta para acompanhar o desenvolvimento da educação básica no país, permitindo a avaliação da efetividade das políticas públicas na área e a identificação das regiões que necessitam de maior atenção.\n",
    "\n",
    "Aqui, vamos focar em investigar as notas em diferentes níveis de ensino (Ensino Fundamental Anos Iniciais e Anos Finais e Ensino Médio) tecendo alguns comentários a respeito das perguntas levantadas."
   ]
  },
  {
   "cell_type": "code",
   "execution_count": null,
   "metadata": {
    "id": "_RS77VE5n6oW"
   },
   "outputs": [],
   "source": [
    "import pandas as pd"
   ]
  },
  {
   "cell_type": "code",
   "execution_count": null,
   "metadata": {
    "id": "YMx9OzmKn6oW"
   },
   "outputs": [],
   "source": [
    "# Importando o conjunto de dados com os dados do IDEB nacional de provas realizadas de 2005 a 2021\n",
    "ideb = pd.read_csv(\"https://raw.githubusercontent.com/afonsosr2/dataviz-graficos-composicao-relacionamento/master/dados/ideb_reg_2005_2021.csv\")\n",
    "\n",
    "ideb.head(6)"
   ]
  },
  {
   "cell_type": "code",
   "execution_count": null,
   "metadata": {
    "id": "2nxEbnLqn6oW"
   },
   "outputs": [],
   "source": [
    "# Verificando os tipos de dados e se existem dados nulos\n",
    "ideb.info()"
   ]
  },
  {
   "cell_type": "markdown",
   "metadata": {
    "id": "6Nvm3SBon6oW"
   },
   "source": [
    "Após visualizarmos de maneira rápida os dados que possuímos, vamos partir para as análises que podemos fazer com esses dados e quais os gráficos de relacionamento vamos utilizar a fim de apresentar esse tipo de informação.\n",
    "\n",
    "### **Questionamentos**\n",
    "\n",
    "1.   Qual a relação entre o IDEB e o indicador de rendimento das escolas no ensino médio? É positiva, negativa ou não estão correlacionadas?\n",
    "\n",
    "2. Qual a relação entre as notas das disciplinas de língua portuguesa e matemática no SAEB por região no Ensino Fundamental Anos Iniciais? Conseguimos traçar algum paralelo entre elas?\n",
    "\n",
    "3. Qual seria a relação entre a taxa de aprovação e a média da nota do SAEB no Ensino Fundamental Anos Finais? Conseguimos notar como as duas se distribuem em relação ao IDEB e as regiões?"
   ]
  },
  {
   "cell_type": "markdown",
   "metadata": {
    "id": "w3PGNu6-npgq"
   },
   "source": [
    "## **5.2 - Gráfico de dispersão**\n",
    "\n",
    "---\n",
    "\n"
   ]
  },
  {
   "cell_type": "markdown",
   "metadata": {
    "id": "MrzgsGqnnaG6"
   },
   "source": [
    "<img src=\"https://github.com/afonsosr2/dataviz-graficos-composicao-relacionamento/blob/0e8022ffd2961343138edb39ce1226c55502423d/imagens/Tipos_Graficos/Gr%C3%A1ficos%20de%20relacionamento.png?raw=true\" alt=\"inserir alt\" height=\"227\">\n",
    "\n",
    "\n",
    "<font size=2>Fonte: Andrew Abela (Extreme Presentation/Biuwer)</font>\n"
   ]
  },
  {
   "cell_type": "markdown",
   "metadata": {
    "id": "umnihXT5UGRk"
   },
   "source": [
    "### **Pergunta 1 -** Qual a relação entre o IDEB e o indicador de rendimento das escolas no ensino médio? É positiva, negativa ou não estão correlacionadas?"
   ]
  },
  {
   "cell_type": "markdown",
   "metadata": {
    "id": "nrg12u42TFod"
   },
   "source": [
    "#### Visualizando os dados"
   ]
  },
  {
   "cell_type": "code",
   "execution_count": null,
   "metadata": {
    "id": "OzVudYaUTFoe"
   },
   "outputs": [],
   "source": [
    "ideb_em = ideb.query(\"anos_escolares == 'EM'\")[[\"indicador_rendimento\", \"ideb\"]]\n",
    "ideb_em = ideb_em.reset_index(drop = True)\n",
    "ideb_em.head()"
   ]
  },
  {
   "cell_type": "markdown",
   "metadata": {
    "id": "0HEo-7PzTFof"
   },
   "source": [
    "#### Gerando o gráfico"
   ]
  },
  {
   "cell_type": "code",
   "execution_count": null,
   "metadata": {
    "id": "q1cHNMSqe5F8"
   },
   "outputs": [],
   "source": [
    "# Importando a biblioteca\n",
    "import plotly.express as px\n",
    "\n",
    "# Gerando o gráfico de dispersão com uma reta representando um modelo de regressão linear (OLS - Mínimos Quadrados Ordinários)\n",
    "fig = px.scatter(ideb_em, x=\"ideb\", y=\"indicador_rendimento\", trendline = 'ols',\n",
    "                 color_discrete_sequence = [AZUL3], trendline_color_override=CINZA3,\n",
    "                 labels = {\"ideb\":\"IDEB\", \"indicador_rendimento\":\"Indicador de Rendimento\"})\n",
    "\n",
    "# # Ajustando o layout do gráfico\n",
    "# fig.update_layout(width=1000, height=500, yaxis_range = [0, 1.1], xaxis_range = [2.5, 7.5],\n",
    "#                   margin = dict(t=100), font_size=14, font_color= CINZA2,\n",
    "#                   title_font_color= CINZA1, title_font_size=24,\n",
    "#                   title_text='Relação entre o IDEB e o indicador de rendimento das escolas' +\n",
    "#                              '<br><sup size=1 style=\"color:#555655\">Do Ensino Médio (EM) entre os anos de 2005 a 2021</sup>',\n",
    "#                   xaxis_title='IDEB (0-10)', yaxis_title='Indicador de Rendimento (0-1)')\n",
    "\n",
    "# # Dados ao passar o mouse\n",
    "# fig.update_traces(hovertemplate = \"<b>IDEB:</b> %{x} <br><b>Indicador de Rend:</b> %{y}\", selector = dict(type='scatter', mode = \"markers\"))\n",
    "\n",
    "# fig.add_annotation(text='Fonte dos dados: <a href=\"https://www.gov.br/inep/pt-br/areas-de-atuacao/avaliacao-e-exames-educacionais/saeb\">'\n",
    "#                         'Sistema de Avaliação da Educação Básica (Saeb)</a>',\n",
    "#                    align=\"left\", xref=\"paper\", yref = \"paper\", x=1, y=-0.15, showarrow=False, font_size=10)\n",
    "fig.show()"
   ]
  },
  {
   "cell_type": "markdown",
   "metadata": {
    "id": "salts8m6TFog"
   },
   "source": [
    "<font color=green size=4> Conclusões: </font>\n",
    "\n",
    "---\n",
    "\n",
    "O gráfico de dispersão pode ser utilizado para relacionar dados entre duas variáveis numéricas de diferentes naturezas. Essa relação pode ser positiva, negativa ou neutra, linear ou não linear.\n",
    "\n",
    "Aqui traçamos uma reta em volta dos dados que representam a tendência entre eles, similar ao comoportamento que geramos a trabalhar com modelos de regressão linear."
   ]
  },
  {
   "cell_type": "markdown",
   "metadata": {
    "id": "XfP_QHVMfM1t"
   },
   "source": [
    "## **5.3 - Gráfico de dispersão com cores**\n",
    "\n",
    "---\n",
    "\n",
    "\n",
    "\n",
    "\n"
   ]
  },
  {
   "cell_type": "markdown",
   "metadata": {
    "id": "Mgc031b6fM1u"
   },
   "source": [
    "### **Pergunta 2 -** Qual a relação entre as notas das disciplinas de língua portuguesa e matemática no SAEB por região no Ensino Fundamental Anos Iniciais? Conseguimos traçar algum paralelo entre elas?"
   ]
  },
  {
   "cell_type": "markdown",
   "metadata": {
    "id": "-Vohyw2nfM1u"
   },
   "source": [
    "#### Visualizando os dados"
   ]
  },
  {
   "cell_type": "code",
   "execution_count": null,
   "metadata": {
    "id": "5fQMeNVHfM1u"
   },
   "outputs": [],
   "source": [
    "ideb_efai = ideb.query(\"anos_escolares == 'EFAI'\")[[\"regiao\",\"nota_saeb_matematica\", \"nota_saeb_lingua_portuguesa\"]]\n",
    "ideb_efai = ideb_efai.reset_index(drop = True)\n",
    "ideb_efai.head()"
   ]
  },
  {
   "cell_type": "markdown",
   "metadata": {
    "id": "s6NtJoQNfM1u"
   },
   "source": [
    "#### Gerando o gráfico"
   ]
  },
  {
   "cell_type": "code",
   "execution_count": null,
   "metadata": {
    "id": "YySWHDorTFof"
   },
   "outputs": [],
   "source": [
    "## Configurando o gráfico com parâmetros que potencializam a visualização dos dados\n",
    "\n",
    "# Importando as bibliotecas\n",
    "import matplotlib.pyplot as plt\n",
    "import seaborn as sns\n",
    "\n",
    "# Definindo as cores do gráfico\n",
    "cores = [VERDE3, VERMELHO2, AZUL3, LARANJA1, CINZA4]\n",
    "\n",
    "# Área do gráfico e tema da visualização\n",
    "fig, ax = plt.subplots(figsize=(10,5))\n",
    "sns.set_theme(style=\"white\")\n",
    "\n",
    "# Gerando o gráfico de dispersão com cores como categorias\n",
    "...\n",
    "\n",
    "# ## Personalizando o gráfico\n",
    "# plt.suptitle('Relação entre as notas de matemática e língua portuguesa do SAEB', size=18, color=CINZA1, ha = 'right', x = 0.97, y = 1.03)\n",
    "# plt.title('Do Ensino Fudamental Anos Iniciais (EFAI) entre os anos de 2005 a 2021', fontsize=14, color=CINZA3, pad = 15, loc = \"left\")\n",
    "# ax.legend(bbox_to_anchor=(155, 275), title='Rede', title_fontsize  = 10, fontsize = 10, loc='upper left', bbox_transform=ax.transData)\n",
    "# ax.set_xlabel('Notas de Matemática (0 - 500)',  fontsize = 14)\n",
    "# ax.set_ylabel('Notas de Português (0 - 500)', fontsize = 14)\n",
    "# ax.xaxis.set_tick_params(labelsize=12, color = CINZA2)\n",
    "# ax.set_xlim(150, 280)\n",
    "# ax.yaxis.set_tick_params(labelsize=12, color = CINZA2)\n",
    "# ax.set_ylim(150, 280)\n",
    "# sns.despine()\n",
    "\n",
    "# # Limites das notas em no eixo y (notas de português) - 200 pontos (proficiência)\n",
    "# ax.text(ax.get_xlim()[0] + 1, 202, 'Nível 4 e superior', fontsize=12, color = CINZA3, va = \"bottom\")\n",
    "# ax.text(ax.get_xlim()[0] + 1 , 198, 'Nível 4 e inferior', fontsize=12, color = CINZA3, va = \"top\")\n",
    "# plt.axhline(y = 200, color = CINZA5, linestyle='--')\n",
    "\n",
    "# # Limites das notas em no eixo x (notas de matemática) - 225 pontos (proficiência)\n",
    "# ax.text(223, ax.get_ylim()[1] - 10, 'Nível 5\\ne inferior', fontsize=12, color = CINZA3, ha=\"right\")\n",
    "# ax.text(227, ax.get_ylim()[1] - 10, 'Nível 5\\ne superior', fontsize=12, color = CINZA3, ha=\"left\")\n",
    "# plt.axvline(x = 225, color = CINZA5, linestyle='--')\n",
    "\n",
    "# # Adicionando um texo explicando a divisão de quadrantes e o que significa\n",
    "# ax.annotate(\"Cada quadrante representa o nível de proficiência\\nde estudantes divididas pelo nível 5 (>=225 pontos)\\ne 4 (>=200 pontos)\\n\\n\"\n",
    "#             \"Nota-se que o 2º quadrante (Nível 5 e superior em \\nmatemática e Nível 4 e superior em português)\\n\"\n",
    "#             \"possuímos as notas com melhores desempenhos \\nà nivel nacional\", xy=(260, 180), xycoords='data',\n",
    "#             bbox=dict(boxstyle=\"round\", fc=BRANCO, ec=CINZA3),\n",
    "#             xytext=(0, 0), textcoords='offset points')\n",
    "\n",
    "plt.show()"
   ]
  },
  {
   "cell_type": "markdown",
   "metadata": {
    "id": "Zc2zDiZKsMwn"
   },
   "source": [
    "<font color=green size=4> Conclusões: </font>\n",
    "\n",
    "---\n",
    "\n",
    "O gráfico de dispersão por cores adiciona uma variável categórica a análise (em nosso exemplo, a região).\n",
    "\n",
    "Para compreender um pouco mais sobre os níveis de proficiência aessar este [link](https://download.inep.gov.br/publicacoes/institucionais/avaliacoes_e_exames_da_educacao_basica/escalas_de_proficiencia_do_saeb.pdf). E para entender sobre o nível de aprendizado proficiente acesse este outro [link](https://ajuda.focoescola.com.br/hc/pt-br/articles/360058736853-Como-%C3%A9-definido-o-padr%C3%A3o-de-desempenho-dos-alunos-para-os-resultados-do-Saeb)\n",
    "\n",
    "Aqui utilizamos dois recursos visuais que é o de acercamento (gerado pela delimitação dos níveis das notas de língua portuguesa e matemática) e o de similaridade por meio das cores, representando as categorias dos pontos representados pelas regiões."
   ]
  },
  {
   "cell_type": "markdown",
   "metadata": {
    "id": "baWLhlXHrAMz"
   },
   "source": [
    "## **5.4 - Gráfico de bolhas**\n",
    "\n",
    "---\n",
    "\n"
   ]
  },
  {
   "cell_type": "markdown",
   "metadata": {
    "id": "AipMngUxsvoZ"
   },
   "source": [
    "### **Pergunta 3 -** Qual seria a relação entre a taxa de aprovação e a média da nota do SAEB no Ensino Fundamental Anos Finais? Conseguimos notar como as duas se distribuem em relação ao IDEB e as regiões?"
   ]
  },
  {
   "cell_type": "markdown",
   "metadata": {
    "id": "ZiC06Yajsvor"
   },
   "source": [
    "#### Visualizando os dados"
   ]
  },
  {
   "cell_type": "code",
   "execution_count": null,
   "metadata": {
    "id": "K6inEr-hsvor"
   },
   "outputs": [],
   "source": [
    "# Selecionando os dados desejados do dataframe\n",
    "ideb_efaf = ideb.query(\"anos_escolares == 'EFAF'\")[[\"regiao\",\"taxa_aprovacao\", \"nota_saeb_media_padronizada\", \"ideb\"]]\n",
    "ideb_efaf = ideb_efaf.reset_index(drop = True)\n",
    "ideb_efaf.head()"
   ]
  },
  {
   "cell_type": "markdown",
   "metadata": {
    "id": "_PR3tIVTsvos"
   },
   "source": [
    "#### Gerando o gráfico"
   ]
  },
  {
   "cell_type": "code",
   "execution_count": null,
   "metadata": {
    "id": "aNzgKSDTsvos"
   },
   "outputs": [],
   "source": [
    "## Configurando o gráfico com parâmetros que potencializam a visualização dos dados\n",
    "\n",
    "# Importando as bibliotecas\n",
    "import matplotlib.pyplot as plt\n",
    "import seaborn as sns\n",
    "import numpy as np\n",
    "\n",
    "# Área do gráfico e tema da visualização\n",
    "fig, ax = plt.subplots(figsize=(10,8))\n",
    "\n",
    "# Definindo as cores do gráfico\n",
    "cores = [VERDE3, VERMELHO2, AZUL3, LARANJA1, CINZA4]\n",
    "\n",
    "# Gerando o gráfico de bolhas\n",
    "...\n",
    "\n",
    "# # Adicionando o IDEB nacional (Taxa * Nota Padronizada) - https://download.inep.gov.br/institucional/apresentacao_saeb_ideb_2021.pdf\n",
    "# ax.scatter([96], [5.32], color=VERMELHO1, s=80)\n",
    "# plt.axvline(x=96, color = CINZA5, linestyle='--', linewidth=0.5) # adicionando linhas de referência do IDEB nacional\n",
    "# plt.axhline(y=5.32, color = CINZA5, linestyle='--', linewidth=0.5) # adicionando linhas de referência do IDEB nacional\n",
    "# ax.text(95, 5.4, 'IDEB = 5.1\\n(Brasil) 2021', color=CINZA3, fontsize=10, fontweight='bold')\n",
    "\n",
    "# ## Personalizando o gráfico\n",
    "# plt.suptitle('Taxa de Aprovação X Nota Média Padronizada do SAEB', size=18, color=CINZA1, ha = 'right', x = 0.81, y = 1.07)\n",
    "# plt.title('Do Ensino Fudamental Anos Finais (EFAF) entre os anos de 2005 a 2021', fontsize=14, color=CINZA3, pad = 30, loc = \"left\")\n",
    "# ax.legend(bbox_to_anchor=(71, 7), fontsize = 10, loc='upper left', bbox_transform=ax.transData)\n",
    "# ax.xaxis.set_tick_params(labelsize=11, color = CINZA3)\n",
    "# ax.yaxis.set_tick_params(labelsize=11, color = CINZA3)\n",
    "# ax.set_xlim(70, 100)\n",
    "# ax.set_ylim(4, 7)\n",
    "\n",
    "# # Propriedades dos eixos x e y\n",
    "# xticks = np.arange(70, 105, 5)\n",
    "# yticks = np.arange(4, 7.5, 0.5)\n",
    "# plt.setp(ax, xticks=xticks, xticklabels=[str(i)+'%' for i in xticks], yticks=yticks)\n",
    "\n",
    "# # Ajustando a aparência dos ticks e tick labels\n",
    "# ax.tick_params(top=True, bottom=False, labelbottom=False, labeltop=True)\n",
    "# ax.xaxis.set_label_position('top')\n",
    "# ax.set_xlabel('Taxa de Aprovação (%)', fontsize = 14, loc=\"left\", labelpad = 15)\n",
    "# ax.set_ylabel('Nota Média Padronizada (0 - 10)', fontsize = 14, loc=\"top\", labelpad = 15)\n",
    "\n",
    "# # Removendo bordas da direita e base e alterando as cores da borda esquerda e do topo\n",
    "# ax.spines[['right', \"bottom\"]].set_visible(False)\n",
    "# ax.spines[['left', \"top\"]].set_color(CINZA3)\n",
    "\n",
    "plt.show()"
   ]
  },
  {
   "cell_type": "markdown",
   "metadata": {
    "id": "OiB9uBIrsvos"
   },
   "source": [
    "<font color=green size=4> Conclusões: </font>\n",
    "\n",
    "---\n",
    "\n",
    "Subindo um pouco a nossa análise, adicionamos mais um recurso visual: as bolhas. Elas mostram a magnitude de outra variável numérica, o IDEB. Aqui analisamos as notas médias do SAEB e a taxa de aprovação dos(as) estudantes e comparamos as regiões (categorias) e IDEB (valores numéricos).\n",
    "\n",
    "Utilizamos, também o recurso da delimitação do valor médio nacional e destacamos esse valor de interesse como padrão para analisarmos os valores dos outros pontos."
   ]
  }
 ],
 "metadata": {
  "colab": {
   "authorship_tag": "ABX9TyMgugrlmXkxsqnJhnhcGwoT",
   "collapsed_sections": [
    "BGO9CiDvw2br"
   ],
   "provenance": []
  },
  "kernelspec": {
   "display_name": "venv",
   "language": "python",
   "name": "python3"
  },
  "language_info": {
   "codemirror_mode": {
    "name": "ipython",
    "version": 3
   },
   "file_extension": ".py",
   "mimetype": "text/x-python",
   "name": "python",
   "nbconvert_exporter": "python",
   "pygments_lexer": "ipython3",
   "version": "3.12.3"
  }
 },
 "nbformat": 4,
 "nbformat_minor": 0
}
