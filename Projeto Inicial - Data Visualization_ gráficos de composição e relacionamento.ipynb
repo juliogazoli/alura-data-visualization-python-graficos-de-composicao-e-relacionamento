{
 "cells": [
  {
   "cell_type": "markdown",
   "metadata": {
    "id": "7D3n0DACbyjf"
   },
   "source": [
    "# <font color=green> Data Visualization: gráficos de composição e relacionamento</font>\n",
    "---"
   ]
  },
  {
   "cell_type": "markdown",
   "metadata": {
    "id": "Au2nZsz9ezur"
   },
   "source": [
    "# **Aula 1 - Proporção dos dados**\n"
   ]
  },
  {
   "cell_type": "markdown",
   "metadata": {
    "id": "zozK6sjqX0YH"
   },
   "source": [
    "## **1.1 Introdução**\n",
    "\n",
    "---\n",
    "\n",
    "Neste curso, vamos construir um portfólio com as análises de **duas** bases de dados diferentes, explorando cada uma e respondendo aos questionamentos levantados em torno de seus dados. Todas as bases estão no formato CSV e podem ser acessadas por meio do Github.\n",
    "\n",
    "> **Bases de dados:**\n",
    "\n",
    "1.   Tabela com os PIBs (Produto Interno Bruto) dos estados brasileiros no período de 2002 - 2020\n",
    "\n",
    "2.   Tabela com a pontuação do IDEB (Índice de Desenvolvimento da Educação Básica) das escolas à nivel nacional\n",
    "\n",
    "A cada aula, vamos passar por uma base de dados e tecer nossas análises de acordo com as perguntas que forem apresentadas buscando respondê-las por meio da utilização de recursos visuais (gráficos e elementos visuais)."
   ]
  },
  {
   "cell_type": "markdown",
   "metadata": {
    "id": "YvLE4O2iemTx"
   },
   "source": [
    "### Paleta de cores"
   ]
  },
  {
   "cell_type": "markdown",
   "metadata": {
    "id": "sAuABmczf3Ev"
   },
   "source": [
    "|Azul||||||\n",
    "|------|------|------|------|------|------|\n",
    "| AZUL1 |AZUL2 |AZUL3 |AZUL4 |AZUL5 |AZUL6 |\n",
    "|#174A7E | #4A81BF | #6495ED| #2596be | #94AFC5 | #CDDBF3 |\n",
    "|![adicionar desc](https://github.com/afonsosr2/dataviz-graficos-composicao-relacionamento/blob/638632b27146722cb9589f502a3a444a4eeac717/imagens/paleta_cores/AZUL1.png?raw=true)|![adicionar desc](https://github.com/afonsosr2/dataviz-graficos-composicao-relacionamento/blob/638632b27146722cb9589f502a3a444a4eeac717/imagens/paleta_cores/AZUL2.png?raw=true)|![adicionar desc](https://github.com/afonsosr2/dataviz-graficos-composicao-relacionamento/blob/638632b27146722cb9589f502a3a444a4eeac717/imagens/paleta_cores/AZUL3.png?raw=true)|![adicionar desc](https://github.com/afonsosr2/dataviz-graficos-composicao-relacionamento/blob/638632b27146722cb9589f502a3a444a4eeac717/imagens/paleta_cores/AZUL4.png?raw=true)|![adicionar desc](https://github.com/afonsosr2/dataviz-graficos-composicao-relacionamento/blob/638632b27146722cb9589f502a3a444a4eeac717/imagens/paleta_cores/AZUL5.png?raw=true)|![adicionar desc](https://github.com/afonsosr2/dataviz-graficos-composicao-relacionamento/blob/638632b27146722cb9589f502a3a444a4eeac717/imagens/paleta_cores/AZUL6.png?raw=true) |\n",
    "\n",
    "&nbsp;\n",
    "\n",
    "|Cinza||||||\n",
    "|------|------|------|------|------|------|\n",
    "| CINZA1 |CINZA2 |CINZA3 |CINZA4 |CINZA5|BRANCO|\n",
    "|#231F20 | #414040| #555655 | #A6A6A5| #BFBEBE |#FFFFFF|\n",
    "| ![adicionar desc](https://github.com/afonsosr2/dataviz-graficos-composicao-relacionamento/blob/638632b27146722cb9589f502a3a444a4eeac717/imagens/paleta_cores/CINZA1.png?raw=true)  |![adicionar desc](https://github.com/afonsosr2/dataviz-graficos-composicao-relacionamento/blob/638632b27146722cb9589f502a3a444a4eeac717/imagens/paleta_cores/CINZA2.png?raw=true) |![adicionar desc](https://github.com/afonsosr2/dataviz-graficos-composicao-relacionamento/blob/638632b27146722cb9589f502a3a444a4eeac717/imagens/paleta_cores/CINZA3.png?raw=true) |![adicionar desc](https://github.com/afonsosr2/dataviz-graficos-composicao-relacionamento/blob/638632b27146722cb9589f502a3a444a4eeac717/imagens/paleta_cores/CINZA4.png?raw=true) |![adicionar desc](https://github.com/afonsosr2/dataviz-graficos-composicao-relacionamento/blob/638632b27146722cb9589f502a3a444a4eeac717/imagens/paleta_cores/CINZA5.png?raw=true)|![adicionar desc](https://github.com/afonsosr2/dataviz-graficos-composicao-relacionamento/blob/638632b27146722cb9589f502a3a444a4eeac717/imagens/paleta_cores/BRANCO.png?raw=true)|\n",
    "\n",
    "&nbsp;\n",
    "\n",
    "|Vermelho|||Verde|||\n",
    "|------|------|------|------|------|------|\n",
    "| VERMELHO1 |VERMELHO2 |LARANJA1 | VERDE1 |VERDE2 | VERDE3 |\n",
    "|#C3514E | #E6BAB7 | #F79747|#0C8040 | #9ABB59 |#9ECCB3|\n",
    "| ![adicionar desc](https://github.com/afonsosr2/dataviz-graficos-composicao-relacionamento/blob/638632b27146722cb9589f502a3a444a4eeac717/imagens/paleta_cores//VERMELHO1.png?raw=true) |![adicionar desc](https://github.com/afonsosr2/dataviz-graficos-composicao-relacionamento/blob/638632b27146722cb9589f502a3a444a4eeac717/imagens/paleta_cores/VERMELHO2.png?raw=true)|![adicionar desc](https://github.com/afonsosr2/dataviz-graficos-composicao-relacionamento/blob/638632b27146722cb9589f502a3a444a4eeac717/imagens/paleta_cores/LARANJA1.png?raw=true)| ![adicionar desc](https://github.com/afonsosr2/dataviz-graficos-composicao-relacionamento/blob/638632b27146722cb9589f502a3a444a4eeac717/imagens/paleta_cores/VERDE1.png?raw=true) |![adicionar desc](https://github.com/afonsosr2/dataviz-graficos-composicao-relacionamento/blob/638632b27146722cb9589f502a3a444a4eeac717/imagens/paleta_cores/VERDE2.png?raw=true)|![adicionar desc](https://github.com/afonsosr2/dataviz-graficos-composicao-relacionamento/blob/638632b27146722cb9589f502a3a444a4eeac717/imagens/paleta_cores/VERDE3.png?raw=true)|\n"
   ]
  },
  {
   "cell_type": "code",
   "execution_count": 25,
   "metadata": {
    "id": "_LZKF5MzesCL"
   },
   "outputs": [],
   "source": [
    "# Definindo a paleta de cores\n",
    "AZUL1, AZUL2, AZUL3, AZUL4, AZUL5, AZUL6 = '#174A7E', '#4A81BF', \"#6495ED\", '#2596BE', '#94AFC5', '#CDDBF3'\n",
    "CINZA1, CINZA2, CINZA3, CINZA4, CINZA5, BRANCO = '#231F20', '#414040', '#555655', '#A6A6A5', '#BFBEBE', '#FFFFFF'\n",
    "VERMELHO1, VERMELHO2, LARANJA1 = '#C3514E',\t'#E6BAB7',\t'#F79747'\n",
    "VERDE1, VERDE2, VERDE3 = '#0C8040',\t'#9ABB59', '#9ECCB3'"
   ]
  },
  {
   "cell_type": "markdown",
   "metadata": {
    "id": "fTAQwVAbUQKM"
   },
   "source": [
    "## **1.2 - Apresentando a base de dados**\n",
    "\n",
    "---\n",
    "\n"
   ]
  },
  {
   "cell_type": "markdown",
   "metadata": {
    "id": "qYOQwjMnUQKR"
   },
   "source": [
    "### **Situação-problema 1**\n",
    "\n",
    "Você como cientista de dados recebeu um conjunto de dados para analisar a composição do PIB em relação aos estados do Brasil durante o período de 2002-2020. Os dados descrevem os valores do PIB e os valores agregados a ele anualmente por setores como agropecuária, indústria, serviços e outros.\n",
    "\n",
    "Aqui, vamos focar em investigar a composição dos dados em relação aos estados e regiões e tecer alguns comentários a respeito das perguntas levantadas."
   ]
  },
  {
   "cell_type": "code",
   "execution_count": 26,
   "metadata": {
    "id": "NHTf2WaNUQKR"
   },
   "outputs": [],
   "source": [
    "import pandas as pd"
   ]
  },
  {
   "cell_type": "code",
   "execution_count": 27,
   "metadata": {
    "id": "jYw1ma0AUQKR"
   },
   "outputs": [
    {
     "data": {
      "text/html": [
       "<div>\n",
       "<style scoped>\n",
       "    .dataframe tbody tr th:only-of-type {\n",
       "        vertical-align: middle;\n",
       "    }\n",
       "\n",
       "    .dataframe tbody tr th {\n",
       "        vertical-align: top;\n",
       "    }\n",
       "\n",
       "    .dataframe thead th {\n",
       "        text-align: right;\n",
       "    }\n",
       "</style>\n",
       "<table border=\"1\" class=\"dataframe\">\n",
       "  <thead>\n",
       "    <tr style=\"text-align: right;\">\n",
       "      <th></th>\n",
       "      <th>ano</th>\n",
       "      <th>sigla_uf</th>\n",
       "      <th>regiao</th>\n",
       "      <th>pib</th>\n",
       "      <th>impostos_liquidos</th>\n",
       "      <th>va</th>\n",
       "      <th>va_agropecuaria</th>\n",
       "      <th>va_industria</th>\n",
       "      <th>va_servicos</th>\n",
       "      <th>va_adespss</th>\n",
       "    </tr>\n",
       "  </thead>\n",
       "  <tbody>\n",
       "    <tr>\n",
       "      <th>0</th>\n",
       "      <td>2002</td>\n",
       "      <td>RO</td>\n",
       "      <td>Norte</td>\n",
       "      <td>7467629886</td>\n",
       "      <td>839731192</td>\n",
       "      <td>6627898698</td>\n",
       "      <td>715526872</td>\n",
       "      <td>1191090432</td>\n",
       "      <td>2484579193</td>\n",
       "      <td>2236702207</td>\n",
       "    </tr>\n",
       "    <tr>\n",
       "      <th>1</th>\n",
       "      <td>2003</td>\n",
       "      <td>RO</td>\n",
       "      <td>Norte</td>\n",
       "      <td>9425010486</td>\n",
       "      <td>1108434936</td>\n",
       "      <td>8316575548</td>\n",
       "      <td>1278658831</td>\n",
       "      <td>1216605061</td>\n",
       "      <td>3376727040</td>\n",
       "      <td>2444584625</td>\n",
       "    </tr>\n",
       "    <tr>\n",
       "      <th>2</th>\n",
       "      <td>2004</td>\n",
       "      <td>RO</td>\n",
       "      <td>Norte</td>\n",
       "      <td>11004641436</td>\n",
       "      <td>1288806654</td>\n",
       "      <td>9715834778</td>\n",
       "      <td>1288515348</td>\n",
       "      <td>1674933817</td>\n",
       "      <td>3986529419</td>\n",
       "      <td>2765856199</td>\n",
       "    </tr>\n",
       "    <tr>\n",
       "      <th>3</th>\n",
       "      <td>2005</td>\n",
       "      <td>RO</td>\n",
       "      <td>Norte</td>\n",
       "      <td>12511821181</td>\n",
       "      <td>1476144194</td>\n",
       "      <td>11035676990</td>\n",
       "      <td>1342222120</td>\n",
       "      <td>1887932121</td>\n",
       "      <td>4603783904</td>\n",
       "      <td>3201738843</td>\n",
       "    </tr>\n",
       "    <tr>\n",
       "      <th>4</th>\n",
       "      <td>2006</td>\n",
       "      <td>RO</td>\n",
       "      <td>Norte</td>\n",
       "      <td>13054713344</td>\n",
       "      <td>1613809974</td>\n",
       "      <td>11440903374</td>\n",
       "      <td>1238006193</td>\n",
       "      <td>2210692147</td>\n",
       "      <td>4320526746</td>\n",
       "      <td>3671678293</td>\n",
       "    </tr>\n",
       "    <tr>\n",
       "      <th>...</th>\n",
       "      <td>...</td>\n",
       "      <td>...</td>\n",
       "      <td>...</td>\n",
       "      <td>...</td>\n",
       "      <td>...</td>\n",
       "      <td>...</td>\n",
       "      <td>...</td>\n",
       "      <td>...</td>\n",
       "      <td>...</td>\n",
       "      <td>...</td>\n",
       "    </tr>\n",
       "    <tr>\n",
       "      <th>508</th>\n",
       "      <td>2016</td>\n",
       "      <td>DF</td>\n",
       "      <td>Centro-Oeste</td>\n",
       "      <td>235540044811</td>\n",
       "      <td>29145619376</td>\n",
       "      <td>206394425435</td>\n",
       "      <td>820754661</td>\n",
       "      <td>9662357225</td>\n",
       "      <td>103859865830</td>\n",
       "      <td>92051447720</td>\n",
       "    </tr>\n",
       "    <tr>\n",
       "      <th>509</th>\n",
       "      <td>2017</td>\n",
       "      <td>DF</td>\n",
       "      <td>Centro-Oeste</td>\n",
       "      <td>244722249337</td>\n",
       "      <td>29120461647</td>\n",
       "      <td>215601787690</td>\n",
       "      <td>828313642</td>\n",
       "      <td>8448768236</td>\n",
       "      <td>108322119432</td>\n",
       "      <td>98002586380</td>\n",
       "    </tr>\n",
       "    <tr>\n",
       "      <th>510</th>\n",
       "      <td>2018</td>\n",
       "      <td>DF</td>\n",
       "      <td>Centro-Oeste</td>\n",
       "      <td>254817204692</td>\n",
       "      <td>28692287369</td>\n",
       "      <td>226124917323</td>\n",
       "      <td>1022690641</td>\n",
       "      <td>9541298290</td>\n",
       "      <td>113768086938</td>\n",
       "      <td>101792841454</td>\n",
       "    </tr>\n",
       "    <tr>\n",
       "      <th>511</th>\n",
       "      <td>2019</td>\n",
       "      <td>DF</td>\n",
       "      <td>Centro-Oeste</td>\n",
       "      <td>273613711477</td>\n",
       "      <td>30686607647</td>\n",
       "      <td>242927103829</td>\n",
       "      <td>992393584</td>\n",
       "      <td>9453608031</td>\n",
       "      <td>125261853488</td>\n",
       "      <td>107219248727</td>\n",
       "    </tr>\n",
       "    <tr>\n",
       "      <th>512</th>\n",
       "      <td>2020</td>\n",
       "      <td>DF</td>\n",
       "      <td>Centro-Oeste</td>\n",
       "      <td>265847334003</td>\n",
       "      <td>25466227775</td>\n",
       "      <td>240381106228</td>\n",
       "      <td>1623976909</td>\n",
       "      <td>10942472569</td>\n",
       "      <td>116547655370</td>\n",
       "      <td>111267001381</td>\n",
       "    </tr>\n",
       "  </tbody>\n",
       "</table>\n",
       "<p>513 rows × 10 columns</p>\n",
       "</div>"
      ],
      "text/plain": [
       "      ano sigla_uf        regiao           pib  impostos_liquidos  \\\n",
       "0    2002       RO         Norte    7467629886          839731192   \n",
       "1    2003       RO         Norte    9425010486         1108434936   \n",
       "2    2004       RO         Norte   11004641436         1288806654   \n",
       "3    2005       RO         Norte   12511821181         1476144194   \n",
       "4    2006       RO         Norte   13054713344         1613809974   \n",
       "..    ...      ...           ...           ...                ...   \n",
       "508  2016       DF  Centro-Oeste  235540044811        29145619376   \n",
       "509  2017       DF  Centro-Oeste  244722249337        29120461647   \n",
       "510  2018       DF  Centro-Oeste  254817204692        28692287369   \n",
       "511  2019       DF  Centro-Oeste  273613711477        30686607647   \n",
       "512  2020       DF  Centro-Oeste  265847334003        25466227775   \n",
       "\n",
       "               va  va_agropecuaria  va_industria   va_servicos    va_adespss  \n",
       "0      6627898698        715526872    1191090432    2484579193    2236702207  \n",
       "1      8316575548       1278658831    1216605061    3376727040    2444584625  \n",
       "2      9715834778       1288515348    1674933817    3986529419    2765856199  \n",
       "3     11035676990       1342222120    1887932121    4603783904    3201738843  \n",
       "4     11440903374       1238006193    2210692147    4320526746    3671678293  \n",
       "..            ...              ...           ...           ...           ...  \n",
       "508  206394425435        820754661    9662357225  103859865830   92051447720  \n",
       "509  215601787690        828313642    8448768236  108322119432   98002586380  \n",
       "510  226124917323       1022690641    9541298290  113768086938  101792841454  \n",
       "511  242927103829        992393584    9453608031  125261853488  107219248727  \n",
       "512  240381106228       1623976909   10942472569  116547655370  111267001381  \n",
       "\n",
       "[513 rows x 10 columns]"
      ]
     },
     "execution_count": 27,
     "metadata": {},
     "output_type": "execute_result"
    }
   ],
   "source": [
    "# Importando a base de dados com o PIB dos estados brasileiros de 2002 a 2020\n",
    "df_pib = pd.read_csv(\n",
    "    \"https://raw.githubusercontent.com/afonsosr2/dataviz-graficos-composicao-relacionamento/master/dados/pib_br_2002_2020_estados.csv\")\n",
    "df_pib"
   ]
  },
  {
   "cell_type": "code",
   "execution_count": 28,
   "metadata": {
    "id": "BO78an5eUQKR"
   },
   "outputs": [
    {
     "name": "stdout",
     "output_type": "stream",
     "text": [
      "<class 'pandas.core.frame.DataFrame'>\n",
      "RangeIndex: 513 entries, 0 to 512\n",
      "Data columns (total 10 columns):\n",
      " #   Column             Non-Null Count  Dtype \n",
      "---  ------             --------------  ----- \n",
      " 0   ano                513 non-null    int64 \n",
      " 1   sigla_uf           513 non-null    object\n",
      " 2   regiao             513 non-null    object\n",
      " 3   pib                513 non-null    int64 \n",
      " 4   impostos_liquidos  513 non-null    int64 \n",
      " 5   va                 513 non-null    int64 \n",
      " 6   va_agropecuaria    513 non-null    int64 \n",
      " 7   va_industria       513 non-null    int64 \n",
      " 8   va_servicos        513 non-null    int64 \n",
      " 9   va_adespss         513 non-null    int64 \n",
      "dtypes: int64(8), object(2)\n",
      "memory usage: 40.2+ KB\n"
     ]
    }
   ],
   "source": [
    "# Verificando os tipos de dados e se existem dados nulos\n",
    "df_pib.info()"
   ]
  },
  {
   "cell_type": "markdown",
   "metadata": {
    "id": "wWoSB0AUUQKR"
   },
   "source": [
    "Após visualizarmos de maneira rápida os dados que possuímos, vamos partir para as análises que podemos fazer com esses dados e quais os gráficos de composição vamos utilizar a fim de apresentar esse tipo de informação.\n",
    "\n",
    "### **Questionamentos**\n",
    "\n",
    "1.   Como está disposto o PIB nos estados brasileiros no ano de 2020? É possível notar os estados com maior e menor participação no PIB nacional?\n",
    "\n",
    "2. Houve uma significativa mudança na distribuição do PIB por região comparando os valores de 2002 e 2020?\n",
    "\n",
    "3. Qual a participação do estado de Minas Gerais no PIB de todo o Brasil no ano de 2020?\n",
    "\n",
    "4. Como está distribuído o PIB do estado da Bahia em 2020 separado por impostos líquidos e os valores adicionados brutos dos bens e serviços produzidos?\n",
    "\n",
    "5. Qual a evolução anual do PIB do estado do Rio de Janeiro entre os anos de 2010 a 2020?\n",
    "\n",
    "6. Como está distribuído o PIB nos 3 últimos quinquênios (lustro) dos dados (2010, 2015, 2020) na Região Sul do Brasil divididos pelos estados (Paraná, Santa Catarina e Rio Grande do Sul)?\n",
    "\n",
    "7. Como estão distribuídos, em porcentagem, os valores adicionados de bens e serviços descritos na base de dados em relação a cada região no ano de 2020?\n",
    "\n",
    "8. Na agropecuária, como estão distribuídos seus valores adicionados por região dentro do período da base dos dados (2002 - 2020)?\n",
    "\n"
   ]
  },
  {
   "cell_type": "markdown",
   "metadata": {
    "id": "vP-hC2RlZ-2x"
   },
   "source": [
    "## **1.3 - Problemas em um gráfico de pizza**\n",
    "\n",
    "---\n",
    "\n"
   ]
  },
  {
   "cell_type": "markdown",
   "metadata": {
    "id": "OGufZfA4lVnv"
   },
   "source": [
    "<img src=\"https://github.com/afonsosr2/dataviz-graficos-composicao-relacionamento/blob/main/imagens/Tipos_Graficos/Gr%C3%A1ficos%20de%20composi%C3%A7%C3%A3o%20(propor%C3%A7%C3%A3o%20dos%20dados).png?raw=true\" alt=\"inserir alt\" height=\"343\">\n",
    "\n",
    "\n",
    "<font size=2>Fonte: Andrew Abela (Extreme Presentation/Biuwer)</font>\n"
   ]
  },
  {
   "cell_type": "markdown",
   "metadata": {
    "id": "iSe6OeO-UQKR"
   },
   "source": [
    "### **Pergunta 1 -** Como está disposto o PIB nos estados brasileiros no ano de 2020? É possível notar os estados com maior e menor participação no PIB nacional?"
   ]
  },
  {
   "cell_type": "markdown",
   "metadata": {
    "id": "Ag4_2fwtUQKR"
   },
   "source": [
    "#### Tratando os dados para gerar a visualização"
   ]
  },
  {
   "cell_type": "code",
   "execution_count": 29,
   "metadata": {
    "id": "QKNryeg3UQKS"
   },
   "outputs": [
    {
     "data": {
      "text/html": [
       "<div>\n",
       "<style scoped>\n",
       "    .dataframe tbody tr th:only-of-type {\n",
       "        vertical-align: middle;\n",
       "    }\n",
       "\n",
       "    .dataframe tbody tr th {\n",
       "        vertical-align: top;\n",
       "    }\n",
       "\n",
       "    .dataframe thead th {\n",
       "        text-align: right;\n",
       "    }\n",
       "</style>\n",
       "<table border=\"1\" class=\"dataframe\">\n",
       "  <thead>\n",
       "    <tr style=\"text-align: right;\">\n",
       "      <th></th>\n",
       "      <th>pib</th>\n",
       "    </tr>\n",
       "    <tr>\n",
       "      <th>sigla_uf</th>\n",
       "      <th></th>\n",
       "    </tr>\n",
       "  </thead>\n",
       "  <tbody>\n",
       "    <tr>\n",
       "      <th>SP</th>\n",
       "      <td>2377638979835</td>\n",
       "    </tr>\n",
       "    <tr>\n",
       "      <th>RJ</th>\n",
       "      <td>753823710636</td>\n",
       "    </tr>\n",
       "    <tr>\n",
       "      <th>MG</th>\n",
       "      <td>682786116407</td>\n",
       "    </tr>\n",
       "    <tr>\n",
       "      <th>PR</th>\n",
       "      <td>487930593779</td>\n",
       "    </tr>\n",
       "    <tr>\n",
       "      <th>RS</th>\n",
       "      <td>470941846057</td>\n",
       "    </tr>\n",
       "  </tbody>\n",
       "</table>\n",
       "</div>"
      ],
      "text/plain": [
       "                    pib\n",
       "sigla_uf               \n",
       "SP        2377638979835\n",
       "RJ         753823710636\n",
       "MG         682786116407\n",
       "PR         487930593779\n",
       "RS         470941846057"
      ]
     },
     "execution_count": 29,
     "metadata": {},
     "output_type": "execute_result"
    }
   ],
   "source": [
    "# Criando um df com os dados desejados\n",
    "df_pib_2020 = df_pib.copy()\n",
    "df_pib_2020 = df_pib_2020.query('ano == 2020').set_index(\n",
    "    'sigla_uf').sort_values('pib', ascending=False)[['pib']]\n",
    "\n",
    "df_pib_2020.head()"
   ]
  },
  {
   "cell_type": "markdown",
   "metadata": {
    "id": "fbIAlL3aUQKS"
   },
   "source": [
    "#### Gerando o gráfico"
   ]
  },
  {
   "cell_type": "code",
   "execution_count": 30,
   "metadata": {
    "id": "b-qojclxUQKS"
   },
   "outputs": [
    {
     "data": {
      "image/png": "[encoded data removed]",
      "text/plain": [
       "<Figure size 600x600 with 1 Axes>"
      ]
     },
     "metadata": {},
     "output_type": "display_data"
    }
   ],
   "source": [
    "# Configurando o gráfico com parâmetros que potencializam a visualização dos dados\n",
    "\n",
    "# Importando as bibliotecas\n",
    "import matplotlib.pyplot as plt\n",
    "\n",
    "# Área do gráfico e tema da visualização\n",
    "fig, ax = plt.subplots(figsize=(6, 6))\n",
    "\n",
    "# Gerando o gráfico de pizza\n",
    "ax.pie(\n",
    "    data=df_pib_2020,\n",
    "    x='pib',\n",
    "    labels=df_pib_2020.index,\n",
    "    autopct='%.1f%%',\n",
    "    radius=1.1,\n",
    "    pctdistance=0.8,\n",
    "    textprops={'size': 12},\n",
    ")\n",
    "\n",
    "# Personalizando o gráfico\n",
    "plt.suptitle('Produto Interno Bruto (PIB) por estado (2020)',\n",
    "             size=18, color=CINZA1)\n",
    "plt.title('Em porcentagem (%)', fontsize=14,\n",
    "          color=CINZA3, pad=15, x=0.1, y=0.98)\n",
    "\n",
    "# # Anotando uma conclusão no gráfico\n",
    "# ax.text(1.1, 0.5,\n",
    "#          'Um $\\\\bf{gráfico\\ de\\ pizza}$, consegue trazer a informação de\\n'\n",
    "#          'participação no PIB de forma direta, no entanto, percebemos\\n'\n",
    "#          'que o uso de $\\\\bf{muitas\\ fatias}$ atrapalham na análise dos\\n'\n",
    "#          'dados para estados com $\\\\bf{menor}$ parcela no PIB.\\n'\n",
    "#          'Além de gerar incômodo visualmente para quem lê.\\n\\n'\n",
    "#          'Percebemos que os estados de $\\\\bf{São\\ Paulo}$, $\\\\bf{Rio\\ de\\ Janeiro}$ e $\\\\bf{Minas\\ Gerais}$\\n'\n",
    "#          'possuem $\\\\bf{maior}$ participação no PIB nacional, porém, não conseguimos\\n'\n",
    "#          'precisar quais estados tem a menor e quanto seria em percentual.',\n",
    "#          fontsize=12,\n",
    "#          linespacing=1.45,\n",
    "#          color=CINZA3, transform= ax.transAxes)\n",
    "\n",
    "plt.show()"
   ]
  },
  {
   "cell_type": "markdown",
   "metadata": {
    "id": "bAc7JYv3UQKS"
   },
   "source": [
    "<font color=green size=4> Conclusões: </font>\n",
    "\n",
    "---\n",
    "\n",
    "Os gráficos de pizza são ideais para mostrar a relação das partes de um todo. Mas dependendo da quantidade de fatias ele dificulta a visualização dos dados. Entretanto, podemos aplicá-lo quando apresentamos composições de dados por meio de pequenas categorias, entre 2 a 5 fatias, ou quando queremos destacar apenas 1 valor frente a diversas categorias agrupando-as em uma só.\n",
    "\n",
    "Como você poderia passar a participação dos estados com menores valores de PIB? Seria por meio do gráfico de pizza ou outra visualização?"
   ]
  },
  {
   "cell_type": "markdown",
   "metadata": {
    "id": "p1X3B0y3pcQz"
   },
   "source": [
    "## **1.4 - Uso correto do gráfico de pizza**\n",
    "\n",
    "---\n",
    "\n",
    "\n"
   ]
  },
  {
   "cell_type": "markdown",
   "metadata": {
    "id": "mCZ4irjr8kte"
   },
   "source": [
    "### **Pergunta 2 -** Houve uma significativa mudança na distribuição do PIB por região comparando os valores de 2002 e 2020?"
   ]
  },
  {
   "cell_type": "markdown",
   "metadata": {
    "id": "GMqN-xAo8ktf"
   },
   "source": [
    "#### Tratando os dados para gerar a visualização"
   ]
  },
  {
   "cell_type": "code",
   "execution_count": 31,
   "metadata": {
    "id": "iSx5_7hC8ktf"
   },
   "outputs": [
    {
     "data": {
      "text/html": [
       "<div>\n",
       "<style scoped>\n",
       "    .dataframe tbody tr th:only-of-type {\n",
       "        vertical-align: middle;\n",
       "    }\n",
       "\n",
       "    .dataframe tbody tr th {\n",
       "        vertical-align: top;\n",
       "    }\n",
       "\n",
       "    .dataframe thead th {\n",
       "        text-align: right;\n",
       "    }\n",
       "</style>\n",
       "<table border=\"1\" class=\"dataframe\">\n",
       "  <thead>\n",
       "    <tr style=\"text-align: right;\">\n",
       "      <th></th>\n",
       "      <th>pib</th>\n",
       "    </tr>\n",
       "    <tr>\n",
       "      <th>regiao</th>\n",
       "      <th></th>\n",
       "    </tr>\n",
       "  </thead>\n",
       "  <tbody>\n",
       "    <tr>\n",
       "      <th>Sudeste</th>\n",
       "      <td>854309793369</td>\n",
       "    </tr>\n",
       "    <tr>\n",
       "      <th>Sul</th>\n",
       "      <td>241564819092</td>\n",
       "    </tr>\n",
       "    <tr>\n",
       "      <th>Nordeste</th>\n",
       "      <td>194847656440</td>\n",
       "    </tr>\n",
       "    <tr>\n",
       "      <th>Centro-Oeste</th>\n",
       "      <td>128162640832</td>\n",
       "    </tr>\n",
       "    <tr>\n",
       "      <th>Norte</th>\n",
       "      <td>69902366306</td>\n",
       "    </tr>\n",
       "  </tbody>\n",
       "</table>\n",
       "</div>"
      ],
      "text/plain": [
       "                       pib\n",
       "regiao                    \n",
       "Sudeste       854309793369\n",
       "Sul           241564819092\n",
       "Nordeste      194847656440\n",
       "Centro-Oeste  128162640832\n",
       "Norte          69902366306"
      ]
     },
     "metadata": {},
     "output_type": "display_data"
    },
    {
     "data": {
      "text/html": [
       "<div>\n",
       "<style scoped>\n",
       "    .dataframe tbody tr th:only-of-type {\n",
       "        vertical-align: middle;\n",
       "    }\n",
       "\n",
       "    .dataframe tbody tr th {\n",
       "        vertical-align: top;\n",
       "    }\n",
       "\n",
       "    .dataframe thead th {\n",
       "        text-align: right;\n",
       "    }\n",
       "</style>\n",
       "<table border=\"1\" class=\"dataframe\">\n",
       "  <thead>\n",
       "    <tr style=\"text-align: right;\">\n",
       "      <th></th>\n",
       "      <th>pib</th>\n",
       "    </tr>\n",
       "    <tr>\n",
       "      <th>regiao</th>\n",
       "      <th></th>\n",
       "    </tr>\n",
       "  </thead>\n",
       "  <tbody>\n",
       "    <tr>\n",
       "      <th>Sudeste</th>\n",
       "      <td>3952694729239</td>\n",
       "    </tr>\n",
       "    <tr>\n",
       "      <th>Sul</th>\n",
       "      <td>1308147455374</td>\n",
       "    </tr>\n",
       "    <tr>\n",
       "      <th>Nordeste</th>\n",
       "      <td>1079331030689</td>\n",
       "    </tr>\n",
       "    <tr>\n",
       "      <th>Centro-Oeste</th>\n",
       "      <td>791250735824</td>\n",
       "    </tr>\n",
       "    <tr>\n",
       "      <th>Norte</th>\n",
       "      <td>478173048893</td>\n",
       "    </tr>\n",
       "  </tbody>\n",
       "</table>\n",
       "</div>"
      ],
      "text/plain": [
       "                        pib\n",
       "regiao                     \n",
       "Sudeste       3952694729239\n",
       "Sul           1308147455374\n",
       "Nordeste      1079331030689\n",
       "Centro-Oeste   791250735824\n",
       "Norte          478173048893"
      ]
     },
     "metadata": {},
     "output_type": "display_data"
    }
   ],
   "source": [
    "# Criando um df com os dados desejados\n",
    "df_pib_2002 = df_pib.query('ano == 2002')[['regiao', 'pib']]\n",
    "df_pib_2020 = df_pib.query('ano == 2020')[['regiao', 'pib']]\n",
    "\n",
    "df_pib_2002 = df_pib_2002.groupby(\n",
    "    'regiao').sum().sort_values('pib', ascending=False)\n",
    "df_pib_2020 = df_pib_2020.groupby(\n",
    "    'regiao').sum().sort_values('pib', ascending=False)\n",
    "\n",
    "display(df_pib_2002, df_pib_2020)"
   ]
  },
  {
   "cell_type": "markdown",
   "metadata": {
    "id": "-WHWfNjJ8ktf"
   },
   "source": [
    "#### Gerando o gráfico"
   ]
  },
  {
   "cell_type": "code",
   "execution_count": 32,
   "metadata": {
    "id": "L_mwB7808ktf"
   },
   "outputs": [
    {
     "data": {
      "image/png": "[encoded data removed]",
      "text/plain": [
       "<Figure size 1400x600 with 2 Axes>"
      ]
     },
     "metadata": {},
     "output_type": "display_data"
    }
   ],
   "source": [
    "# Configurando o gráfico com parâmetros que potencializam a visualização dos dados\n",
    "\n",
    "# Importando as bibliotecas\n",
    "import matplotlib.pyplot as plt\n",
    "\n",
    "# Área do gráfico e tema da visualização\n",
    "fig, axs = plt.subplots(1, 2, figsize=(14, 6))\n",
    "\n",
    "# Definindo as cores do gráfico\n",
    "cores = [AZUL3, LARANJA1, AZUL5, VERDE1, CINZA5]\n",
    "\n",
    "# Personalizando o gráfico\n",
    "plt.suptitle('Produto Interno Bruto (PIB) por região',\n",
    "             fontsize=18, color=CINZA1, ha='right', x=0.5, y=1.05)\n",
    "\n",
    "# GRÁFICO 1 - PIB de 2002 por região\n",
    "ptc, text, _ = axs[0].pie(\n",
    "    data=df_pib_2002,\n",
    "    x='pib',\n",
    "    labels=df_pib_2002.index,\n",
    "    autopct='%.1f%%',\n",
    "    pctdistance=0.6,\n",
    "    textprops={'size': 12, 'fontweight': 'bold', 'color': BRANCO},\n",
    "    colors=cores,\n",
    ")\n",
    "\n",
    "# Título do Gráfico 1\n",
    "axs[0].annotate('Em 2002', xy=(50, 350), size=12, xycoords='axes points',\n",
    "                bbox=dict(boxstyle='round', fc=BRANCO, ec=CINZA3))\n",
    "\n",
    "# Ajustando as cores das regiões relativas as fatias\n",
    "for i, p in enumerate(ptc):\n",
    "    text[i].set_color(p.get_facecolor())\n",
    "\n",
    "#######################################\n",
    "\n",
    "# GRÁFICO 2 - PIB de 2020 por região\n",
    "ptc, text, _ = axs[1].pie(\n",
    "    data=df_pib_2020,\n",
    "    x='pib',\n",
    "    labels=df_pib_2020.index,\n",
    "    autopct='%.1f%%',\n",
    "    pctdistance=0.6,\n",
    "    textprops={'size': 12, 'fontweight': 'bold', 'color': BRANCO},\n",
    "    colors=cores,\n",
    ")\n",
    "\n",
    "# Título do Gráfico 2\n",
    "axs[1].annotate('Em 2020', xy=(50, 350), size=12, xycoords='axes points',\n",
    "                bbox=dict(boxstyle='round', fc=BRANCO, ec=CINZA3))\n",
    "\n",
    "# Ajustando as cores das regiões relativas as fatias\n",
    "for i, p in enumerate(ptc):\n",
    "    text[i].set_color(p.get_facecolor())\n",
    "\n",
    "#######################################\n",
    "\n",
    "axs[0].annotate('A Região Sudeste foi a única que\\nreduziu a participação no PIB',\n",
    "                xy=(180, 245), xycoords='axes points', xytext=(280, 295), textcoords='axes points',\n",
    "                bbox=dict(boxstyle=\"round\", fc=BRANCO, ec=CINZA3),\n",
    "                size=10, arrowprops=dict(arrowstyle=\"->\", fc=CINZA1, connectionstyle=\"arc,angleA=-90,angleB=0,armA=30,armB=30,rad=5\"))\n",
    "\n",
    "axs[1].annotate('\\n\\n', xy=(140, 245), xycoords='axes points', xytext=(-50, 295), textcoords='axes points',\n",
    "                size=10, arrowprops=dict(arrowstyle=\"->\", fc=CINZA1, connectionstyle=\"arc,angleA=-90,angleB=0,armA=30,armB=-30,rad=5\"))\n",
    "\n",
    "plt.show()"
   ]
  },
  {
   "cell_type": "markdown",
   "metadata": {
    "id": "OT73-kb78ktf"
   },
   "source": [
    "<font color=green size=4> Conclusões: </font>\n",
    "\n",
    "---\n",
    "\n",
    "Aqui notamos um uso correto de gráfico de pizza que trouxemos 5 fatias no total. Tecemos uma comparação entre dois períodos separadamente, visto que o gráfico de pizza representa composições estáticas.\n",
    "\n",
    "Podemos notar que apenas a região Sudeste recuou em participação no PIB no período que abrange 18 anos (2002 - 2020). Ou seja, foi possível notar que o PIB foi mais distribuído. Podemos perceber esse comportamento sem nem precisar analisar os dados absolutos, apenas os relativos.\n",
    "\n",
    "Como sugestão, podemos testar adicionando os valores absolutos do PIB das regiões ou fazer essa análise em uma região em específico como por exemplo, a região Sul do Brasil (3 estados apenas)."
   ]
  },
  {
   "cell_type": "markdown",
   "metadata": {
    "id": "juIMc2NawuH3"
   },
   "source": [
    "## **1.5 - Gráfico de rosca**\n",
    "\n",
    "---\n",
    "\n"
   ]
  },
  {
   "cell_type": "markdown",
   "metadata": {
    "id": "VrKVQK1zZfRd"
   },
   "source": [
    "### **Pergunta 3 -** Qual a participação do estado de Minas Gerais no PIB de todo o Brasil no ano de 2020?"
   ]
  },
  {
   "cell_type": "markdown",
   "metadata": {
    "id": "Srsoie6mZfRd"
   },
   "source": [
    "#### Tratando os dados para gerar a visualização"
   ]
  },
  {
   "cell_type": "code",
   "execution_count": 33,
   "metadata": {
    "id": "Rbp44RtpZfRd"
   },
   "outputs": [
    {
     "data": {
      "text/html": [
       "<div>\n",
       "<style scoped>\n",
       "    .dataframe tbody tr th:only-of-type {\n",
       "        vertical-align: middle;\n",
       "    }\n",
       "\n",
       "    .dataframe tbody tr th {\n",
       "        vertical-align: top;\n",
       "    }\n",
       "\n",
       "    .dataframe thead th {\n",
       "        text-align: right;\n",
       "    }\n",
       "</style>\n",
       "<table border=\"1\" class=\"dataframe\">\n",
       "  <thead>\n",
       "    <tr style=\"text-align: right;\">\n",
       "      <th></th>\n",
       "      <th>pib</th>\n",
       "    </tr>\n",
       "    <tr>\n",
       "      <th>sigla_uf</th>\n",
       "      <th></th>\n",
       "    </tr>\n",
       "  </thead>\n",
       "  <tbody>\n",
       "    <tr>\n",
       "      <th>Minas Gerais</th>\n",
       "      <td>682786116407</td>\n",
       "    </tr>\n",
       "    <tr>\n",
       "      <th>Outros</th>\n",
       "      <td>6926810883612</td>\n",
       "    </tr>\n",
       "  </tbody>\n",
       "</table>\n",
       "</div>"
      ],
      "text/plain": [
       "                        pib\n",
       "sigla_uf                   \n",
       "Minas Gerais   682786116407\n",
       "Outros        6926810883612"
      ]
     },
     "execution_count": 33,
     "metadata": {},
     "output_type": "execute_result"
    }
   ],
   "source": [
    "# Criando um df com os dados desejados\n",
    "df_mg_2020 = df_pib.query('ano == 2020')[['sigla_uf', 'pib']]\n",
    "\n",
    "# Renomeando todos os estados como 'Outros' e mudando da sigla MG para Minas Gerais\n",
    "df_mg_2020.loc[df_mg_2020['sigla_uf'] == 'MG', 'sigla_uf'] = 'Minas Gerais'\n",
    "df_mg_2020.loc[df_mg_2020['sigla_uf'] != 'Minas Gerais', 'sigla_uf'] = 'Outros'\n",
    "\n",
    "df_mg_2020 = df_mg_2020.groupby('sigla_uf').sum()\n",
    "df_mg_2020"
   ]
  },
  {
   "cell_type": "markdown",
   "metadata": {
    "id": "AYq7_n8OZfRd"
   },
   "source": [
    "#### Gerando o gráfico"
   ]
  },
  {
   "cell_type": "code",
   "execution_count": 34,
   "metadata": {
    "id": "nmB0zhRoZfRd"
   },
   "outputs": [
    {
     "data": {
      "image/png": "[encoded data removed]",
      "text/plain": [
       "<Figure size 600x600 with 1 Axes>"
      ]
     },
     "metadata": {},
     "output_type": "display_data"
    }
   ],
   "source": [
    "# Configurando o gráfico com parâmetros que potencializam a visualização dos dados\n",
    "\n",
    "# Importando as bibliotecas\n",
    "import matplotlib.pyplot as plt\n",
    "\n",
    "# Área do gráfico e tema da visualização\n",
    "fig, ax = plt.subplots(figsize=(6, 6))\n",
    "\n",
    "# Definindo as cores do gráfico\n",
    "cores = [AZUL3, CINZA5]\n",
    "\n",
    "# Personalizando o gráfico\n",
    "plt.suptitle('PIB de Minas Gerais em relação ao Brasil em 2020',\n",
    "             fontsize=18, color=CINZA1, ha='left', x=0, y=0.9)\n",
    "\n",
    "# Gerando o gráfico do PIB de 2020 de Minas Gerais em relação a todo Brasil\n",
    "ptc, text, _ = ax.pie(\n",
    "    data=df_mg_2020,\n",
    "    x='pib',\n",
    "    labels=df_mg_2020.index,\n",
    "    autopct='%.1f%%',\n",
    "    startangle=0,\n",
    "    pctdistance=0.8,\n",
    "    wedgeprops=dict(width=0.4),\n",
    "    textprops=dict(size=12, fontweight='bold', color=BRANCO),\n",
    "    colors=cores\n",
    ")\n",
    "\n",
    "# Ajustando as cores das regiões relativas as fatias\n",
    "for i, p in enumerate(ptc):\n",
    "    text[i].set_color(p.get_facecolor())\n",
    "\n",
    "plt.show()"
   ]
  },
  {
   "cell_type": "markdown",
   "metadata": {
    "id": "NMNebSXmZfRe"
   },
   "source": [
    "<font color=green size=4> Conclusões: </font>\n",
    "\n",
    "---\n",
    "\n",
    "O gráfico de rosca apresenta a melhor forma de utilizarmos os gráficos de pizza e rosca numa visualização: comparando dados binários ou dicotômicos. Aqui, fizemos a comparação do PIB de Minas Gerais em relação a todo o Brasil no ano de 2020.\n",
    "\n",
    "Como sugestão, podemos analisar o seu próprio estado ou aquele que tenha interesse em comparar com o Brasil inteiro ou até uma região pelo todo em um dado ano."
   ]
  },
  {
   "cell_type": "markdown",
   "metadata": {
    "id": "BGO9CiDvw2br"
   },
   "source": [
    "## **Para saber mais: Gráfico de árvore (Treemap)**\n",
    "\n",
    "---\n",
    "\n"
   ]
  },
  {
   "cell_type": "markdown",
   "metadata": {
    "id": "sCcQgdXUxXfK"
   },
   "source": [
    "Conseguiu descobrir uma forma de representar a participação dos estados com menores valores de PIB? Qual visualização você acha que seria ideal?\n",
    "\n",
    "Vamos recapitular a nossa 1ª pergunta e responder com um **gráfico de árvore**, mais conhecido como **Treemap**:\n",
    "\n",
    "*Como está disposto o PIB nos estados brasileiros no ano de 2020? É possível notar os estados com maior e menor participação no PIB nacional?*"
   ]
  },
  {
   "cell_type": "markdown",
   "metadata": {
    "id": "KxMFOm4Rww7o"
   },
   "source": [
    "#### Visualizando os dados"
   ]
  },
  {
   "cell_type": "code",
   "execution_count": 35,
   "metadata": {
    "id": "yuD0uBMXxExB"
   },
   "outputs": [
    {
     "data": {
      "text/html": [
       "<div>\n",
       "<style scoped>\n",
       "    .dataframe tbody tr th:only-of-type {\n",
       "        vertical-align: middle;\n",
       "    }\n",
       "\n",
       "    .dataframe tbody tr th {\n",
       "        vertical-align: top;\n",
       "    }\n",
       "\n",
       "    .dataframe thead th {\n",
       "        text-align: right;\n",
       "    }\n",
       "</style>\n",
       "<table border=\"1\" class=\"dataframe\">\n",
       "  <thead>\n",
       "    <tr style=\"text-align: right;\">\n",
       "      <th></th>\n",
       "      <th>regiao</th>\n",
       "      <th>sigla_uf</th>\n",
       "      <th>pib</th>\n",
       "      <th>pib_%</th>\n",
       "    </tr>\n",
       "  </thead>\n",
       "  <tbody>\n",
       "    <tr>\n",
       "      <th>379</th>\n",
       "      <td>Sudeste</td>\n",
       "      <td>SP</td>\n",
       "      <td>2378</td>\n",
       "      <td>31.3</td>\n",
       "    </tr>\n",
       "    <tr>\n",
       "      <th>360</th>\n",
       "      <td>Sudeste</td>\n",
       "      <td>RJ</td>\n",
       "      <td>754</td>\n",
       "      <td>9.9</td>\n",
       "    </tr>\n",
       "    <tr>\n",
       "      <th>322</th>\n",
       "      <td>Sudeste</td>\n",
       "      <td>MG</td>\n",
       "      <td>683</td>\n",
       "      <td>9.0</td>\n",
       "    </tr>\n",
       "    <tr>\n",
       "      <th>398</th>\n",
       "      <td>Sul</td>\n",
       "      <td>PR</td>\n",
       "      <td>488</td>\n",
       "      <td>6.4</td>\n",
       "    </tr>\n",
       "    <tr>\n",
       "      <th>436</th>\n",
       "      <td>Sul</td>\n",
       "      <td>RS</td>\n",
       "      <td>471</td>\n",
       "      <td>6.2</td>\n",
       "    </tr>\n",
       "  </tbody>\n",
       "</table>\n",
       "</div>"
      ],
      "text/plain": [
       "      regiao sigla_uf   pib  pib_%\n",
       "379  Sudeste       SP  2378   31.3\n",
       "360  Sudeste       RJ   754    9.9\n",
       "322  Sudeste       MG   683    9.0\n",
       "398      Sul       PR   488    6.4\n",
       "436      Sul       RS   471    6.2"
      ]
     },
     "execution_count": 35,
     "metadata": {},
     "output_type": "execute_result"
    }
   ],
   "source": [
    "# Criando um df com os dados desejados\n",
    "pib_2020 = df_pib.copy()\n",
    "pib_2020 = pib_2020.query('ano == 2020')[['regiao', 'sigla_uf', 'pib']]\n",
    "\n",
    "# Ajustando os valores do PIB para bilhões e ordenando pelo pib\n",
    "pib_2020['pib'] = (pib_2020['pib'] / 1e9).round(0).astype('int64')\n",
    "pib_2020 = pib_2020.sort_values('pib', ascending=False)\n",
    "\n",
    "# Gerando uma coluna para a porcentagem da representação de cada estado no PIB de 2020\n",
    "# e passando para 0 a 100 %\n",
    "pib_2020['pib_%'] = pib_2020['pib'].div(pib_2020['pib'].sum(), axis=0)\n",
    "pib_2020['pib_%'] = (pib_2020['pib_%'] * 100).round(1)\n",
    "\n",
    "pib_2020.head()"
   ]
  },
  {
   "cell_type": "markdown",
   "metadata": {
    "id": "qGUzDeh_ww7p"
   },
   "source": [
    "#### Gerando o gráfico"
   ]
  },
  {
   "cell_type": "code",
   "execution_count": 36,
   "metadata": {
    "id": "a42LyUwmww7p"
   },
   "outputs": [
    {
     "data": {
      "application/vnd.plotly.v1+json": {
       "config": {
        "plotlyServerURL": "https://plot.ly"
       },
       "data": [
        {
         "branchvalues": "total",
         "customdata": [
          [
           "(?)",
           "(?)"
          ],
          [
           "Centro-Oeste",
           "123"
          ],
          [
           "Centro-Oeste",
           "179"
          ],
          [
           "Centro-Oeste",
           "266"
          ],
          [
           "Centro-Oeste",
           "224"
          ],
          [
           "Nordeste",
           "70"
          ],
          [
           "Nordeste",
           "72"
          ],
          [
           "Nordeste",
           "107"
          ],
          [
           "Nordeste",
           "167"
          ],
          [
           "Nordeste",
           "63"
          ],
          [
           "Nordeste",
           "193"
          ],
          [
           "Nordeste",
           "305"
          ],
          [
           "Nordeste",
           "45"
          ],
          [
           "Nordeste",
           "56"
          ],
          [
           "Norte",
           "52"
          ],
          [
           "Norte",
           "16"
          ],
          [
           "Norte",
           "116"
          ],
          [
           "Norte",
           "44"
          ],
          [
           "Norte",
           "18"
          ],
          [
           "Norte",
           "16"
          ],
          [
           "Norte",
           "216"
          ],
          [
           "Sudeste",
           "2378"
          ],
          [
           "Sudeste",
           "683"
          ],
          [
           "Sudeste",
           "754"
          ],
          [
           "Sudeste",
           "138"
          ],
          [
           "Sul",
           "471"
          ],
          [
           "Sul",
           "488"
          ],
          [
           "Sul",
           "349"
          ]
         ],
         "domain": {
          "x": [
           0,
           1
          ],
          "y": [
           0,
           1
          ]
         },
         "hovertemplate": "<b>Estado:</b> %{label} <br><b>Região</b> = %{customdata[0]} <br><b>PIB</b> = R$ %{customdata[1]} bi (%{value}%)",
         "ids": [
          "Distribuição do PIB",
          "Distribuição do PIB/MS",
          "Distribuição do PIB/MT",
          "Distribuição do PIB/DF",
          "Distribuição do PIB/GO",
          "Distribuição do PIB/PB",
          "Distribuição do PIB/RN",
          "Distribuição do PIB/MA",
          "Distribuição do PIB/CE",
          "Distribuição do PIB/AL",
          "Distribuição do PIB/PE",
          "Distribuição do PIB/BA",
          "Distribuição do PIB/SE",
          "Distribuição do PIB/PI",
          "Distribuição do PIB/RO",
          "Distribuição do PIB/AC",
          "Distribuição do PIB/AM",
          "Distribuição do PIB/TO",
          "Distribuição do PIB/AP",
          "Distribuição do PIB/RR",
          "Distribuição do PIB/PA",
          "Distribuição do PIB/SP",
          "Distribuição do PIB/MG",
          "Distribuição do PIB/RJ",
          "Distribuição do PIB/ES",
          "Distribuição do PIB/RS",
          "Distribuição do PIB/PR",
          "Distribuição do PIB/SC"
         ],
         "labels": [
          "Distribuição do PIB",
          "MS",
          "MT",
          "DF",
          "GO",
          "PB",
          "RN",
          "MA",
          "CE",
          "AL",
          "PE",
          "BA",
          "SE",
          "PI",
          "RO",
          "AC",
          "AM",
          "TO",
          "AP",
          "RR",
          "PA",
          "SP",
          "MG",
          "RJ",
          "ES",
          "RS",
          "PR",
          "SC"
         ],
         "marker": {
          "colors": [
           "#FFFFFF",
           "#0C8040",
           "#0C8040",
           "#0C8040",
           "#0C8040",
           "#94AFC5",
           "#94AFC5",
           "#94AFC5",
           "#94AFC5",
           "#94AFC5",
           "#94AFC5",
           "#94AFC5",
           "#94AFC5",
           "#94AFC5",
           "#BFBEBE",
           "#BFBEBE",
           "#BFBEBE",
           "#BFBEBE",
           "#BFBEBE",
           "#BFBEBE",
           "#BFBEBE",
           "#6495ED",
           "#6495ED",
           "#6495ED",
           "#6495ED",
           "#F79747",
           "#F79747",
           "#F79747"
          ],
          "cornerradius": 3
         },
         "name": "",
         "parents": [
          "",
          "Distribuição do PIB",
          "Distribuição do PIB",
          "Distribuição do PIB",
          "Distribuição do PIB",
          "Distribuição do PIB",
          "Distribuição do PIB",
          "Distribuição do PIB",
          "Distribuição do PIB",
          "Distribuição do PIB",
          "Distribuição do PIB",
          "Distribuição do PIB",
          "Distribuição do PIB",
          "Distribuição do PIB",
          "Distribuição do PIB",
          "Distribuição do PIB",
          "Distribuição do PIB",
          "Distribuição do PIB",
          "Distribuição do PIB",
          "Distribuição do PIB",
          "Distribuição do PIB",
          "Distribuição do PIB",
          "Distribuição do PIB",
          "Distribuição do PIB",
          "Distribuição do PIB",
          "Distribuição do PIB",
          "Distribuição do PIB",
          "Distribuição do PIB"
         ],
         "texttemplate": "<b>%{label}</b>",
         "type": "treemap",
         "values": {
          "bdata": "MzMzMzPzWECamZmZmZn5PzMzMzMzMwNAAAAAAAAADEAzMzMzMzMHQM3MzMzMzOw/zczMzMzM7D9mZmZmZmb2P5qZmZmZmQFAmpmZmZmZ6T8AAAAAAAAEQAAAAAAAABBAMzMzMzMz4z9mZmZmZmbmP2ZmZmZmZuY/mpmZmZmZyT8AAAAAAAD4PzMzMzMzM+M/mpmZmZmZyT+amZmZmZnJP2ZmZmZmZgZAzczMzMxMP0AAAAAAAAAiQM3MzMzMzCNAzczMzMzM/D/NzMzMzMwYQJqZmZmZmRlAZmZmZmZmEkA=",
          "dtype": "f8"
         }
        }
       ],
       "layout": {
        "font": {
         "color": "#414040",
         "family": "DejaVu Sans",
         "size": 14
        },
        "height": 600,
        "legend": {
         "tracegroupgap": 0
        },
        "margin": {
         "b": 25,
         "l": 0,
         "r": 0,
         "t": 50
        },
        "template": {
         "data": {
          "bar": [
           {
            "error_x": {
             "color": "#2a3f5f"
            },
            "error_y": {
             "color": "#2a3f5f"
            },
            "marker": {
             "line": {
              "color": "#E5ECF6",
              "width": 0.5
             },
             "pattern": {
              "fillmode": "overlay",
              "size": 10,
              "solidity": 0.2
             }
            },
            "type": "bar"
           }
          ],
          "barpolar": [
           {
            "marker": {
             "line": {
              "color": "#E5ECF6",
              "width": 0.5
             },
             "pattern": {
              "fillmode": "overlay",
              "size": 10,
              "solidity": 0.2
             }
            },
            "type": "barpolar"
           }
          ],
          "carpet": [
           {
            "aaxis": {
             "endlinecolor": "#2a3f5f",
             "gridcolor": "white",
             "linecolor": "white",
             "minorgridcolor": "white",
             "startlinecolor": "#2a3f5f"
            },
            "baxis": {
             "endlinecolor": "#2a3f5f",
             "gridcolor": "white",
             "linecolor": "white",
             "minorgridcolor": "white",
             "startlinecolor": "#2a3f5f"
            },
            "type": "carpet"
           }
          ],
          "choropleth": [
           {
            "colorbar": {
             "outlinewidth": 0,
             "ticks": ""
            },
            "type": "choropleth"
           }
          ],
          "contour": [
           {
            "colorbar": {
             "outlinewidth": 0,
             "ticks": ""
            },
            "colorscale": [
             [
              0,
              "#0d0887"
             ],
             [
              0.1111111111111111,
              "#46039f"
             ],
             [
              0.2222222222222222,
              "#7201a8"
             ],
             [
              0.3333333333333333,
              "#9c179e"
             ],
             [
              0.4444444444444444,
              "#bd3786"
             ],
             [
              0.5555555555555556,
              "#d8576b"
             ],
             [
              0.6666666666666666,
              "#ed7953"
             ],
             [
              0.7777777777777778,
              "#fb9f3a"
             ],
             [
              0.8888888888888888,
              "#fdca26"
             ],
             [
              1,
              "#f0f921"
             ]
            ],
            "type": "contour"
           }
          ],
          "contourcarpet": [
           {
            "colorbar": {
             "outlinewidth": 0,
             "ticks": ""
            },
            "type": "contourcarpet"
           }
          ],
          "heatmap": [
           {
            "colorbar": {
             "outlinewidth": 0,
             "ticks": ""
            },
            "colorscale": [
             [
              0,
              "#0d0887"
             ],
             [
              0.1111111111111111,
              "#46039f"
             ],
             [
              0.2222222222222222,
              "#7201a8"
             ],
             [
              0.3333333333333333,
              "#9c179e"
             ],
             [
              0.4444444444444444,
              "#bd3786"
             ],
             [
              0.5555555555555556,
              "#d8576b"
             ],
             [
              0.6666666666666666,
              "#ed7953"
             ],
             [
              0.7777777777777778,
              "#fb9f3a"
             ],
             [
              0.8888888888888888,
              "#fdca26"
             ],
             [
              1,
              "#f0f921"
             ]
            ],
            "type": "heatmap"
           }
          ],
          "histogram": [
           {
            "marker": {
             "pattern": {
              "fillmode": "overlay",
              "size": 10,
              "solidity": 0.2
             }
            },
            "type": "histogram"
           }
          ],
          "histogram2d": [
           {
            "colorbar": {
             "outlinewidth": 0,
             "ticks": ""
            },
            "colorscale": [
             [
              0,
              "#0d0887"
             ],
             [
              0.1111111111111111,
              "#46039f"
             ],
             [
              0.2222222222222222,
              "#7201a8"
             ],
             [
              0.3333333333333333,
              "#9c179e"
             ],
             [
              0.4444444444444444,
              "#bd3786"
             ],
             [
              0.5555555555555556,
              "#d8576b"
             ],
             [
              0.6666666666666666,
              "#ed7953"
             ],
             [
              0.7777777777777778,
              "#fb9f3a"
             ],
             [
              0.8888888888888888,
              "#fdca26"
             ],
             [
              1,
              "#f0f921"
             ]
            ],
            "type": "histogram2d"
           }
          ],
          "histogram2dcontour": [
           {
            "colorbar": {
             "outlinewidth": 0,
             "ticks": ""
            },
            "colorscale": [
             [
              0,
              "#0d0887"
             ],
             [
              0.1111111111111111,
              "#46039f"
             ],
             [
              0.2222222222222222,
              "#7201a8"
             ],
             [
              0.3333333333333333,
              "#9c179e"
             ],
             [
              0.4444444444444444,
              "#bd3786"
             ],
             [
              0.5555555555555556,
              "#d8576b"
             ],
             [
              0.6666666666666666,
              "#ed7953"
             ],
             [
              0.7777777777777778,
              "#fb9f3a"
             ],
             [
              0.8888888888888888,
              "#fdca26"
             ],
             [
              1,
              "#f0f921"
             ]
            ],
            "type": "histogram2dcontour"
           }
          ],
          "mesh3d": [
           {
            "colorbar": {
             "outlinewidth": 0,
             "ticks": ""
            },
            "type": "mesh3d"
           }
          ],
          "parcoords": [
           {
            "line": {
             "colorbar": {
              "outlinewidth": 0,
              "ticks": ""
             }
            },
            "type": "parcoords"
           }
          ],
          "pie": [
           {
            "automargin": true,
            "type": "pie"
           }
          ],
          "scatter": [
           {
            "fillpattern": {
             "fillmode": "overlay",
             "size": 10,
             "solidity": 0.2
            },
            "type": "scatter"
           }
          ],
          "scatter3d": [
           {
            "line": {
             "colorbar": {
              "outlinewidth": 0,
              "ticks": ""
             }
            },
            "marker": {
             "colorbar": {
              "outlinewidth": 0,
              "ticks": ""
             }
            },
            "type": "scatter3d"
           }
          ],
          "scattercarpet": [
           {
            "marker": {
             "colorbar": {
              "outlinewidth": 0,
              "ticks": ""
             }
            },
            "type": "scattercarpet"
           }
          ],
          "scattergeo": [
           {
            "marker": {
             "colorbar": {
              "outlinewidth": 0,
              "ticks": ""
             }
            },
            "type": "scattergeo"
           }
          ],
          "scattergl": [
           {
            "marker": {
             "colorbar": {
              "outlinewidth": 0,
              "ticks": ""
             }
            },
            "type": "scattergl"
           }
          ],
          "scattermap": [
           {
            "marker": {
             "colorbar": {
              "outlinewidth": 0,
              "ticks": ""
             }
            },
            "type": "scattermap"
           }
          ],
          "scattermapbox": [
           {
            "marker": {
             "colorbar": {
              "outlinewidth": 0,
              "ticks": ""
             }
            },
            "type": "scattermapbox"
           }
          ],
          "scatterpolar": [
           {
            "marker": {
             "colorbar": {
              "outlinewidth": 0,
              "ticks": ""
             }
            },
            "type": "scatterpolar"
           }
          ],
          "scatterpolargl": [
           {
            "marker": {
             "colorbar": {
              "outlinewidth": 0,
              "ticks": ""
             }
            },
            "type": "scatterpolargl"
           }
          ],
          "scatterternary": [
           {
            "marker": {
             "colorbar": {
              "outlinewidth": 0,
              "ticks": ""
             }
            },
            "type": "scatterternary"
           }
          ],
          "surface": [
           {
            "colorbar": {
             "outlinewidth": 0,
             "ticks": ""
            },
            "colorscale": [
             [
              0,
              "#0d0887"
             ],
             [
              0.1111111111111111,
              "#46039f"
             ],
             [
              0.2222222222222222,
              "#7201a8"
             ],
             [
              0.3333333333333333,
              "#9c179e"
             ],
             [
              0.4444444444444444,
              "#bd3786"
             ],
             [
              0.5555555555555556,
              "#d8576b"
             ],
             [
              0.6666666666666666,
              "#ed7953"
             ],
             [
              0.7777777777777778,
              "#fb9f3a"
             ],
             [
              0.8888888888888888,
              "#fdca26"
             ],
             [
              1,
              "#f0f921"
             ]
            ],
            "type": "surface"
           }
          ],
          "table": [
           {
            "cells": {
             "fill": {
              "color": "#EBF0F8"
             },
             "line": {
              "color": "white"
             }
            },
            "header": {
             "fill": {
              "color": "#C8D4E3"
             },
             "line": {
              "color": "white"
             }
            },
            "type": "table"
           }
          ]
         },
         "layout": {
          "annotationdefaults": {
           "arrowcolor": "#2a3f5f",
           "arrowhead": 0,
           "arrowwidth": 1
          },
          "autotypenumbers": "strict",
          "coloraxis": {
           "colorbar": {
            "outlinewidth": 0,
            "ticks": ""
           }
          },
          "colorscale": {
           "diverging": [
            [
             0,
             "#8e0152"
            ],
            [
             0.1,
             "#c51b7d"
            ],
            [
             0.2,
             "#de77ae"
            ],
            [
             0.3,
             "#f1b6da"
            ],
            [
             0.4,
             "#fde0ef"
            ],
            [
             0.5,
             "#f7f7f7"
            ],
            [
             0.6,
             "#e6f5d0"
            ],
            [
             0.7,
             "#b8e186"
            ],
            [
             0.8,
             "#7fbc41"
            ],
            [
             0.9,
             "#4d9221"
            ],
            [
             1,
             "#276419"
            ]
           ],
           "sequential": [
            [
             0,
             "#0d0887"
            ],
            [
             0.1111111111111111,
             "#46039f"
            ],
            [
             0.2222222222222222,
             "#7201a8"
            ],
            [
             0.3333333333333333,
             "#9c179e"
            ],
            [
             0.4444444444444444,
             "#bd3786"
            ],
            [
             0.5555555555555556,
             "#d8576b"
            ],
            [
             0.6666666666666666,
             "#ed7953"
            ],
            [
             0.7777777777777778,
             "#fb9f3a"
            ],
            [
             0.8888888888888888,
             "#fdca26"
            ],
            [
             1,
             "#f0f921"
            ]
           ],
           "sequentialminus": [
            [
             0,
             "#0d0887"
            ],
            [
             0.1111111111111111,
             "#46039f"
            ],
            [
             0.2222222222222222,
             "#7201a8"
            ],
            [
             0.3333333333333333,
             "#9c179e"
            ],
            [
             0.4444444444444444,
             "#bd3786"
            ],
            [
             0.5555555555555556,
             "#d8576b"
            ],
            [
             0.6666666666666666,
             "#ed7953"
            ],
            [
             0.7777777777777778,
             "#fb9f3a"
            ],
            [
             0.8888888888888888,
             "#fdca26"
            ],
            [
             1,
             "#f0f921"
            ]
           ]
          },
          "colorway": [
           "#636efa",
           "#EF553B",
           "#00cc96",
           "#ab63fa",
           "#FFA15A",
           "#19d3f3",
           "#FF6692",
           "#B6E880",
           "#FF97FF",
           "#FECB52"
          ],
          "font": {
           "color": "#2a3f5f"
          },
          "geo": {
           "bgcolor": "white",
           "lakecolor": "white",
           "landcolor": "#E5ECF6",
           "showlakes": true,
           "showland": true,
           "subunitcolor": "white"
          },
          "hoverlabel": {
           "align": "left"
          },
          "hovermode": "closest",
          "mapbox": {
           "style": "light"
          },
          "paper_bgcolor": "white",
          "plot_bgcolor": "#E5ECF6",
          "polar": {
           "angularaxis": {
            "gridcolor": "white",
            "linecolor": "white",
            "ticks": ""
           },
           "bgcolor": "#E5ECF6",
           "radialaxis": {
            "gridcolor": "white",
            "linecolor": "white",
            "ticks": ""
           }
          },
          "scene": {
           "xaxis": {
            "backgroundcolor": "#E5ECF6",
            "gridcolor": "white",
            "gridwidth": 2,
            "linecolor": "white",
            "showbackground": true,
            "ticks": "",
            "zerolinecolor": "white"
           },
           "yaxis": {
            "backgroundcolor": "#E5ECF6",
            "gridcolor": "white",
            "gridwidth": 2,
            "linecolor": "white",
            "showbackground": true,
            "ticks": "",
            "zerolinecolor": "white"
           },
           "zaxis": {
            "backgroundcolor": "#E5ECF6",
            "gridcolor": "white",
            "gridwidth": 2,
            "linecolor": "white",
            "showbackground": true,
            "ticks": "",
            "zerolinecolor": "white"
           }
          },
          "shapedefaults": {
           "line": {
            "color": "#2a3f5f"
           }
          },
          "ternary": {
           "aaxis": {
            "gridcolor": "white",
            "linecolor": "white",
            "ticks": ""
           },
           "baxis": {
            "gridcolor": "white",
            "linecolor": "white",
            "ticks": ""
           },
           "bgcolor": "#E5ECF6",
           "caxis": {
            "gridcolor": "white",
            "linecolor": "white",
            "ticks": ""
           }
          },
          "title": {
           "x": 0.05
          },
          "xaxis": {
           "automargin": true,
           "gridcolor": "white",
           "linecolor": "white",
           "ticks": "",
           "title": {
            "standoff": 15
           },
           "zerolinecolor": "white",
           "zerolinewidth": 2
          },
          "yaxis": {
           "automargin": true,
           "gridcolor": "white",
           "linecolor": "white",
           "ticks": "",
           "title": {
            "standoff": 15
           },
           "zerolinecolor": "white",
           "zerolinewidth": 2
          }
         }
        },
        "title": {
         "font": {
          "color": "#231F20",
          "size": 24
         },
         "text": "Distribuição do PIB nos estados brasileiros no ano de 2020 (em bilhões de reais)"
        },
        "width": 1400
       }
      }
     },
     "metadata": {},
     "output_type": "display_data"
    }
   ],
   "source": [
    "# Importando a biblioteca\n",
    "import plotly.express as px\n",
    "\n",
    "# Gerando o gráfico de árvore (TREEMAP) para os anos de 2015 a 2022\n",
    "fig = px.treemap(\n",
    "    pib_2020,\n",
    "    path=[px.Constant('Distribuição do PIB'), 'sigla_uf'],\n",
    "    values='pib_%',\n",
    "    color='regiao',\n",
    "    custom_data=['regiao', 'pib'],\n",
    "    title='Distribuição do PIB nos estados brasileiros no ano de 2020 (em bilhões de reais)',\n",
    "    color_discrete_map={\n",
    "        '(?)': BRANCO,\n",
    "        'Sudeste': AZUL3,\n",
    "        'Sul': LARANJA1,\n",
    "        'Nordeste': AZUL5,\n",
    "        'Centro-Oeste': VERDE1,\n",
    "        'Norte': CINZA5,\n",
    "    },\n",
    ")\n",
    "\n",
    "\n",
    "# Ajustando o layout do gráfico\n",
    "fig.update_layout(width=1400, height=600, margin=dict(t=50, l=0, r=0, b=25), font_family='DejaVu Sans',\n",
    "                  font_size=14, font_color=CINZA2, title_font_color=CINZA1, title_font_size=24)\n",
    "\n",
    "# Ajustando o hovertext\n",
    "fig.update_traces(marker=dict(cornerradius=3), texttemplate='<b>%{label}</b>', hovertemplate='<b>Estado:</b> %{label} <br><b>Região</b> = %{customdata[0]} <br>'\n",
    "                                                                                             '<b>PIB</b> = R$ %{customdata[1]} bi (%{value}%)')\n",
    "fig.show()"
   ]
  },
  {
   "cell_type": "markdown",
   "metadata": {
    "id": "XXqhzZNiww7p"
   },
   "source": [
    "<font color=green size=4> Conclusões: </font>\n",
    "\n",
    "---\n",
    "\n",
    "Um treemap é uma espécie de diagrama de árvore que utiliza retângulos dimensionados diferentemente para representar os valores numéricos para cada ramificação.\n",
    "\n",
    "Os treemaps respondem  sobre as proporções dos dados e a relação das categorias no total. Aqui separamos cada estado pela região (cores) e sua participação no pib (setores)."
   ]
  },
  {
   "cell_type": "markdown",
   "metadata": {
    "id": "NzC9mzrHhzW3"
   },
   "source": [
    "# **Aula 2 - Compondo dados estáticos**"
   ]
  },
  {
   "cell_type": "markdown",
   "metadata": {
    "id": "n1VvSCOeyI4w"
   },
   "source": [
    "<img src=\"https://github.com/afonsosr2/dataviz-graficos-composicao-relacionamento/blob/184cef2649b20ac20bb2d3dfe4e73cd4d38249cc/imagens/Tipos_Graficos/Gr%C3%A1ficos%20de%20composi%C3%A7%C3%A3o%20(compondo%20dados%20estaticos%20e%20din%C3%A2micos).png?raw=true\" alt=\"inserir alt\" height=\"343\">\n",
    "\n",
    "\n",
    "<font size=2>Fonte: Andrew Abela (Extreme Presentation/Biuwer)</font>\n"
   ]
  },
  {
   "cell_type": "markdown",
   "metadata": {
    "id": "nSkpelMIsivz"
   },
   "source": [
    "## **2.1 - Gráfico de cascata simples**\n",
    "\n",
    "---\n",
    "\n"
   ]
  },
  {
   "cell_type": "markdown",
   "metadata": {
    "id": "jG3xTIBYscd1"
   },
   "source": [
    "### **Pergunta 4 -** Como está distribuído o PIB do estado da Bahia em 2020 separado por impostos líquidos e os valores adicionados brutos dos bens e serviços produzidos?"
   ]
  },
  {
   "cell_type": "markdown",
   "metadata": {
    "id": "G1Rd-o0uscd2"
   },
   "source": [
    "#### Tratando os dados para gerar a visualização"
   ]
  },
  {
   "cell_type": "code",
   "execution_count": 37,
   "metadata": {
    "id": "MBPx8bOnscd3"
   },
   "outputs": [
    {
     "data": {
      "text/html": [
       "<div>\n",
       "<style scoped>\n",
       "    .dataframe tbody tr th:only-of-type {\n",
       "        vertical-align: middle;\n",
       "    }\n",
       "\n",
       "    .dataframe tbody tr th {\n",
       "        vertical-align: top;\n",
       "    }\n",
       "\n",
       "    .dataframe thead th {\n",
       "        text-align: right;\n",
       "    }\n",
       "</style>\n",
       "<table border=\"1\" class=\"dataframe\">\n",
       "  <thead>\n",
       "    <tr style=\"text-align: right;\">\n",
       "      <th></th>\n",
       "      <th>PIB</th>\n",
       "      <th>Impostos Líquidos</th>\n",
       "      <th>Valor Adicionado Bruto</th>\n",
       "    </tr>\n",
       "  </thead>\n",
       "  <tbody>\n",
       "    <tr>\n",
       "      <th>303</th>\n",
       "      <td>305320812691</td>\n",
       "      <td>37094030606</td>\n",
       "      <td>268226782074</td>\n",
       "    </tr>\n",
       "  </tbody>\n",
       "</table>\n",
       "</div>"
      ],
      "text/plain": [
       "              PIB  Impostos Líquidos  Valor Adicionado Bruto\n",
       "303  305320812691        37094030606            268226782074"
      ]
     },
     "execution_count": 37,
     "metadata": {},
     "output_type": "execute_result"
    }
   ],
   "source": [
    "bahia = df_pib.query('sigla_uf == \"BA\" and ano == 2020')[\n",
    "    ['pib', 'impostos_liquidos', 'va']]\n",
    "bahia.rename(\n",
    "    columns={\n",
    "        'pib': 'PIB',\n",
    "        'impostos_liquidos': 'Impostos Líquidos',\n",
    "        'va': 'Valor Adicionado Bruto'\n",
    "    },\n",
    "    inplace=True\n",
    ")\n",
    "bahia"
   ]
  },
  {
   "cell_type": "code",
   "execution_count": 38,
   "metadata": {
    "id": "kuvCo-wYscd4"
   },
   "outputs": [
    {
     "data": {
      "text/html": [
       "<div>\n",
       "<style scoped>\n",
       "    .dataframe tbody tr th:only-of-type {\n",
       "        vertical-align: middle;\n",
       "    }\n",
       "\n",
       "    .dataframe tbody tr th {\n",
       "        vertical-align: top;\n",
       "    }\n",
       "\n",
       "    .dataframe thead th {\n",
       "        text-align: right;\n",
       "    }\n",
       "</style>\n",
       "<table border=\"1\" class=\"dataframe\">\n",
       "  <thead>\n",
       "    <tr style=\"text-align: right;\">\n",
       "      <th></th>\n",
       "      <th>Indicadores</th>\n",
       "      <th>Valores</th>\n",
       "    </tr>\n",
       "  </thead>\n",
       "  <tbody>\n",
       "    <tr>\n",
       "      <th>0</th>\n",
       "      <td>PIB</td>\n",
       "      <td>305320812691</td>\n",
       "    </tr>\n",
       "    <tr>\n",
       "      <th>1</th>\n",
       "      <td>Impostos Líquidos</td>\n",
       "      <td>37094030606</td>\n",
       "    </tr>\n",
       "    <tr>\n",
       "      <th>2</th>\n",
       "      <td>Valor Adicionado Bruto</td>\n",
       "      <td>268226782074</td>\n",
       "    </tr>\n",
       "  </tbody>\n",
       "</table>\n",
       "</div>"
      ],
      "text/plain": [
       "              Indicadores       Valores\n",
       "0                     PIB  305320812691\n",
       "1       Impostos Líquidos   37094030606\n",
       "2  Valor Adicionado Bruto  268226782074"
      ]
     },
     "execution_count": 38,
     "metadata": {},
     "output_type": "execute_result"
    }
   ],
   "source": [
    "# Criando um df com os dados desejados\n",
    "bahia = bahia.melt(var_name='Indicadores', value_name='Valores')\n",
    "\n",
    "bahia"
   ]
  },
  {
   "cell_type": "code",
   "execution_count": 39,
   "metadata": {},
   "outputs": [],
   "source": [
    "# Alterando os impostos para decréscimo, criando uma coluna com os valores em string e outra com as medidas\n",
    "bahia.loc[bahia['Indicadores'] == 'Impostos Líquidos',\n",
    "          'Valores'] = bahia['Valores'] * -1\n",
    "bahia['Valores_str'] = (bahia['Valores']/1e9).map('R$ {:,.2f} Bi'.format)\n",
    "bahia['Medidas'] = ['absolute', 'relative', 'total']"
   ]
  },
  {
   "cell_type": "markdown",
   "metadata": {
    "id": "gczjrv2Yscd5"
   },
   "source": [
    "#### Gerando o gráfico"
   ]
  },
  {
   "cell_type": "code",
   "execution_count": 40,
   "metadata": {
    "id": "3i5xQWXBscd5"
   },
   "outputs": [
    {
     "data": {
      "application/vnd.plotly.v1+json": {
       "config": {
        "plotlyServerURL": "https://plot.ly"
       },
       "data": [
        {
         "connector": {
          "line": {
           "color": "#555655"
          }
         },
         "decreasing": {
          "marker": {
           "color": "#C3514E"
          }
         },
         "hovertemplate": "<b>%{x}</b> = %{text}",
         "measure": [
          "absolute",
          "relative",
          "total"
         ],
         "name": "",
         "orientation": "v",
         "text": [
          "R$ 305.32 Bi",
          "R$ -37.09 Bi",
          "R$ 268.23 Bi"
         ],
         "textposition": "outside",
         "totals": {
          "marker": {
           "color": "#6495ED"
          }
         },
         "type": "waterfall",
         "x": [
          "PIB",
          "Impostos Líquidos",
          "Valor Adicionado Bruto"
         ],
         "y": [
          305320812691,
          -37094030606,
          268226782074
         ]
        }
       ],
       "layout": {
        "annotations": [
         {
          "align": "left",
          "showarrow": false,
          "text": "Fonte dos dados: <a href=\"https://sidra.ibge.gov.br/pesquisa/pib-munic/tabelas\">Produto Interno Bruto | IBGE</a>",
          "x": 1,
          "xref": "paper",
          "y": -0.2,
          "yref": "paper"
         }
        ],
        "font": {
         "color": "#414040",
         "family": "DejaVu Sans",
         "size": 15
        },
        "height": 500,
        "hovermode": "closest",
        "plot_bgcolor": "#FFFFFF",
        "template": {
         "data": {
          "bar": [
           {
            "error_x": {
             "color": "#2a3f5f"
            },
            "error_y": {
             "color": "#2a3f5f"
            },
            "marker": {
             "line": {
              "color": "#E5ECF6",
              "width": 0.5
             },
             "pattern": {
              "fillmode": "overlay",
              "size": 10,
              "solidity": 0.2
             }
            },
            "type": "bar"
           }
          ],
          "barpolar": [
           {
            "marker": {
             "line": {
              "color": "#E5ECF6",
              "width": 0.5
             },
             "pattern": {
              "fillmode": "overlay",
              "size": 10,
              "solidity": 0.2
             }
            },
            "type": "barpolar"
           }
          ],
          "carpet": [
           {
            "aaxis": {
             "endlinecolor": "#2a3f5f",
             "gridcolor": "white",
             "linecolor": "white",
             "minorgridcolor": "white",
             "startlinecolor": "#2a3f5f"
            },
            "baxis": {
             "endlinecolor": "#2a3f5f",
             "gridcolor": "white",
             "linecolor": "white",
             "minorgridcolor": "white",
             "startlinecolor": "#2a3f5f"
            },
            "type": "carpet"
           }
          ],
          "choropleth": [
           {
            "colorbar": {
             "outlinewidth": 0,
             "ticks": ""
            },
            "type": "choropleth"
           }
          ],
          "contour": [
           {
            "colorbar": {
             "outlinewidth": 0,
             "ticks": ""
            },
            "colorscale": [
             [
              0,
              "#0d0887"
             ],
             [
              0.1111111111111111,
              "#46039f"
             ],
             [
              0.2222222222222222,
              "#7201a8"
             ],
             [
              0.3333333333333333,
              "#9c179e"
             ],
             [
              0.4444444444444444,
              "#bd3786"
             ],
             [
              0.5555555555555556,
              "#d8576b"
             ],
             [
              0.6666666666666666,
              "#ed7953"
             ],
             [
              0.7777777777777778,
              "#fb9f3a"
             ],
             [
              0.8888888888888888,
              "#fdca26"
             ],
             [
              1,
              "#f0f921"
             ]
            ],
            "type": "contour"
           }
          ],
          "contourcarpet": [
           {
            "colorbar": {
             "outlinewidth": 0,
             "ticks": ""
            },
            "type": "contourcarpet"
           }
          ],
          "heatmap": [
           {
            "colorbar": {
             "outlinewidth": 0,
             "ticks": ""
            },
            "colorscale": [
             [
              0,
              "#0d0887"
             ],
             [
              0.1111111111111111,
              "#46039f"
             ],
             [
              0.2222222222222222,
              "#7201a8"
             ],
             [
              0.3333333333333333,
              "#9c179e"
             ],
             [
              0.4444444444444444,
              "#bd3786"
             ],
             [
              0.5555555555555556,
              "#d8576b"
             ],
             [
              0.6666666666666666,
              "#ed7953"
             ],
             [
              0.7777777777777778,
              "#fb9f3a"
             ],
             [
              0.8888888888888888,
              "#fdca26"
             ],
             [
              1,
              "#f0f921"
             ]
            ],
            "type": "heatmap"
           }
          ],
          "histogram": [
           {
            "marker": {
             "pattern": {
              "fillmode": "overlay",
              "size": 10,
              "solidity": 0.2
             }
            },
            "type": "histogram"
           }
          ],
          "histogram2d": [
           {
            "colorbar": {
             "outlinewidth": 0,
             "ticks": ""
            },
            "colorscale": [
             [
              0,
              "#0d0887"
             ],
             [
              0.1111111111111111,
              "#46039f"
             ],
             [
              0.2222222222222222,
              "#7201a8"
             ],
             [
              0.3333333333333333,
              "#9c179e"
             ],
             [
              0.4444444444444444,
              "#bd3786"
             ],
             [
              0.5555555555555556,
              "#d8576b"
             ],
             [
              0.6666666666666666,
              "#ed7953"
             ],
             [
              0.7777777777777778,
              "#fb9f3a"
             ],
             [
              0.8888888888888888,
              "#fdca26"
             ],
             [
              1,
              "#f0f921"
             ]
            ],
            "type": "histogram2d"
           }
          ],
          "histogram2dcontour": [
           {
            "colorbar": {
             "outlinewidth": 0,
             "ticks": ""
            },
            "colorscale": [
             [
              0,
              "#0d0887"
             ],
             [
              0.1111111111111111,
              "#46039f"
             ],
             [
              0.2222222222222222,
              "#7201a8"
             ],
             [
              0.3333333333333333,
              "#9c179e"
             ],
             [
              0.4444444444444444,
              "#bd3786"
             ],
             [
              0.5555555555555556,
              "#d8576b"
             ],
             [
              0.6666666666666666,
              "#ed7953"
             ],
             [
              0.7777777777777778,
              "#fb9f3a"
             ],
             [
              0.8888888888888888,
              "#fdca26"
             ],
             [
              1,
              "#f0f921"
             ]
            ],
            "type": "histogram2dcontour"
           }
          ],
          "mesh3d": [
           {
            "colorbar": {
             "outlinewidth": 0,
             "ticks": ""
            },
            "type": "mesh3d"
           }
          ],
          "parcoords": [
           {
            "line": {
             "colorbar": {
              "outlinewidth": 0,
              "ticks": ""
             }
            },
            "type": "parcoords"
           }
          ],
          "pie": [
           {
            "automargin": true,
            "type": "pie"
           }
          ],
          "scatter": [
           {
            "fillpattern": {
             "fillmode": "overlay",
             "size": 10,
             "solidity": 0.2
            },
            "type": "scatter"
           }
          ],
          "scatter3d": [
           {
            "line": {
             "colorbar": {
              "outlinewidth": 0,
              "ticks": ""
             }
            },
            "marker": {
             "colorbar": {
              "outlinewidth": 0,
              "ticks": ""
             }
            },
            "type": "scatter3d"
           }
          ],
          "scattercarpet": [
           {
            "marker": {
             "colorbar": {
              "outlinewidth": 0,
              "ticks": ""
             }
            },
            "type": "scattercarpet"
           }
          ],
          "scattergeo": [
           {
            "marker": {
             "colorbar": {
              "outlinewidth": 0,
              "ticks": ""
             }
            },
            "type": "scattergeo"
           }
          ],
          "scattergl": [
           {
            "marker": {
             "colorbar": {
              "outlinewidth": 0,
              "ticks": ""
             }
            },
            "type": "scattergl"
           }
          ],
          "scattermap": [
           {
            "marker": {
             "colorbar": {
              "outlinewidth": 0,
              "ticks": ""
             }
            },
            "type": "scattermap"
           }
          ],
          "scattermapbox": [
           {
            "marker": {
             "colorbar": {
              "outlinewidth": 0,
              "ticks": ""
             }
            },
            "type": "scattermapbox"
           }
          ],
          "scatterpolar": [
           {
            "marker": {
             "colorbar": {
              "outlinewidth": 0,
              "ticks": ""
             }
            },
            "type": "scatterpolar"
           }
          ],
          "scatterpolargl": [
           {
            "marker": {
             "colorbar": {
              "outlinewidth": 0,
              "ticks": ""
             }
            },
            "type": "scatterpolargl"
           }
          ],
          "scatterternary": [
           {
            "marker": {
             "colorbar": {
              "outlinewidth": 0,
              "ticks": ""
             }
            },
            "type": "scatterternary"
           }
          ],
          "surface": [
           {
            "colorbar": {
             "outlinewidth": 0,
             "ticks": ""
            },
            "colorscale": [
             [
              0,
              "#0d0887"
             ],
             [
              0.1111111111111111,
              "#46039f"
             ],
             [
              0.2222222222222222,
              "#7201a8"
             ],
             [
              0.3333333333333333,
              "#9c179e"
             ],
             [
              0.4444444444444444,
              "#bd3786"
             ],
             [
              0.5555555555555556,
              "#d8576b"
             ],
             [
              0.6666666666666666,
              "#ed7953"
             ],
             [
              0.7777777777777778,
              "#fb9f3a"
             ],
             [
              0.8888888888888888,
              "#fdca26"
             ],
             [
              1,
              "#f0f921"
             ]
            ],
            "type": "surface"
           }
          ],
          "table": [
           {
            "cells": {
             "fill": {
              "color": "#EBF0F8"
             },
             "line": {
              "color": "white"
             }
            },
            "header": {
             "fill": {
              "color": "#C8D4E3"
             },
             "line": {
              "color": "white"
             }
            },
            "type": "table"
           }
          ]
         },
         "layout": {
          "annotationdefaults": {
           "arrowcolor": "#2a3f5f",
           "arrowhead": 0,
           "arrowwidth": 1
          },
          "autotypenumbers": "strict",
          "coloraxis": {
           "colorbar": {
            "outlinewidth": 0,
            "ticks": ""
           }
          },
          "colorscale": {
           "diverging": [
            [
             0,
             "#8e0152"
            ],
            [
             0.1,
             "#c51b7d"
            ],
            [
             0.2,
             "#de77ae"
            ],
            [
             0.3,
             "#f1b6da"
            ],
            [
             0.4,
             "#fde0ef"
            ],
            [
             0.5,
             "#f7f7f7"
            ],
            [
             0.6,
             "#e6f5d0"
            ],
            [
             0.7,
             "#b8e186"
            ],
            [
             0.8,
             "#7fbc41"
            ],
            [
             0.9,
             "#4d9221"
            ],
            [
             1,
             "#276419"
            ]
           ],
           "sequential": [
            [
             0,
             "#0d0887"
            ],
            [
             0.1111111111111111,
             "#46039f"
            ],
            [
             0.2222222222222222,
             "#7201a8"
            ],
            [
             0.3333333333333333,
             "#9c179e"
            ],
            [
             0.4444444444444444,
             "#bd3786"
            ],
            [
             0.5555555555555556,
             "#d8576b"
            ],
            [
             0.6666666666666666,
             "#ed7953"
            ],
            [
             0.7777777777777778,
             "#fb9f3a"
            ],
            [
             0.8888888888888888,
             "#fdca26"
            ],
            [
             1,
             "#f0f921"
            ]
           ],
           "sequentialminus": [
            [
             0,
             "#0d0887"
            ],
            [
             0.1111111111111111,
             "#46039f"
            ],
            [
             0.2222222222222222,
             "#7201a8"
            ],
            [
             0.3333333333333333,
             "#9c179e"
            ],
            [
             0.4444444444444444,
             "#bd3786"
            ],
            [
             0.5555555555555556,
             "#d8576b"
            ],
            [
             0.6666666666666666,
             "#ed7953"
            ],
            [
             0.7777777777777778,
             "#fb9f3a"
            ],
            [
             0.8888888888888888,
             "#fdca26"
            ],
            [
             1,
             "#f0f921"
            ]
           ]
          },
          "colorway": [
           "#636efa",
           "#EF553B",
           "#00cc96",
           "#ab63fa",
           "#FFA15A",
           "#19d3f3",
           "#FF6692",
           "#B6E880",
           "#FF97FF",
           "#FECB52"
          ],
          "font": {
           "color": "#2a3f5f"
          },
          "geo": {
           "bgcolor": "white",
           "lakecolor": "white",
           "landcolor": "#E5ECF6",
           "showlakes": true,
           "showland": true,
           "subunitcolor": "white"
          },
          "hoverlabel": {
           "align": "left"
          },
          "hovermode": "closest",
          "mapbox": {
           "style": "light"
          },
          "paper_bgcolor": "white",
          "plot_bgcolor": "#E5ECF6",
          "polar": {
           "angularaxis": {
            "gridcolor": "white",
            "linecolor": "white",
            "ticks": ""
           },
           "bgcolor": "#E5ECF6",
           "radialaxis": {
            "gridcolor": "white",
            "linecolor": "white",
            "ticks": ""
           }
          },
          "scene": {
           "xaxis": {
            "backgroundcolor": "#E5ECF6",
            "gridcolor": "white",
            "gridwidth": 2,
            "linecolor": "white",
            "showbackground": true,
            "ticks": "",
            "zerolinecolor": "white"
           },
           "yaxis": {
            "backgroundcolor": "#E5ECF6",
            "gridcolor": "white",
            "gridwidth": 2,
            "linecolor": "white",
            "showbackground": true,
            "ticks": "",
            "zerolinecolor": "white"
           },
           "zaxis": {
            "backgroundcolor": "#E5ECF6",
            "gridcolor": "white",
            "gridwidth": 2,
            "linecolor": "white",
            "showbackground": true,
            "ticks": "",
            "zerolinecolor": "white"
           }
          },
          "shapedefaults": {
           "line": {
            "color": "#2a3f5f"
           }
          },
          "ternary": {
           "aaxis": {
            "gridcolor": "white",
            "linecolor": "white",
            "ticks": ""
           },
           "baxis": {
            "gridcolor": "white",
            "linecolor": "white",
            "ticks": ""
           },
           "bgcolor": "#E5ECF6",
           "caxis": {
            "gridcolor": "white",
            "linecolor": "white",
            "ticks": ""
           }
          },
          "title": {
           "x": 0.05
          },
          "xaxis": {
           "automargin": true,
           "gridcolor": "white",
           "linecolor": "white",
           "ticks": "",
           "title": {
            "standoff": 15
           },
           "zerolinecolor": "white",
           "zerolinewidth": 2
          },
          "yaxis": {
           "automargin": true,
           "gridcolor": "white",
           "linecolor": "white",
           "ticks": "",
           "title": {
            "standoff": 15
           },
           "zerolinecolor": "white",
           "zerolinewidth": 2
          }
         }
        },
        "title": {
         "font": {
          "color": "#231F20",
          "size": 24
         },
         "pad": {
          "l": 50
         },
         "text": "Distribuição do Produto Interno Bruto (PIB) da Bahia em 2020<br><sup size=1 style=\"color:#555655\">Impostos líquidos e Valores Adicionados Brutos de bens e serviços (em bilhões de reais)</sup>"
        },
        "width": 1000,
        "yaxis": {
         "range": [
          0,
          380000000000
         ],
         "showticklabels": false
        }
       }
      }
     },
     "metadata": {},
     "output_type": "display_data"
    }
   ],
   "source": [
    "# Configurando o gráfico com parâmetros que potencializam a visualização dos dados\n",
    "\n",
    "# Importando as bibliotecas\n",
    "import plotly.graph_objects as go\n",
    "\n",
    "# Gerando o gráfico de cascata\n",
    "fig = go.Figure(go.Waterfall(name=\"\", orientation=\"v\", measure=bahia[\"Medidas\"],\n",
    "                             x=bahia[\"Indicadores\"],  y=bahia[\"Valores\"],\n",
    "                             text=bahia[\"Valores_str\"], textposition=\"outside\",\n",
    "                             connector_line=dict(color=CINZA3),\n",
    "                             totals_marker=dict(color=AZUL3),\n",
    "                             decreasing_marker=dict(color=VERMELHO1)\n",
    "                             )\n",
    "                )\n",
    "\n",
    "# Personalizando o gráfico\n",
    "fig.update_layout(width=1000, height=500, font_family='DejaVu Sans', font_size=15,\n",
    "                  font_color=CINZA2, title_font_color=CINZA1, title_font_size=24,\n",
    "                  title_text='Distribuição do Produto Interno Bruto (PIB) da Bahia em 2020' +\n",
    "                             '<br><sup size=1 style=\"color:#555655\">Impostos líquidos e Valores ' +\n",
    "                  'Adicionados Brutos de bens e serviços (em bilhões de reais)</sup>',\n",
    "                  title_pad_l=50, plot_bgcolor=BRANCO, yaxis_range=[0, 380e9], hovermode=\"closest\")\n",
    "\n",
    "# Retirando os ticks do eixo y\n",
    "fig.update_yaxes(showticklabels=False)\n",
    "\n",
    "# Dados ao passar o mouse\n",
    "fig.update_traces(hovertemplate=\"<b>%{x}</b> = %{text}\")\n",
    "\n",
    "fig.add_annotation(text='Fonte dos dados: <a href=\"https://sidra.ibge.gov.br/pesquisa/pib-munic/tabelas\">Produto Interno Bruto | IBGE</a>',\n",
    "                   align=\"left\", xref=\"paper\", yref=\"paper\", x=1, y=-0.2, showarrow=False)\n",
    "\n",
    "fig.show()"
   ]
  },
  {
   "cell_type": "markdown",
   "metadata": {
    "id": "bC-BzT5dscd8"
   },
   "source": [
    "<font color=green size=4> Conclusões: </font>\n",
    "\n",
    "---\n",
    "\n",
    "Um gráfico de cascata é aplamente utilizado em dados econômicos e financeiros por sua natureza de representar de maneira simples e direta a acumulação e /ou subtração do total em determinado período ou em diferentes categorias.\n",
    "\n",
    "Como sugestão, podemos analisar esses valores do seu próprio estado ou até separar os valores adicionados por tipo de serviço mostrando a agregação de cada um.\n",
    "\n",
    "**Observação:** Para auxiliar na compreensão do gráfico, os bens e serviços finais que compõem o PIB são medidos no preço em que chegam ao consumidor. Dessa forma, levam em consideração também os impostos sobre os produtos comercializados."
   ]
  },
  {
   "cell_type": "markdown",
   "metadata": {
    "id": "RykpKIOwxwMr"
   },
   "source": [
    "## **2.2 - Adicionando mais acréscimos/decréscimos**\n",
    "\n",
    "---\n",
    "\n"
   ]
  },
  {
   "cell_type": "markdown",
   "metadata": {
    "id": "dYmDjVM0J07p"
   },
   "source": [
    "### **Pergunta 5 -** Qual a evolução anual do PIB do estado do Rio de Janeiro entre os anos de 2010 a 2020?"
   ]
  },
  {
   "cell_type": "markdown",
   "metadata": {
    "id": "uLZzjFG5J07q"
   },
   "source": [
    "#### Tratando os dados para gerar a visualização"
   ]
  },
  {
   "cell_type": "code",
   "execution_count": 41,
   "metadata": {
    "id": "OJe_MbizJ07r"
   },
   "outputs": [
    {
     "data": {
      "text/html": [
       "<div>\n",
       "<style scoped>\n",
       "    .dataframe tbody tr th:only-of-type {\n",
       "        vertical-align: middle;\n",
       "    }\n",
       "\n",
       "    .dataframe tbody tr th {\n",
       "        vertical-align: top;\n",
       "    }\n",
       "\n",
       "    .dataframe thead th {\n",
       "        text-align: right;\n",
       "    }\n",
       "</style>\n",
       "<table border=\"1\" class=\"dataframe\">\n",
       "  <thead>\n",
       "    <tr style=\"text-align: right;\">\n",
       "      <th></th>\n",
       "      <th>ano</th>\n",
       "      <th>pib</th>\n",
       "    </tr>\n",
       "  </thead>\n",
       "  <tbody>\n",
       "    <tr>\n",
       "      <th>0</th>\n",
       "      <td>2010</td>\n",
       "      <td>449858101109</td>\n",
       "    </tr>\n",
       "    <tr>\n",
       "      <th>1</th>\n",
       "      <td>2011</td>\n",
       "      <td>512767904769</td>\n",
       "    </tr>\n",
       "    <tr>\n",
       "      <th>2</th>\n",
       "      <td>2012</td>\n",
       "      <td>574884973130</td>\n",
       "    </tr>\n",
       "    <tr>\n",
       "      <th>3</th>\n",
       "      <td>2013</td>\n",
       "      <td>628226069362</td>\n",
       "    </tr>\n",
       "    <tr>\n",
       "      <th>4</th>\n",
       "      <td>2014</td>\n",
       "      <td>671076844311</td>\n",
       "    </tr>\n",
       "    <tr>\n",
       "      <th>5</th>\n",
       "      <td>2015</td>\n",
       "      <td>659138951833</td>\n",
       "    </tr>\n",
       "    <tr>\n",
       "      <th>6</th>\n",
       "      <td>2016</td>\n",
       "      <td>640401206447</td>\n",
       "    </tr>\n",
       "    <tr>\n",
       "      <th>7</th>\n",
       "      <td>2017</td>\n",
       "      <td>671605668055</td>\n",
       "    </tr>\n",
       "    <tr>\n",
       "      <th>8</th>\n",
       "      <td>2018</td>\n",
       "      <td>758859046865</td>\n",
       "    </tr>\n",
       "    <tr>\n",
       "      <th>9</th>\n",
       "      <td>2019</td>\n",
       "      <td>779927917084</td>\n",
       "    </tr>\n",
       "    <tr>\n",
       "      <th>10</th>\n",
       "      <td>2020</td>\n",
       "      <td>753823710636</td>\n",
       "    </tr>\n",
       "  </tbody>\n",
       "</table>\n",
       "</div>"
      ],
      "text/plain": [
       "     ano           pib\n",
       "0   2010  449858101109\n",
       "1   2011  512767904769\n",
       "2   2012  574884973130\n",
       "3   2013  628226069362\n",
       "4   2014  671076844311\n",
       "5   2015  659138951833\n",
       "6   2016  640401206447\n",
       "7   2017  671605668055\n",
       "8   2018  758859046865\n",
       "9   2019  779927917084\n",
       "10  2020  753823710636"
      ]
     },
     "execution_count": 41,
     "metadata": {},
     "output_type": "execute_result"
    }
   ],
   "source": [
    "# Selecionando os dados do RJ\n",
    "anos = [x for x in range(2010, 2021)]\n",
    "rio = df_pib.query('sigla_uf == \"RJ\" and ano == @anos')[['ano', 'pib']]\n",
    "rio = rio.reset_index(drop=True)\n",
    "rio"
   ]
  },
  {
   "cell_type": "code",
   "execution_count": 42,
   "metadata": {
    "id": "HTXk2FnSJ07s"
   },
   "outputs": [
    {
     "data": {
      "text/html": [
       "<div>\n",
       "<style scoped>\n",
       "    .dataframe tbody tr th:only-of-type {\n",
       "        vertical-align: middle;\n",
       "    }\n",
       "\n",
       "    .dataframe tbody tr th {\n",
       "        vertical-align: top;\n",
       "    }\n",
       "\n",
       "    .dataframe thead th {\n",
       "        text-align: right;\n",
       "    }\n",
       "</style>\n",
       "<table border=\"1\" class=\"dataframe\">\n",
       "  <thead>\n",
       "    <tr style=\"text-align: right;\">\n",
       "      <th></th>\n",
       "      <th>ano</th>\n",
       "      <th>pib</th>\n",
       "      <th>variacao_pib</th>\n",
       "      <th>Medidas</th>\n",
       "    </tr>\n",
       "  </thead>\n",
       "  <tbody>\n",
       "    <tr>\n",
       "      <th>0</th>\n",
       "      <td>2010</td>\n",
       "      <td>449858101109</td>\n",
       "      <td>449858101109</td>\n",
       "      <td>absolute</td>\n",
       "    </tr>\n",
       "    <tr>\n",
       "      <th>1</th>\n",
       "      <td>2011</td>\n",
       "      <td>512767904769</td>\n",
       "      <td>62909803660</td>\n",
       "      <td>relative</td>\n",
       "    </tr>\n",
       "    <tr>\n",
       "      <th>2</th>\n",
       "      <td>2012</td>\n",
       "      <td>574884973130</td>\n",
       "      <td>62117068361</td>\n",
       "      <td>relative</td>\n",
       "    </tr>\n",
       "    <tr>\n",
       "      <th>3</th>\n",
       "      <td>2013</td>\n",
       "      <td>628226069362</td>\n",
       "      <td>53341096232</td>\n",
       "      <td>relative</td>\n",
       "    </tr>\n",
       "    <tr>\n",
       "      <th>4</th>\n",
       "      <td>2014</td>\n",
       "      <td>671076844311</td>\n",
       "      <td>42850774949</td>\n",
       "      <td>relative</td>\n",
       "    </tr>\n",
       "  </tbody>\n",
       "</table>\n",
       "</div>"
      ],
      "text/plain": [
       "    ano           pib  variacao_pib   Medidas\n",
       "0  2010  449858101109  449858101109  absolute\n",
       "1  2011  512767904769   62909803660  relative\n",
       "2  2012  574884973130   62117068361  relative\n",
       "3  2013  628226069362   53341096232  relative\n",
       "4  2014  671076844311   42850774949  relative"
      ]
     },
     "execution_count": 42,
     "metadata": {},
     "output_type": "execute_result"
    }
   ],
   "source": [
    "# Gerando uma coluna com a variação do pib e passando o valor\n",
    "# do PIB inicial para a 1ª linha da variação pib\n",
    "rio['variacao_pib'] = rio['pib'].diff().fillna(rio['pib']).astype('int64')\n",
    "\n",
    "# Gerando uma coluna com as Medidas para o gráfico de cascata\n",
    "rio['Medidas'] = ['absolute'] + ['relative'] * 10\n",
    "\n",
    "rio.head()"
   ]
  },
  {
   "cell_type": "code",
   "execution_count": 43,
   "metadata": {
    "id": "6l4asAE9W5_q"
   },
   "outputs": [
    {
     "data": {
      "text/html": [
       "<div>\n",
       "<style scoped>\n",
       "    .dataframe tbody tr th:only-of-type {\n",
       "        vertical-align: middle;\n",
       "    }\n",
       "\n",
       "    .dataframe tbody tr th {\n",
       "        vertical-align: top;\n",
       "    }\n",
       "\n",
       "    .dataframe thead th {\n",
       "        text-align: right;\n",
       "    }\n",
       "</style>\n",
       "<table border=\"1\" class=\"dataframe\">\n",
       "  <thead>\n",
       "    <tr style=\"text-align: right;\">\n",
       "      <th></th>\n",
       "      <th>Ano</th>\n",
       "      <th>Variação do PIB</th>\n",
       "      <th>Medidas</th>\n",
       "      <th>Variação do PIB (em texto)</th>\n",
       "    </tr>\n",
       "  </thead>\n",
       "  <tbody>\n",
       "    <tr>\n",
       "      <th>0</th>\n",
       "      <td>2010</td>\n",
       "      <td>449858101109</td>\n",
       "      <td>absolute</td>\n",
       "      <td>R$ 449.86 Bi</td>\n",
       "    </tr>\n",
       "    <tr>\n",
       "      <th>1</th>\n",
       "      <td>2011</td>\n",
       "      <td>62909803660</td>\n",
       "      <td>relative</td>\n",
       "      <td>R$ 62.91 Bi</td>\n",
       "    </tr>\n",
       "    <tr>\n",
       "      <th>2</th>\n",
       "      <td>2012</td>\n",
       "      <td>62117068361</td>\n",
       "      <td>relative</td>\n",
       "      <td>R$ 62.12 Bi</td>\n",
       "    </tr>\n",
       "    <tr>\n",
       "      <th>3</th>\n",
       "      <td>2013</td>\n",
       "      <td>53341096232</td>\n",
       "      <td>relative</td>\n",
       "      <td>R$ 53.34 Bi</td>\n",
       "    </tr>\n",
       "    <tr>\n",
       "      <th>4</th>\n",
       "      <td>2014</td>\n",
       "      <td>42850774949</td>\n",
       "      <td>relative</td>\n",
       "      <td>R$ 42.85 Bi</td>\n",
       "    </tr>\n",
       "    <tr>\n",
       "      <th>5</th>\n",
       "      <td>2015</td>\n",
       "      <td>-11937892478</td>\n",
       "      <td>relative</td>\n",
       "      <td>R$ -11.94 Bi</td>\n",
       "    </tr>\n",
       "    <tr>\n",
       "      <th>6</th>\n",
       "      <td>2016</td>\n",
       "      <td>-18737745386</td>\n",
       "      <td>relative</td>\n",
       "      <td>R$ -18.74 Bi</td>\n",
       "    </tr>\n",
       "    <tr>\n",
       "      <th>7</th>\n",
       "      <td>2017</td>\n",
       "      <td>31204461608</td>\n",
       "      <td>relative</td>\n",
       "      <td>R$ 31.20 Bi</td>\n",
       "    </tr>\n",
       "    <tr>\n",
       "      <th>8</th>\n",
       "      <td>2018</td>\n",
       "      <td>87253378810</td>\n",
       "      <td>relative</td>\n",
       "      <td>R$ 87.25 Bi</td>\n",
       "    </tr>\n",
       "    <tr>\n",
       "      <th>9</th>\n",
       "      <td>2019</td>\n",
       "      <td>21068870219</td>\n",
       "      <td>relative</td>\n",
       "      <td>R$ 21.07 Bi</td>\n",
       "    </tr>\n",
       "    <tr>\n",
       "      <th>10</th>\n",
       "      <td>2020</td>\n",
       "      <td>-26104206448</td>\n",
       "      <td>relative</td>\n",
       "      <td>R$ -26.10 Bi</td>\n",
       "    </tr>\n",
       "    <tr>\n",
       "      <th>11</th>\n",
       "      <td>Total</td>\n",
       "      <td>753823710636</td>\n",
       "      <td>total</td>\n",
       "      <td>R$ 753.82 Bi</td>\n",
       "    </tr>\n",
       "  </tbody>\n",
       "</table>\n",
       "</div>"
      ],
      "text/plain": [
       "      Ano Variação do PIB   Medidas Variação do PIB (em texto)\n",
       "0    2010    449858101109  absolute               R$ 449.86 Bi\n",
       "1    2011     62909803660  relative                R$ 62.91 Bi\n",
       "2    2012     62117068361  relative                R$ 62.12 Bi\n",
       "3    2013     53341096232  relative                R$ 53.34 Bi\n",
       "4    2014     42850774949  relative                R$ 42.85 Bi\n",
       "5    2015    -11937892478  relative               R$ -11.94 Bi\n",
       "6    2016    -18737745386  relative               R$ -18.74 Bi\n",
       "7    2017     31204461608  relative                R$ 31.20 Bi\n",
       "8    2018     87253378810  relative                R$ 87.25 Bi\n",
       "9    2019     21068870219  relative                R$ 21.07 Bi\n",
       "10   2020    -26104206448  relative               R$ -26.10 Bi\n",
       "11  Total    753823710636     total               R$ 753.82 Bi"
      ]
     },
     "execution_count": 43,
     "metadata": {},
     "output_type": "execute_result"
    }
   ],
   "source": [
    "# Gerando uma observação com a atualização da última linha com o PIB total de 2020\n",
    "atualizacao = pd.Series({'ano': 'Total',\n",
    "                         'pib': rio[\"pib\"].values[-1],\n",
    "                         'variacao_pib': rio[\"pib\"].values[-1],\n",
    "                         'Medidas': \"total\"}).to_frame().T\n",
    "\n",
    "# Concatenando o df com a atualização e retirando a coluna pib\n",
    "rio = pd.concat([rio, atualizacao], axis=0, ignore_index=True)\n",
    "rio = rio.drop(columns=['pib'])\n",
    "\n",
    "# Ajustando a formatação do PIB e renomeando colunas\n",
    "rio['variacao_pib_texto'] = (\n",
    "    rio['variacao_pib']/1e9).map('R$ {:,.2f} Bi'.format)\n",
    "rio.rename(columns={'ano': 'Ano', 'variacao_pib': 'Variação do PIB',\n",
    "           'variacao_pib_texto': 'Variação do PIB (em texto)'}, inplace=True)\n",
    "rio"
   ]
  },
  {
   "cell_type": "markdown",
   "metadata": {
    "id": "WyAcgUzyJ07s"
   },
   "source": [
    "#### Gerando o gráfico"
   ]
  },
  {
   "cell_type": "code",
   "execution_count": 44,
   "metadata": {
    "id": "zpx0MROkJ07t"
   },
   "outputs": [
    {
     "data": {
      "application/vnd.plotly.v1+json": {
       "config": {
        "plotlyServerURL": "https://plot.ly"
       },
       "data": [
        {
         "connector": {
          "line": {
           "color": "#555655"
          }
         },
         "decreasing": {
          "marker": {
           "color": "#C3514E"
          }
         },
         "hovertemplate": "<b>%{x}</b> = %{text}",
         "increasing": {
          "marker": {
           "color": "#0C8040"
          }
         },
         "measure": [
          "absolute",
          "relative",
          "relative",
          "relative",
          "relative",
          "relative",
          "relative",
          "relative",
          "relative",
          "relative",
          "relative",
          "total"
         ],
         "name": "",
         "orientation": "v",
         "text": [
          "R$ 449.86 Bi",
          "R$ 62.91 Bi",
          "R$ 62.12 Bi",
          "R$ 53.34 Bi",
          "R$ 42.85 Bi",
          "R$ -11.94 Bi",
          "R$ -18.74 Bi",
          "R$ 31.20 Bi",
          "R$ 87.25 Bi",
          "R$ 21.07 Bi",
          "R$ -26.10 Bi",
          "R$ 753.82 Bi"
         ],
         "textposition": "outside",
         "totals": {
          "marker": {
           "color": "#6495ED"
          }
         },
         "type": "waterfall",
         "y": [
          449858101109,
          62909803660,
          62117068361,
          53341096232,
          42850774949,
          -11937892478,
          -18737745386,
          31204461608,
          87253378810,
          21068870219,
          -26104206448,
          753823710636
         ]
        }
       ],
       "layout": {
        "annotations": [
         {
          "align": "left",
          "arrowcolor": "#555655",
          "arrowhead": 1,
          "arrowside": "start",
          "arrowwidth": 2,
          "ax": 8,
          "axref": "x",
          "ay": 450000000000,
          "ayref": "y",
          "bordercolor": "#555655",
          "borderpad": 4,
          "borderwidth": 1,
          "showarrow": true,
          "text": "O <b>Rio de Janeiro</b> apresentou recuo no PIB<br>em pelo menos 3 anos no período:<br>2015, 2016 e 2020",
          "x": 5,
          "y": 600000000000
         },
         {
          "arrowcolor": "#555655",
          "arrowhead": 1,
          "arrowside": "start",
          "arrowwidth": 2,
          "ax": 8,
          "axref": "x",
          "ay": 530000000000,
          "ayref": "y",
          "showarrow": true,
          "text": "",
          "x": 6,
          "y": 600000000000
         },
         {
          "arrowcolor": "#555655",
          "arrowhead": 1,
          "arrowside": "start",
          "arrowwidth": 2,
          "ax": 8.5,
          "axref": "x",
          "ay": 530000000000,
          "ayref": "y",
          "showarrow": true,
          "text": "",
          "x": 10,
          "y": 710000000000
         }
        ],
        "font": {
         "color": "#414040",
         "family": "DejaVu Sans",
         "size": 15
        },
        "height": 600,
        "plot_bgcolor": "#FFFFFF",
        "template": {
         "data": {
          "bar": [
           {
            "error_x": {
             "color": "#2a3f5f"
            },
            "error_y": {
             "color": "#2a3f5f"
            },
            "marker": {
             "line": {
              "color": "#E5ECF6",
              "width": 0.5
             },
             "pattern": {
              "fillmode": "overlay",
              "size": 10,
              "solidity": 0.2
             }
            },
            "type": "bar"
           }
          ],
          "barpolar": [
           {
            "marker": {
             "line": {
              "color": "#E5ECF6",
              "width": 0.5
             },
             "pattern": {
              "fillmode": "overlay",
              "size": 10,
              "solidity": 0.2
             }
            },
            "type": "barpolar"
           }
          ],
          "carpet": [
           {
            "aaxis": {
             "endlinecolor": "#2a3f5f",
             "gridcolor": "white",
             "linecolor": "white",
             "minorgridcolor": "white",
             "startlinecolor": "#2a3f5f"
            },
            "baxis": {
             "endlinecolor": "#2a3f5f",
             "gridcolor": "white",
             "linecolor": "white",
             "minorgridcolor": "white",
             "startlinecolor": "#2a3f5f"
            },
            "type": "carpet"
           }
          ],
          "choropleth": [
           {
            "colorbar": {
             "outlinewidth": 0,
             "ticks": ""
            },
            "type": "choropleth"
           }
          ],
          "contour": [
           {
            "colorbar": {
             "outlinewidth": 0,
             "ticks": ""
            },
            "colorscale": [
             [
              0,
              "#0d0887"
             ],
             [
              0.1111111111111111,
              "#46039f"
             ],
             [
              0.2222222222222222,
              "#7201a8"
             ],
             [
              0.3333333333333333,
              "#9c179e"
             ],
             [
              0.4444444444444444,
              "#bd3786"
             ],
             [
              0.5555555555555556,
              "#d8576b"
             ],
             [
              0.6666666666666666,
              "#ed7953"
             ],
             [
              0.7777777777777778,
              "#fb9f3a"
             ],
             [
              0.8888888888888888,
              "#fdca26"
             ],
             [
              1,
              "#f0f921"
             ]
            ],
            "type": "contour"
           }
          ],
          "contourcarpet": [
           {
            "colorbar": {
             "outlinewidth": 0,
             "ticks": ""
            },
            "type": "contourcarpet"
           }
          ],
          "heatmap": [
           {
            "colorbar": {
             "outlinewidth": 0,
             "ticks": ""
            },
            "colorscale": [
             [
              0,
              "#0d0887"
             ],
             [
              0.1111111111111111,
              "#46039f"
             ],
             [
              0.2222222222222222,
              "#7201a8"
             ],
             [
              0.3333333333333333,
              "#9c179e"
             ],
             [
              0.4444444444444444,
              "#bd3786"
             ],
             [
              0.5555555555555556,
              "#d8576b"
             ],
             [
              0.6666666666666666,
              "#ed7953"
             ],
             [
              0.7777777777777778,
              "#fb9f3a"
             ],
             [
              0.8888888888888888,
              "#fdca26"
             ],
             [
              1,
              "#f0f921"
             ]
            ],
            "type": "heatmap"
           }
          ],
          "histogram": [
           {
            "marker": {
             "pattern": {
              "fillmode": "overlay",
              "size": 10,
              "solidity": 0.2
             }
            },
            "type": "histogram"
           }
          ],
          "histogram2d": [
           {
            "colorbar": {
             "outlinewidth": 0,
             "ticks": ""
            },
            "colorscale": [
             [
              0,
              "#0d0887"
             ],
             [
              0.1111111111111111,
              "#46039f"
             ],
             [
              0.2222222222222222,
              "#7201a8"
             ],
             [
              0.3333333333333333,
              "#9c179e"
             ],
             [
              0.4444444444444444,
              "#bd3786"
             ],
             [
              0.5555555555555556,
              "#d8576b"
             ],
             [
              0.6666666666666666,
              "#ed7953"
             ],
             [
              0.7777777777777778,
              "#fb9f3a"
             ],
             [
              0.8888888888888888,
              "#fdca26"
             ],
             [
              1,
              "#f0f921"
             ]
            ],
            "type": "histogram2d"
           }
          ],
          "histogram2dcontour": [
           {
            "colorbar": {
             "outlinewidth": 0,
             "ticks": ""
            },
            "colorscale": [
             [
              0,
              "#0d0887"
             ],
             [
              0.1111111111111111,
              "#46039f"
             ],
             [
              0.2222222222222222,
              "#7201a8"
             ],
             [
              0.3333333333333333,
              "#9c179e"
             ],
             [
              0.4444444444444444,
              "#bd3786"
             ],
             [
              0.5555555555555556,
              "#d8576b"
             ],
             [
              0.6666666666666666,
              "#ed7953"
             ],
             [
              0.7777777777777778,
              "#fb9f3a"
             ],
             [
              0.8888888888888888,
              "#fdca26"
             ],
             [
              1,
              "#f0f921"
             ]
            ],
            "type": "histogram2dcontour"
           }
          ],
          "mesh3d": [
           {
            "colorbar": {
             "outlinewidth": 0,
             "ticks": ""
            },
            "type": "mesh3d"
           }
          ],
          "parcoords": [
           {
            "line": {
             "colorbar": {
              "outlinewidth": 0,
              "ticks": ""
             }
            },
            "type": "parcoords"
           }
          ],
          "pie": [
           {
            "automargin": true,
            "type": "pie"
           }
          ],
          "scatter": [
           {
            "fillpattern": {
             "fillmode": "overlay",
             "size": 10,
             "solidity": 0.2
            },
            "type": "scatter"
           }
          ],
          "scatter3d": [
           {
            "line": {
             "colorbar": {
              "outlinewidth": 0,
              "ticks": ""
             }
            },
            "marker": {
             "colorbar": {
              "outlinewidth": 0,
              "ticks": ""
             }
            },
            "type": "scatter3d"
           }
          ],
          "scattercarpet": [
           {
            "marker": {
             "colorbar": {
              "outlinewidth": 0,
              "ticks": ""
             }
            },
            "type": "scattercarpet"
           }
          ],
          "scattergeo": [
           {
            "marker": {
             "colorbar": {
              "outlinewidth": 0,
              "ticks": ""
             }
            },
            "type": "scattergeo"
           }
          ],
          "scattergl": [
           {
            "marker": {
             "colorbar": {
              "outlinewidth": 0,
              "ticks": ""
             }
            },
            "type": "scattergl"
           }
          ],
          "scattermap": [
           {
            "marker": {
             "colorbar": {
              "outlinewidth": 0,
              "ticks": ""
             }
            },
            "type": "scattermap"
           }
          ],
          "scattermapbox": [
           {
            "marker": {
             "colorbar": {
              "outlinewidth": 0,
              "ticks": ""
             }
            },
            "type": "scattermapbox"
           }
          ],
          "scatterpolar": [
           {
            "marker": {
             "colorbar": {
              "outlinewidth": 0,
              "ticks": ""
             }
            },
            "type": "scatterpolar"
           }
          ],
          "scatterpolargl": [
           {
            "marker": {
             "colorbar": {
              "outlinewidth": 0,
              "ticks": ""
             }
            },
            "type": "scatterpolargl"
           }
          ],
          "scatterternary": [
           {
            "marker": {
             "colorbar": {
              "outlinewidth": 0,
              "ticks": ""
             }
            },
            "type": "scatterternary"
           }
          ],
          "surface": [
           {
            "colorbar": {
             "outlinewidth": 0,
             "ticks": ""
            },
            "colorscale": [
             [
              0,
              "#0d0887"
             ],
             [
              0.1111111111111111,
              "#46039f"
             ],
             [
              0.2222222222222222,
              "#7201a8"
             ],
             [
              0.3333333333333333,
              "#9c179e"
             ],
             [
              0.4444444444444444,
              "#bd3786"
             ],
             [
              0.5555555555555556,
              "#d8576b"
             ],
             [
              0.6666666666666666,
              "#ed7953"
             ],
             [
              0.7777777777777778,
              "#fb9f3a"
             ],
             [
              0.8888888888888888,
              "#fdca26"
             ],
             [
              1,
              "#f0f921"
             ]
            ],
            "type": "surface"
           }
          ],
          "table": [
           {
            "cells": {
             "fill": {
              "color": "#EBF0F8"
             },
             "line": {
              "color": "white"
             }
            },
            "header": {
             "fill": {
              "color": "#C8D4E3"
             },
             "line": {
              "color": "white"
             }
            },
            "type": "table"
           }
          ]
         },
         "layout": {
          "annotationdefaults": {
           "arrowcolor": "#2a3f5f",
           "arrowhead": 0,
           "arrowwidth": 1
          },
          "autotypenumbers": "strict",
          "coloraxis": {
           "colorbar": {
            "outlinewidth": 0,
            "ticks": ""
           }
          },
          "colorscale": {
           "diverging": [
            [
             0,
             "#8e0152"
            ],
            [
             0.1,
             "#c51b7d"
            ],
            [
             0.2,
             "#de77ae"
            ],
            [
             0.3,
             "#f1b6da"
            ],
            [
             0.4,
             "#fde0ef"
            ],
            [
             0.5,
             "#f7f7f7"
            ],
            [
             0.6,
             "#e6f5d0"
            ],
            [
             0.7,
             "#b8e186"
            ],
            [
             0.8,
             "#7fbc41"
            ],
            [
             0.9,
             "#4d9221"
            ],
            [
             1,
             "#276419"
            ]
           ],
           "sequential": [
            [
             0,
             "#0d0887"
            ],
            [
             0.1111111111111111,
             "#46039f"
            ],
            [
             0.2222222222222222,
             "#7201a8"
            ],
            [
             0.3333333333333333,
             "#9c179e"
            ],
            [
             0.4444444444444444,
             "#bd3786"
            ],
            [
             0.5555555555555556,
             "#d8576b"
            ],
            [
             0.6666666666666666,
             "#ed7953"
            ],
            [
             0.7777777777777778,
             "#fb9f3a"
            ],
            [
             0.8888888888888888,
             "#fdca26"
            ],
            [
             1,
             "#f0f921"
            ]
           ],
           "sequentialminus": [
            [
             0,
             "#0d0887"
            ],
            [
             0.1111111111111111,
             "#46039f"
            ],
            [
             0.2222222222222222,
             "#7201a8"
            ],
            [
             0.3333333333333333,
             "#9c179e"
            ],
            [
             0.4444444444444444,
             "#bd3786"
            ],
            [
             0.5555555555555556,
             "#d8576b"
            ],
            [
             0.6666666666666666,
             "#ed7953"
            ],
            [
             0.7777777777777778,
             "#fb9f3a"
            ],
            [
             0.8888888888888888,
             "#fdca26"
            ],
            [
             1,
             "#f0f921"
            ]
           ]
          },
          "colorway": [
           "#636efa",
           "#EF553B",
           "#00cc96",
           "#ab63fa",
           "#FFA15A",
           "#19d3f3",
           "#FF6692",
           "#B6E880",
           "#FF97FF",
           "#FECB52"
          ],
          "font": {
           "color": "#2a3f5f"
          },
          "geo": {
           "bgcolor": "white",
           "lakecolor": "white",
           "landcolor": "#E5ECF6",
           "showlakes": true,
           "showland": true,
           "subunitcolor": "white"
          },
          "hoverlabel": {
           "align": "left"
          },
          "hovermode": "closest",
          "mapbox": {
           "style": "light"
          },
          "paper_bgcolor": "white",
          "plot_bgcolor": "#E5ECF6",
          "polar": {
           "angularaxis": {
            "gridcolor": "white",
            "linecolor": "white",
            "ticks": ""
           },
           "bgcolor": "#E5ECF6",
           "radialaxis": {
            "gridcolor": "white",
            "linecolor": "white",
            "ticks": ""
           }
          },
          "scene": {
           "xaxis": {
            "backgroundcolor": "#E5ECF6",
            "gridcolor": "white",
            "gridwidth": 2,
            "linecolor": "white",
            "showbackground": true,
            "ticks": "",
            "zerolinecolor": "white"
           },
           "yaxis": {
            "backgroundcolor": "#E5ECF6",
            "gridcolor": "white",
            "gridwidth": 2,
            "linecolor": "white",
            "showbackground": true,
            "ticks": "",
            "zerolinecolor": "white"
           },
           "zaxis": {
            "backgroundcolor": "#E5ECF6",
            "gridcolor": "white",
            "gridwidth": 2,
            "linecolor": "white",
            "showbackground": true,
            "ticks": "",
            "zerolinecolor": "white"
           }
          },
          "shapedefaults": {
           "line": {
            "color": "#2a3f5f"
           }
          },
          "ternary": {
           "aaxis": {
            "gridcolor": "white",
            "linecolor": "white",
            "ticks": ""
           },
           "baxis": {
            "gridcolor": "white",
            "linecolor": "white",
            "ticks": ""
           },
           "bgcolor": "#E5ECF6",
           "caxis": {
            "gridcolor": "white",
            "linecolor": "white",
            "ticks": ""
           }
          },
          "title": {
           "x": 0.05
          },
          "xaxis": {
           "automargin": true,
           "gridcolor": "white",
           "linecolor": "white",
           "ticks": "",
           "title": {
            "standoff": 15
           },
           "zerolinecolor": "white",
           "zerolinewidth": 2
          },
          "yaxis": {
           "automargin": true,
           "gridcolor": "white",
           "linecolor": "white",
           "ticks": "",
           "title": {
            "standoff": 15
           },
           "zerolinecolor": "white",
           "zerolinewidth": 2
          }
         }
        },
        "title": {
         "font": {
          "color": "#231F20",
          "size": 24
         },
         "text": "Variação do Produto Interno Bruto (PIB) do Rio de Janeiro<br><sup size=1 style=\"color:#555655\">De 2010 a 2020 (em bilhões de reais)</sup>"
        },
        "width": 1300,
        "xaxis": {
         "tickmode": "array",
         "ticktext": [
          2010,
          2011,
          2012,
          2013,
          2014,
          2015,
          2016,
          2017,
          2018,
          2019,
          2020,
          "Total"
         ],
         "tickvals": {
          "bdata": "AAECAwQFBgcICQoL",
          "dtype": "i1"
         }
        },
        "yaxis": {
         "range": [
          0,
          850000000000
         ],
         "showticklabels": false
        }
       }
      }
     },
     "metadata": {},
     "output_type": "display_data"
    }
   ],
   "source": [
    "# Configurando o gráfico com parâmetros que potencializam a visualização dos dados\n",
    "\n",
    "# Importando as bibliotecas\n",
    "import plotly.graph_objects as go\n",
    "import numpy as np\n",
    "\n",
    "# Gerando o gráfico de cascata\n",
    "fig = go.Figure(\n",
    "    go.Waterfall(name='', orientation='v', measure=rio['Medidas'],\n",
    "                 y=rio['Variação do PIB'], text=rio['Variação do PIB (em texto)'],\n",
    "                 textposition='outside',\n",
    "                 connector_line=dict(color=CINZA3),\n",
    "                 totals_marker=dict(color=AZUL3),\n",
    "                 increasing_marker=dict(color=VERDE1),\n",
    "                 decreasing_marker=dict(color=VERMELHO1)\n",
    "                 )\n",
    ")\n",
    "\n",
    "# Personalizando o gráfico\n",
    "fig.update_layout(width=1300, height=600, font_family='DejaVu Sans', font_size=15,\n",
    "                  font_color=CINZA2, title_font_color=CINZA1, title_font_size=24,\n",
    "                  title_text='Variação do Produto Interno Bruto (PIB) do Rio de Janeiro' +\n",
    "                             '<br><sup size=1 style=\"color:#555655\">De 2010 a 2020 (em bilhões de reais)</sup>',\n",
    "                  plot_bgcolor=BRANCO, yaxis_range=[0, 850e9])\n",
    "\n",
    "# Retirando os ticks do eixo y\n",
    "fig.update_yaxes(showticklabels=False)\n",
    "\n",
    "# Ajustando o eixo x para receber o Total\n",
    "fig.update_xaxes(tickmode='array', tickvals=np.arange(\n",
    "    0, 12), ticktext=rio['Ano'])\n",
    "\n",
    "# Dados ao passar o mouse\n",
    "fig.update_traces(hovertemplate='<b>%{x}</b> = %{text}')\n",
    "\n",
    "fig.add_annotation(text='O <b>Rio de Janeiro</b> apresentou recuo no PIB<br>em pelo menos 3 anos no período:<br>2015, 2016 e 2020',\n",
    "                   align='left', axref='x', ayref='y', x=5, y=600e9, ax=8, ay=450e9,\n",
    "                   arrowhead=1, arrowside='start', showarrow=True, arrowwidth=2, arrowcolor=CINZA3,\n",
    "                   bordercolor=CINZA3, borderwidth=1, borderpad=4)\n",
    "fig.add_annotation(text='', axref='x', ayref='y', x=6, y=600e9, ax=8, ay=530e9,\n",
    "                   arrowhead=1, arrowside='start', showarrow=True, arrowwidth=2, arrowcolor=CINZA3)\n",
    "fig.add_annotation(text='', axref='x', ayref='y', x=10, y=710e9, ax=8.5, ay=530e9,\n",
    "                   arrowhead=1, arrowside='start', showarrow=True, arrowwidth=2, arrowcolor=CINZA3)\n",
    "\n",
    "fig.show()"
   ]
  },
  {
   "cell_type": "markdown",
   "metadata": {
    "id": "8EZIMX7uJ07u"
   },
   "source": [
    "<font color=green size=4> Conclusões: </font>\n",
    "\n",
    "---\n",
    "\n",
    "Neste exemplo, o gráfico de cascata foi utlilizado para mostrar a evolução do PIB de um estado ano após ano partindo do valor inicial (ano de 2010) até o final (ano de 2020, representado pela coluna Total). É possível notar acréscimos e descréscimos ao longo do tempo, representados pelas cores verde e vermelho, respectivamente.\n",
    "\n",
    "Como sugestão, podemos analisar a evolução do PIB do seu próprio estado ou de uma região de interesse."
   ]
  },
  {
   "cell_type": "markdown",
   "metadata": {
    "id": "mNDGtWAqIS6C"
   },
   "source": [
    "# **Aula 3 - Compondo dados dinâmicos**"
   ]
  },
  {
   "cell_type": "markdown",
   "metadata": {
    "id": "g3kOpf2hIS6D"
   },
   "source": [
    "<img src=\"https://github.com/afonsosr2/dataviz-graficos-composicao-relacionamento/blob/184cef2649b20ac20bb2d3dfe4e73cd4d38249cc/imagens/Tipos_Graficos/Gr%C3%A1ficos%20de%20composi%C3%A7%C3%A3o%20(compondo%20dados%20estaticos%20e%20din%C3%A2micos).png?raw=true\" alt=\"inserir alt\" height=\"343\">\n",
    "\n",
    "\n",
    "<font size=2>Fonte: Andrew Abela (Extreme Presentation/Biuwer)</font>\n"
   ]
  },
  {
   "cell_type": "markdown",
   "metadata": {
    "id": "vF3ePz1ByEiu"
   },
   "source": [
    "## **3.1 - Colunas agrupadas x empilhadas**\n",
    "\n",
    "---\n",
    "\n"
   ]
  },
  {
   "cell_type": "markdown",
   "metadata": {
    "id": "HzhhB4-TeRXq"
   },
   "source": [
    "### **Pergunta 6 -** Como está distribuído o PIB nos 3 últimos quinquênios (lustro) dos dados (2010, 2015, 2020) na Região Sul do Brasil divididos pelos estados (Paraná, Santa Catarina e Rio Grande do Sul)?"
   ]
  },
  {
   "cell_type": "markdown",
   "metadata": {
    "id": "AdhrRcWbeRXr"
   },
   "source": [
    "#### Tratando os dados para gerar a visualização"
   ]
  },
  {
   "cell_type": "code",
   "execution_count": 45,
   "metadata": {
    "id": "v4EVCF10hiY7"
   },
   "outputs": [
    {
     "data": {
      "text/html": [
       "<div>\n",
       "<style scoped>\n",
       "    .dataframe tbody tr th:only-of-type {\n",
       "        vertical-align: middle;\n",
       "    }\n",
       "\n",
       "    .dataframe tbody tr th {\n",
       "        vertical-align: top;\n",
       "    }\n",
       "\n",
       "    .dataframe thead th {\n",
       "        text-align: right;\n",
       "    }\n",
       "</style>\n",
       "<table border=\"1\" class=\"dataframe\">\n",
       "  <thead>\n",
       "    <tr style=\"text-align: right;\">\n",
       "      <th></th>\n",
       "      <th>ano</th>\n",
       "      <th>sigla_uf</th>\n",
       "      <th>pib</th>\n",
       "    </tr>\n",
       "  </thead>\n",
       "  <tbody>\n",
       "    <tr>\n",
       "      <th>0</th>\n",
       "      <td>2010</td>\n",
       "      <td>PR</td>\n",
       "      <td>225.21</td>\n",
       "    </tr>\n",
       "    <tr>\n",
       "      <th>1</th>\n",
       "      <td>2015</td>\n",
       "      <td>PR</td>\n",
       "      <td>376.96</td>\n",
       "    </tr>\n",
       "    <tr>\n",
       "      <th>2</th>\n",
       "      <td>2020</td>\n",
       "      <td>PR</td>\n",
       "      <td>487.93</td>\n",
       "    </tr>\n",
       "    <tr>\n",
       "      <th>3</th>\n",
       "      <td>2010</td>\n",
       "      <td>SC</td>\n",
       "      <td>153.73</td>\n",
       "    </tr>\n",
       "    <tr>\n",
       "      <th>4</th>\n",
       "      <td>2015</td>\n",
       "      <td>SC</td>\n",
       "      <td>249.08</td>\n",
       "    </tr>\n",
       "    <tr>\n",
       "      <th>5</th>\n",
       "      <td>2020</td>\n",
       "      <td>SC</td>\n",
       "      <td>349.28</td>\n",
       "    </tr>\n",
       "    <tr>\n",
       "      <th>6</th>\n",
       "      <td>2010</td>\n",
       "      <td>RS</td>\n",
       "      <td>241.25</td>\n",
       "    </tr>\n",
       "    <tr>\n",
       "      <th>7</th>\n",
       "      <td>2015</td>\n",
       "      <td>RS</td>\n",
       "      <td>381.99</td>\n",
       "    </tr>\n",
       "    <tr>\n",
       "      <th>8</th>\n",
       "      <td>2020</td>\n",
       "      <td>RS</td>\n",
       "      <td>470.94</td>\n",
       "    </tr>\n",
       "  </tbody>\n",
       "</table>\n",
       "</div>"
      ],
      "text/plain": [
       "    ano sigla_uf     pib\n",
       "0  2010       PR  225.21\n",
       "1  2015       PR  376.96\n",
       "2  2020       PR  487.93\n",
       "3  2010       SC  153.73\n",
       "4  2015       SC  249.08\n",
       "5  2020       SC  349.28\n",
       "6  2010       RS  241.25\n",
       "7  2015       RS  381.99\n",
       "8  2020       RS  470.94"
      ]
     },
     "execution_count": 45,
     "metadata": {},
     "output_type": "execute_result"
    }
   ],
   "source": [
    "# Selecionando os dados da região Sul do Brasil\n",
    "anos = [x for x in range(2010, 2021, 5)]\n",
    "pib_sul = df_pib.query(\n",
    "    'regiao == \"Sul\" and ano == @anos')[['ano', 'sigla_uf', 'pib']]\n",
    "pib_sul['pib'] = (pib_sul['pib'] / 1e9).round(2)\n",
    "pib_sul = pib_sul.reset_index(drop=True)\n",
    "pib_sul"
   ]
  },
  {
   "cell_type": "code",
   "execution_count": 46,
   "metadata": {
    "id": "eABnofHchiY8"
   },
   "outputs": [
    {
     "data": {
      "text/html": [
       "<div>\n",
       "<style scoped>\n",
       "    .dataframe tbody tr th:only-of-type {\n",
       "        vertical-align: middle;\n",
       "    }\n",
       "\n",
       "    .dataframe tbody tr th {\n",
       "        vertical-align: top;\n",
       "    }\n",
       "\n",
       "    .dataframe thead th {\n",
       "        text-align: right;\n",
       "    }\n",
       "</style>\n",
       "<table border=\"1\" class=\"dataframe\">\n",
       "  <thead>\n",
       "    <tr style=\"text-align: right;\">\n",
       "      <th>sigla_uf</th>\n",
       "      <th>ano</th>\n",
       "      <th>PR</th>\n",
       "      <th>RS</th>\n",
       "      <th>SC</th>\n",
       "    </tr>\n",
       "  </thead>\n",
       "  <tbody>\n",
       "    <tr>\n",
       "      <th>0</th>\n",
       "      <td>2010</td>\n",
       "      <td>0.363131</td>\n",
       "      <td>0.388994</td>\n",
       "      <td>0.247876</td>\n",
       "    </tr>\n",
       "    <tr>\n",
       "      <th>1</th>\n",
       "      <td>2015</td>\n",
       "      <td>0.373957</td>\n",
       "      <td>0.378947</td>\n",
       "      <td>0.247096</td>\n",
       "    </tr>\n",
       "    <tr>\n",
       "      <th>2</th>\n",
       "      <td>2020</td>\n",
       "      <td>0.372992</td>\n",
       "      <td>0.360005</td>\n",
       "      <td>0.267003</td>\n",
       "    </tr>\n",
       "  </tbody>\n",
       "</table>\n",
       "</div>"
      ],
      "text/plain": [
       "sigla_uf   ano        PR        RS        SC\n",
       "0         2010  0.363131  0.388994  0.247876\n",
       "1         2015  0.373957  0.378947  0.247096\n",
       "2         2020  0.372992  0.360005  0.267003"
      ]
     },
     "execution_count": 46,
     "metadata": {},
     "output_type": "execute_result"
    }
   ],
   "source": [
    "# Criando uma tabela cruzada (crosstab) com os valores de venda de cada ano por região\n",
    "pib_sul_cross = pd.crosstab(\n",
    "    index=pib_sul.ano,\n",
    "    columns=pib_sul.sigla_uf,\n",
    "    values=pib_sul.pib,\n",
    "    aggfunc='sum',\n",
    "    normalize='index',\n",
    ")\n",
    "pib_sul_cross = pib_sul_cross.reset_index()\n",
    "pib_sul_cross"
   ]
  },
  {
   "cell_type": "markdown",
   "metadata": {
    "id": "fkEmKm8BKOUN"
   },
   "source": [
    "#### Gerando o gráfico"
   ]
  },
  {
   "cell_type": "code",
   "execution_count": 47,
   "metadata": {
    "id": "R1yf2iAuhiY8"
   },
   "outputs": [
    {
     "ename": "ModuleNotFoundError",
     "evalue": "No module named 'seaborn'",
     "output_type": "error",
     "traceback": [
      "\u001b[31m---------------------------------------------------------------------------\u001b[39m",
      "\u001b[31mModuleNotFoundError\u001b[39m                       Traceback (most recent call last)",
      "\u001b[36mCell\u001b[39m\u001b[36m \u001b[39m\u001b[32mIn[47]\u001b[39m\u001b[32m, line 5\u001b[39m\n\u001b[32m      1\u001b[39m \u001b[38;5;66;03m# Configurando o gráfico com parâmetros que potencializam a visualização dos dados\u001b[39;00m\n\u001b[32m      2\u001b[39m \n\u001b[32m      3\u001b[39m \u001b[38;5;66;03m# Importando as bibliotecas\u001b[39;00m\n\u001b[32m      4\u001b[39m \u001b[38;5;28;01mimport\u001b[39;00m\u001b[38;5;250m \u001b[39m\u001b[34;01mmatplotlib\u001b[39;00m\u001b[34;01m.\u001b[39;00m\u001b[34;01mpyplot\u001b[39;00m\u001b[38;5;250m \u001b[39m\u001b[38;5;28;01mas\u001b[39;00m\u001b[38;5;250m \u001b[39m\u001b[34;01mplt\u001b[39;00m\n\u001b[32m----> \u001b[39m\u001b[32m5\u001b[39m \u001b[38;5;28;01mimport\u001b[39;00m\u001b[38;5;250m \u001b[39m\u001b[34;01mseaborn\u001b[39;00m\u001b[38;5;250m \u001b[39m\u001b[38;5;28;01mas\u001b[39;00m\u001b[38;5;250m \u001b[39m\u001b[34;01msns\u001b[39;00m\n\u001b[32m      7\u001b[39m \u001b[38;5;66;03m# Área do gráfico e tema da visualização\u001b[39;00m\n\u001b[32m      8\u001b[39m fig, axs = plt.subplots(\u001b[32m1\u001b[39m, \u001b[32m2\u001b[39m, figsize=(\u001b[32m16\u001b[39m, \u001b[32m6\u001b[39m))\n",
      "\u001b[31mModuleNotFoundError\u001b[39m: No module named 'seaborn'"
     ]
    }
   ],
   "source": [
    "# Configurando o gráfico com parâmetros que potencializam a visualização dos dados\n",
    "\n",
    "# Importando as bibliotecas\n",
    "import matplotlib.pyplot as plt\n",
    "import seaborn as sns\n",
    "\n",
    "# Área do gráfico e tema da visualização\n",
    "fig, axs = plt.subplots(1, 2, figsize=(16, 6))\n",
    "sns.set_theme(style='white')\n",
    "\n",
    "# Definindo as cores do gráfico\n",
    "cores = [AZUL6, VERDE3, VERMELHO2]\n",
    "\n",
    "# Personalizando o Título superior\n",
    "fig.suptitle('Distribuição do PIB na região Sul do Brasil por quinquênio (2010 - 2020)',\n",
    "             fontsize=18, color=CINZA1, ha='right', x=0.66, y=1.05)\n",
    "\n",
    "# GRÁFICO 1 - Gráfico de colunas agrupadas\n",
    "sns.barplot(\n",
    "    data=pib_sul,\n",
    "    x='ano',\n",
    "    y='pib',\n",
    "    hue='sigla_uf',\n",
    "    hue_order=['PR', 'RS', 'SC'],\n",
    "    ax=axs[0],\n",
    "    palette=cores,\n",
    ")\n",
    "\n",
    "axs[0].set_title('Em bilhões de reais\\n', color=CINZA3, loc='left')\n",
    "axs[0].set_xlabel('')\n",
    "axs[0].set_ylabel('')\n",
    "axs[0].xaxis.set_tick_params(labelsize=14, color=CINZA2)\n",
    "axs[0].yaxis.set_tick_params(labelsize=14, color=CINZA2)\n",
    "axs[0].set_frame_on(False)\n",
    "\n",
    "# Remover a legenda e colocar grids no eixo y\n",
    "axs[0].legend().remove()\n",
    "axs[0].yaxis.grid(linestyle='--', linewidth=1)\n",
    "\n",
    "#######################################\n",
    "\n",
    "# GRÁFICO 2 - Gráfico de colunas empilhadas 100 %\n",
    "pib_sul_cross.plot(\n",
    "    x='ano',\n",
    "    kind='bar',\n",
    "    stacked=True,\n",
    "    color=cores,\n",
    "    ax=axs[1],\n",
    ")\n",
    "\n",
    "axs[1].set_title('Em porcentagem\\n', color=CINZA3, loc='left')\n",
    "axs[1].set_xlabel('')\n",
    "axs[1].set_ylabel('')\n",
    "axs[1].set_yticklabels([])\n",
    "axs[1].xaxis.set_tick_params(labelsize=14, color=CINZA2, labelrotation=0)\n",
    "axs[1].set_frame_on(False)\n",
    "\n",
    "# Adicionar a legenda entre os dois gráficos\n",
    "axs[1].legend(bbox_to_anchor=(-0.005, 1), title='Estado',\n",
    "              title_fontsize=12, fontsize=12)\n",
    "\n",
    "# Adicionando os valores dentro da coluna\n",
    "for container in axs[1].containers:\n",
    "    labels = [f'{valor.get_height()*100:.0f}%' for valor in container]\n",
    "    axs[1].bar_label(container, label_type='center',\n",
    "                     labels=labels, size=11, color=CINZA3, fontweight='bold')\n",
    "\n",
    "#######################################\n",
    "\n",
    "plt.show()"
   ]
  },
  {
   "cell_type": "markdown",
   "metadata": {
    "id": "_VzWByW5eRXx"
   },
   "source": [
    "<font color=green size=4> Conclusões: </font>\n",
    "\n",
    "---\n",
    "\n",
    "Neste exemplo, apresentamos as diferenças entre colunas agrupadas e empilhadas. A 1ª reflete os valores absolutos do PIB em cada estado da Região Sul por quinquênio (lustro), já a 2ª representa os valores relativos compilados ano a ano da região como um todo.\n"
   ]
  },
  {
   "cell_type": "markdown",
   "metadata": {
    "id": "nZRaxGNlZIiC"
   },
   "source": [
    "## **3.2 - Gráfico de barras empilhadas**\n",
    "\n",
    "---\n",
    "\n"
   ]
  },
  {
   "cell_type": "markdown",
   "metadata": {
    "id": "lkRGyuqXcOrL"
   },
   "source": [
    "### **Pergunta 7 -** Como estão distribuídos, em porcentagem, os valores adicionados de bens e serviços descritos na base de dados em relação a cada região no ano de 2020?"
   ]
  },
  {
   "cell_type": "markdown",
   "metadata": {
    "id": "xOXJs9GLcOrM"
   },
   "source": [
    "#### Tratando os dados para gerar a visualização"
   ]
  },
  {
   "cell_type": "code",
   "execution_count": null,
   "metadata": {
    "id": "rV0AYi0NcOrN"
   },
   "outputs": [],
   "source": [
    "# Selecionando os dados desejados\n",
    "df_va_separado = df_pib.query('ano == 2020')[\n",
    "    ['regiao', 'va_servicos', 'va_industria', 'va_adespss', 'va_agropecuaria']]\n",
    "df_va_separado = df_va_separado.reset_index(drop=True)\n",
    "df_va_separado.head()"
   ]
  },
  {
   "cell_type": "code",
   "execution_count": null,
   "metadata": {
    "id": "BEDyumW5cOrO"
   },
   "outputs": [],
   "source": [
    "# Agrupando os dados por região\n",
    "df_va_separado = df_va_separado.groupby('regiao').agg('sum')\n",
    "\n",
    "# Normalizando os dados de cada região\n",
    "df_va_separado = df_va_separado.div(df_va_separado.sum(axis=1), axis=0)\n",
    "df_va_separado = df_va_separado.sort_values(by='va_servicos', axis=0)\n",
    "df_va_separado"
   ]
  },
  {
   "cell_type": "markdown",
   "metadata": {
    "id": "HdQTXUnvKQ9q"
   },
   "source": [
    "#### Gerando o gráfico"
   ]
  },
  {
   "cell_type": "code",
   "execution_count": null,
   "metadata": {
    "id": "CDWF8Ne_dKnH"
   },
   "outputs": [],
   "source": [
    "# Gerando a função para criar o gráfico de barras empilhadas\n",
    "\n",
    "def grafico_va():\n",
    "    # Importando as bibliotecas\n",
    "    import matplotlib.pyplot as plt\n",
    "\n",
    "    # Área do gráfico e tema da visualização\n",
    "    fig, ax = plt.subplots(figsize=(10, 7))\n",
    "\n",
    "    # Definindo as cores do gráfico\n",
    "    cores = [AZUL3, LARANJA1, CINZA5, VERDE3]\n",
    "\n",
    "    # Gerando o gráfico de barras empilhadas 100%\n",
    "    df_va_separado.plot(kind='barh', stacked=True, color=cores, ax=ax)\n",
    "\n",
    "    # Personalizando o gráfico\n",
    "    plt.suptitle('Valores adicionados de bens e serviços do PIB brasileiro em 2020',\n",
    "                 size=18, color=CINZA1, ha='right', x=0.8, y=1.01)\n",
    "    plt.title('Em distribuição dos setores por região (%)\\n',\n",
    "              fontsize=14, color=CINZA3, pad=15, ha=\"right\", x=0.35)\n",
    "    ax.legend(bbox_to_anchor=(1, 1), bbox_transform=ax.transAxes,\n",
    "              fontsize=10, loc='upper left', )\n",
    "    ax.set_ylabel('')\n",
    "    ax.set_xticklabels([])\n",
    "    ax.yaxis.set_tick_params(labelsize=14, color=CINZA2)\n",
    "    ax.set_frame_on(False)\n",
    "\n",
    "    # Valores das barras\n",
    "    for container in ax.containers:\n",
    "        labels = [f'{valor.get_width()*100:.0f}%' for valor in container]\n",
    "        ax.bar_label(container, label_type='center', labels=labels,\n",
    "                     size=10, color=CINZA2, fontweight='bold')\n",
    "\n",
    "    return ax, cores\n",
    "\n",
    "\n",
    "ax, cores = grafico_va()"
   ]
  },
  {
   "cell_type": "markdown",
   "metadata": {
    "id": "sNHJI5BWZVgP"
   },
   "source": [
    "## **3.3 - Anotações e legenda de dados**\n",
    "\n",
    "---\n",
    "\n"
   ]
  },
  {
   "cell_type": "markdown",
   "metadata": {
    "id": "cjzmS_G7brRI"
   },
   "source": [
    "Vamos trabalhar com uma função para escrita de texto utilizando diferentes cores.\n",
    "\n",
    "> (Adaptada de https://github.com/empathy87/storytelling-with-data)\n",
    "\n"
   ]
  },
  {
   "cell_type": "code",
   "execution_count": null,
   "metadata": {
    "id": "Z30pd_ZmdKnG"
   },
   "outputs": [],
   "source": [
    "# Função para escrita de texto utilizando diferentes cores. Não existe uma\n",
    "# função nativa para isso. (Adaptado de https://github.com/empathy87/storytelling-with-data)\n",
    "from matplotlib import transforms\n",
    "\n",
    "\n",
    "def texto_colorido(x, y, texto, cores, esp=20, ax=None, **kw):\n",
    "    cores = list(reversed(cores))\n",
    "    t = ax.transData\n",
    "    canvas = ax.figure.canvas\n",
    "\n",
    "    for i, linha in enumerate(reversed(texto.split('\\n'))):\n",
    "        frases = linha.split('||')\n",
    "        for s, cor in zip(frases, cores[i]):\n",
    "            texto = ax.text(x, y, s, color=cor, transform=t, **kw)\n",
    "            texto.draw(canvas.get_renderer())\n",
    "            ex = texto.get_window_extent()\n",
    "            t = transforms.offset_copy(texto._transform, x=ex.width,\n",
    "                                       units='dots')\n",
    "\n",
    "        t = transforms.offset_copy(\n",
    "            ax.transData, x=0, y=(i + 1) * esp, units='dots')"
   ]
  },
  {
   "cell_type": "code",
   "execution_count": null,
   "metadata": {
    "id": "iIv0XOduZ5TT"
   },
   "outputs": [],
   "source": [
    "# Configurando o gráfico com parâmetros que potencializam a visualização dos dados\n",
    "\n",
    "# Gerando o gráfico de barras empilhadas e salvando as cores que vamos utilizar no texto\n",
    "ax, cores = grafico_va()\n",
    "\n",
    "# Trabalhando com o texto colorido para legenda e anotações\n",
    "\n",
    "# legenda das barras\n",
    "ax.legend().remove()    # remover legenda padrão da visualização\n",
    "texto_colorido(0, 4.4, '$\\\\bf{Serviços}$ || | || $\\\\bf{Indústria}$ || | || $\\\\bf{ADESPSS}$ || | || $\\\\bf{Agropecuária}$',\n",
    "               cores=[[cores[0], CINZA3, cores[1], CINZA3, cores[2], CINZA3, cores[3]]], ax=ax, fontsize=12)\n",
    "\n",
    "# Anotando uma conclusão no gráfico\n",
    "texto_colorido(\n",
    "    # coordenadas\n",
    "    1.05, 2,\n",
    "    # texto\n",
    "    'O setor de ||$\\\\bf{serviços}$|| corresponde a maior fatia\\n'\n",
    "    'do PIB em todas as regiões. Na Região ||$\\\\bf{Sudeste}$||,\\n'\n",
    "    'ele representa ||$\\\\bf{mais\\ de\\ 60\\%}$|| do PIB frente a outros setores.\\n'\n",
    "    '\\n'\n",
    "    'O setor de ||$\\\\bf{ADESPSS\\ (Administração,\\ Defesa,\\ Educação,}$\\n'\n",
    "    '$\\\\bf{Saúde\\ Pública\\ e\\ Seguridade\\ Social)}$|| é o ||$\\\\bf{2º\\ mais\\ relevante}$||\\n'\n",
    "    'no PIB da Região ||$\\\\bf{Nordeste}$||.\\n'\n",
    "    '\\n'\n",
    "    'O setor com menor participação é o da ||$\\\\bf{agropecuária}$||.\\n'\n",
    "    'Na Região ||$\\\\bf{Centro-Oeste}$|| ele praticamente empata com\\n'\n",
    "    'o setor da ||$\\\\bf{indústria}$|| em peso na região.',\n",
    "    [[CINZA3, AZUL3, CINZA3],         # linha 1                          # cores\n",
    "     [CINZA3, CINZA1, CINZA3],        # linha 2\n",
    "     [CINZA3, CINZA1, CINZA3],        # linha 3\n",
    "     [CINZA3],                        # linha 4\n",
    "     [CINZA3, CINZA5],                # linha 5\n",
    "     [CINZA5, CINZA3, CINZA1],        # linha 6\n",
    "     [CINZA3, CINZA1, CINZA3],        # linha 7\n",
    "     [CINZA3],                        # linha 8\n",
    "     [CINZA3, VERDE3, CINZA3],        # linha 9\n",
    "     [CINZA3, CINZA1, CINZA3],        # linha 10\n",
    "     [CINZA3, LARANJA1, CINZA3]       # linha 11\n",
    "     ],\n",
    "    esp=22,         # espaçamento\n",
    "    ax=ax,          # figura onde desenhar o texto\n",
    "    fontsize=12)\n",
    "\n",
    "fig.show()"
   ]
  },
  {
   "cell_type": "markdown",
   "metadata": {
    "id": "42OU6GlYcOrQ"
   },
   "source": [
    "<font color=green size=4> Conclusões: </font>\n",
    "\n",
    "---\n",
    "\n",
    "As barras empilhadas são extremamente úteis para representação dos dados em pequenos períodos e quando desejamos comparar diferenças absolutas e relativas ou apenas relativas (como no exemplo acima).\n",
    "\n",
    "Como sugestão, podemos analisar a composição dos dados em relação aos setores de uma dada região, separada pelos estados.\n"
   ]
  },
  {
   "cell_type": "markdown",
   "metadata": {
    "id": "u4daHAtucvyL"
   },
   "source": [
    "# **Aula 4 - Investigando a variação dos dados**"
   ]
  },
  {
   "cell_type": "markdown",
   "metadata": {
    "id": "ci5ZaATmcyee"
   },
   "source": [
    "<img src=\"https://github.com/afonsosr2/dataviz-graficos-composicao-relacionamento/blob/0e8022ffd2961343138edb39ce1226c55502423d/imagens/Tipos_Graficos/Gr%C3%A1ficos%20de%20composi%C3%A7%C3%A3o%20(investigando%20variacao).png?raw=true\" alt=\"inserir alt\" height=\"343\">\n",
    "\n",
    "\n",
    "<font size=2>Fonte: Andrew Abela (Extreme Presentation/Biuwer)</font>\n"
   ]
  },
  {
   "cell_type": "markdown",
   "metadata": {
    "id": "y4nQ5kYxOXl8"
   },
   "source": [
    "## **4.1 - Gráfico de áreas**\n",
    "\n",
    "---\n",
    "\n"
   ]
  },
  {
   "cell_type": "markdown",
   "metadata": {
    "id": "YW24pMN0Ki6d"
   },
   "source": [
    "### **Pergunta 8 -** Na agropecuária, como estão distribuídos seus valores adicionados por região dentro do período da base dos dados (2002 - 2020)?"
   ]
  },
  {
   "cell_type": "markdown",
   "metadata": {
    "id": "CItml9JhKi6d"
   },
   "source": [
    "#### Tratando os dados para gerar a visualização"
   ]
  },
  {
   "cell_type": "code",
   "execution_count": null,
   "metadata": {
    "id": "TlZzFV3KKi6d"
   },
   "outputs": [],
   "source": [
    "# Selecionando os dados desejados\n",
    "df_agro = df_pib.copy()\n",
    "df_agro = df_agro[['regiao',  'ano', 'va_agropecuaria']]\n",
    "\n",
    "# Agrupando os dados por região\n",
    "df_agro = pd.crosstab(index=df_agro.ano, columns=df_agro.regiao,\n",
    "                      values=df_agro.va_agropecuaria, aggfunc='sum')\n",
    "df_agro = (df_agro / 1e9).round(2)\n",
    "\n",
    "df_agro.head()"
   ]
  },
  {
   "cell_type": "markdown",
   "metadata": {
    "id": "qtk1QwX1Ki6e"
   },
   "source": [
    "#### Gerando o gráfico"
   ]
  },
  {
   "cell_type": "code",
   "execution_count": null,
   "metadata": {
    "id": "bjBKP560Ki6e"
   },
   "outputs": [],
   "source": [
    "# Configurando o gráfico com parâmetros que potencializam a visualização dos dados\n",
    "\n",
    "# Importando as bibliotecas\n",
    "import matplotlib.pyplot as plt\n",
    "\n",
    "# Área do gráfico e tema da visualização\n",
    "fig, ax = plt.subplots(figsize=(14, 7))\n",
    "\n",
    "# Definindo as cores do gráfico\n",
    "cores = [VERDE3, VERMELHO2, AZUL3, LARANJA1, CINZA4]\n",
    "\n",
    "# Gerando o gráfico de barras empilhadas 100%\n",
    "df_agro.plot(kind='area', stacked=True, color=cores,\n",
    "             ax=ax, xticks=(2002, 2021))\n",
    "\n",
    "# Personalizando o gráfico\n",
    "ax.set_title('PIB relativo à agropecuária nas regiões do Brasil',\n",
    "             fontsize=18, color=CINZA1, loc='left')\n",
    "ax.text(0.29, 0.98, 'De 2002 a 2020 (em bilhões de reais)',\n",
    "        transform=ax.transAxes, color=CINZA3, fontsize=12, ha='right', va='center')\n",
    "ax.set_ylabel('')\n",
    "ax.xaxis.set_tick_params(labelsize=14, color=CINZA2)\n",
    "ax.legend().remove()\n",
    "ax.set_frame_on(False)\n",
    "\n",
    "# Anotando os nomes das regiões\n",
    "reg = list(reversed(df_agro.columns))\n",
    "cor = list(reversed(cores))\n",
    "for i in range(len(reg)):\n",
    "    ax.text(0.97, (0.67 - i/7),\n",
    "            f'{reg[i]}', fontsize=14, color=cor[i], transform=ax.transAxes)\n",
    "\n",
    "# Ajustes no eixo y\n",
    "# Descrevendo o limite mínimo e máximo do eixo y e escondendo o eixo\n",
    "plt.ylim(0, 500)\n",
    "ax.get_yaxis().set_visible(False)\n",
    "\n",
    "# remover todos os ticks do eixo x e y\n",
    "ax.tick_params(axis='both', which='both', length=0)\n",
    "\n",
    "# Destacando os valores de 4 em 4 anos e no ano de 2020\n",
    "agregado_ano = list(df_agro.sum(axis=1).round(2))\n",
    "for i in range(0, len(df_agro.index), 4):\n",
    "    ax.text(x=df_agro.index[i], y=agregado_ano[i] + 20,\n",
    "            s=f'{agregado_ano[i]} Bi', color=CINZA3, weight='bold', fontsize=10, ha='center')\n",
    "ax.text(x=df_agro.index[-1], y=agregado_ano[-1] + 20,\n",
    "        s=f'{agregado_ano[-1]} Bi', color=CINZA3, weight='bold', fontsize=10, ha='center')\n",
    "\n",
    "plt.show()"
   ]
  },
  {
   "cell_type": "markdown",
   "metadata": {
    "id": "EFANO8zp-1ir"
   },
   "source": [
    "<font color=green size=4> Conclusões: </font>\n",
    "\n",
    "---\n",
    "\n",
    "Os gráficos de áreas são extremamente úteis quando queremos enfatizar a magnitude das mudanças ao longo do período. Ele é uma junção de várias linhas empilhadas preenchidas com a cor de cada categoria para representação dos dados ao longo do período. No exemplo acima, utilizamos o gráfico de áreas em que tanto a diferença absoluta (valores ao longo do tempo) quanto a relativa (espessuras entre elas) são importantes em nossa análise.\n",
    "\n",
    "Como sugestão, podemos analisar a composição dos dados em relação a outros setores."
   ]
  },
  {
   "cell_type": "markdown",
   "metadata": {
    "id": "rQaLziqMgXCa"
   },
   "source": [
    "## **4.2 - Gráfico de inclinação**\n",
    "\n",
    "---\n",
    "\n"
   ]
  },
  {
   "cell_type": "markdown",
   "metadata": {
    "id": "TuC316_JYQL1"
   },
   "source": [
    "#### Tratando os dados para gerar a visualização"
   ]
  },
  {
   "cell_type": "code",
   "execution_count": null,
   "metadata": {
    "id": "Vg2LvPnVgTNY"
   },
   "outputs": [],
   "source": [
    "# Selecionando os dados desejados\n",
    "df_agro_slope = df_pib.query('ano == [2002, 2020]')[\n",
    "    ['regiao',  'ano', 'va_agropecuaria']]\n",
    "\n",
    "# Agrupando os dados por região\n",
    "df_agro_slope = pd.crosstab(index=df_agro_slope.ano, columns=df_agro_slope.regiao,\n",
    "                            values=df_agro_slope.va_agropecuaria, aggfunc='sum', normalize='index')\n",
    "\n",
    "df_agro_slope = (df_agro_slope * 100).round(1)\n",
    "\n",
    "df_agro_slope.head()"
   ]
  },
  {
   "cell_type": "markdown",
   "metadata": {
    "id": "JM5glS-IYS7x"
   },
   "source": [
    "#### Gerando o gráfico"
   ]
  },
  {
   "cell_type": "code",
   "execution_count": null,
   "metadata": {
    "id": "FxJqnHcfgTNY"
   },
   "outputs": [],
   "source": [
    "# Gerando a função para criar o gráfico de inclinação\n",
    "\n",
    "def grafico_slope_agro():\n",
    "    # Importando as bibliotecas\n",
    "    import matplotlib.pyplot as plt\n",
    "\n",
    "    # Área do gráfico e tema da visualização\n",
    "    fig, ax1 = plt.subplots(figsize=(7,7))\n",
    "\n",
    "    # Definindo as cores do gráfico\n",
    "    cores = [VERDE3, VERMELHO2, AZUL3, LARANJA1, CINZA4]\n",
    "\n",
    "    # O seaborn possui uma função chamada pointplot() que pode gerar um gráfico deste tipo\n",
    "    # mas para termos liberdade na criação do nosso gráfico vamos optar por contruí-lo\n",
    "    # por meio do matplotlib usando axis duplos partilhando o eixo x e os mesmos limites em y\n",
    "    ax2 = ax1.twinx()\n",
    "    ax1.set_ylim([0,35])\n",
    "    ax2.set_ylim([0,35])\n",
    "\n",
    "    # Gerando o gráfico de inclinação (pontos + curva + texto)\n",
    "    for i in range(5):\n",
    "        # Adicionando o ponto inicial e final\n",
    "        ax1.scatter(x=df_agro_slope.index, y=df_agro_slope.iloc[:,i], color=cores[i], s=50)\n",
    "\n",
    "        # Adicionando a inclinação\n",
    "        ax1.plot(df_agro_slope.index, df_agro_slope.iloc[:,i], color=cores[i], lw=3)\n",
    "\n",
    "        # Adicionando as regiões no label\n",
    "        ax1.text(x=2024, y=df_agro_slope.iloc[-1,i], s=df_agro_slope.columns[i],\n",
    "                fontsize=15, fontweight='bold', linespacing=1.5, color=cores[i], va='center')\n",
    "\n",
    "    ## Personalizando o gráfico\n",
    "    ax1.set_title('PIB relativo à agropecuária nas regiões do Brasil', fontsize=18, color=CINZA1, loc='left', pad=40)\n",
    "    ax1.text(0, 1.05, 'Comparação entre os anos de 2002 e 2020 (%)', transform=ax1.transAxes, color=CINZA3, fontsize=12, ha='left', va='center')\n",
    "\n",
    "    return ax1, ax2, cores\n",
    "\n",
    "ax1, ax2, cores = grafico_slope_agro()"
   ]
  },
  {
   "cell_type": "markdown",
   "metadata": {
    "id": "VbkmUTqsnN20"
   },
   "source": [
    "## **4.3 - Estilizando o gráfico**\n",
    "\n",
    "---\n",
    "\n"
   ]
  },
  {
   "cell_type": "code",
   "execution_count": null,
   "metadata": {
    "id": "igwF-2PcgsKn"
   },
   "outputs": [],
   "source": [
    "# Configurando o gráfico com parâmetros que potencializam a visualização dos dados\n",
    "\n",
    "# Gerando o gráfico de inclinação\n",
    "ax1, ax2, cores = grafico_slope_agro()\n",
    "\n",
    "# Retirando os ticks do eixo y de ambos os lados e as bordas exeto a da base\n",
    "ax1.tick_params(left=False)\n",
    "ax1.spines[['top', 'left', 'right']].set_visible(False)\n",
    "ax2.tick_params(right=False)\n",
    "ax2.set_frame_on(False)\n",
    "\n",
    "# Ajustando as propriedades do eixo y da esquerda\n",
    "plt.setp(\n",
    "    ax1,\n",
    "    xticks=[2002, 2020],\n",
    "    xticklabels=['2002', '2020'],\n",
    "    yticks=df_agro_slope.iloc[0, :],\n",
    "    yticklabels=[f'{str(valor)}%' if i != 3 else f'{str(valor)}%\\n\\n' for i, valor in enumerate(df_agro_slope.iloc[0,:])]\n",
    ")\n",
    "\n",
    "# Ajustando as propriedades do eixo y da direita\n",
    "plt.setp(\n",
    "    ax2,\n",
    "    yticks=df_agro_slope.iloc[1, :],\n",
    "    yticklabels=[f'{str(valor)}%' for i, valor in enumerate(df_agro_slope.iloc[1,:])]\n",
    ")\n",
    "\n",
    "# Ajustando propriedades dos dois eixos y\n",
    "for ax in (ax1, ax2):\n",
    "    for i, item in enumerate(ax.get_yticklabels()):\n",
    "        item.set_fontsize(14)\n",
    "        item.set_fontweight('bold')\n",
    "        item.set_color(cores[i])\n",
    "\n",
    "# Ajustando propriedades do eixo x\n",
    "ax1.xaxis.set_tick_params(labelsize=14, labelcolor=CINZA3)\n",
    "ax1.spines['bottom'].set_color(CINZA3)\n",
    "\n",
    "plt.show()"
   ]
  },
  {
   "cell_type": "markdown",
   "metadata": {
    "id": "59101h3-Ki6f"
   },
   "source": [
    "<font color=green size=4> Conclusões: </font>\n",
    "\n",
    "---\n",
    "\n",
    "Os gráficos de inclinação são úteis quando temos dois períodos de tempo que queremos comparar, mostrando de maneira simples e direta os aumentos e diminuições relativas entre dois pontos dos dados.\n",
    "\n",
    "Como sugestão, podemos analisar essa relação a partir de outros setores."
   ]
  },
  {
   "cell_type": "markdown",
   "metadata": {
    "id": "HYm_qsOvn6oV"
   },
   "source": [
    "# **Aula 5 - Relacionando dados**"
   ]
  },
  {
   "cell_type": "markdown",
   "metadata": {
    "id": "wfAWxzoeNWJm"
   },
   "source": [
    "## **5.1 - Apresentando a base de dados**\n",
    "---"
   ]
  },
  {
   "cell_type": "markdown",
   "metadata": {
    "id": "PwFQF88Zn6oW"
   },
   "source": [
    "### **Situação-problema 2**\n",
    "\n",
    "Nesta situação-problema, você recebeu um conjunto de dados para analisar as notas do IDEB, divididas por região, das provas realizadas entre 2005 e 2021. Os dados descrevem o desempenho dos alunos em testes de língua portuguesa e matemática, além da taxa de aprovação escolar.\n",
    "\n",
    "O IDEB é medido em uma escala de 0 a 10 e é uma importante ferramenta para acompanhar o desenvolvimento da educação básica no país, permitindo a avaliação da efetividade das políticas públicas na área e a identificação das regiões que necessitam de maior atenção.\n",
    "\n",
    "Aqui, vamos focar em investigar as notas em diferentes níveis de ensino (Ensino Fundamental Anos Iniciais e Anos Finais e Ensino Médio) tecendo alguns comentários a respeito das perguntas levantadas."
   ]
  },
  {
   "cell_type": "code",
   "execution_count": null,
   "metadata": {
    "id": "_RS77VE5n6oW"
   },
   "outputs": [],
   "source": [
    "import pandas as pd"
   ]
  },
  {
   "cell_type": "code",
   "execution_count": 50,
   "metadata": {
    "id": "YMx9OzmKn6oW"
   },
   "outputs": [
    {
     "data": {
      "text/html": [
       "<div>\n",
       "<style scoped>\n",
       "    .dataframe tbody tr th:only-of-type {\n",
       "        vertical-align: middle;\n",
       "    }\n",
       "\n",
       "    .dataframe tbody tr th {\n",
       "        vertical-align: top;\n",
       "    }\n",
       "\n",
       "    .dataframe thead th {\n",
       "        text-align: right;\n",
       "    }\n",
       "</style>\n",
       "<table border=\"1\" class=\"dataframe\">\n",
       "  <thead>\n",
       "    <tr style=\"text-align: right;\">\n",
       "      <th></th>\n",
       "      <th>ano</th>\n",
       "      <th>regiao</th>\n",
       "      <th>rede</th>\n",
       "      <th>ensino</th>\n",
       "      <th>anos_escolares</th>\n",
       "      <th>taxa_aprovacao</th>\n",
       "      <th>indicador_rendimento</th>\n",
       "      <th>nota_saeb_matematica</th>\n",
       "      <th>nota_saeb_lingua_portuguesa</th>\n",
       "      <th>nota_saeb_media_padronizada</th>\n",
       "      <th>ideb</th>\n",
       "    </tr>\n",
       "  </thead>\n",
       "  <tbody>\n",
       "    <tr>\n",
       "      <th>0</th>\n",
       "      <td>2005</td>\n",
       "      <td>Centro-Oeste</td>\n",
       "      <td>estadual</td>\n",
       "      <td>fundamental</td>\n",
       "      <td>EFAF</td>\n",
       "      <td>72.1</td>\n",
       "      <td>0.721828</td>\n",
       "      <td>233.50</td>\n",
       "      <td>227.88</td>\n",
       "      <td>4.356453</td>\n",
       "      <td>3.1</td>\n",
       "    </tr>\n",
       "    <tr>\n",
       "      <th>1</th>\n",
       "      <td>2005</td>\n",
       "      <td>Centro-Oeste</td>\n",
       "      <td>estadual</td>\n",
       "      <td>fundamental</td>\n",
       "      <td>EFAI</td>\n",
       "      <td>83.0</td>\n",
       "      <td>0.837081</td>\n",
       "      <td>185.38</td>\n",
       "      <td>172.13</td>\n",
       "      <td>4.631618</td>\n",
       "      <td>3.9</td>\n",
       "    </tr>\n",
       "    <tr>\n",
       "      <th>2</th>\n",
       "      <td>2005</td>\n",
       "      <td>Centro-Oeste</td>\n",
       "      <td>estadual</td>\n",
       "      <td>medio</td>\n",
       "      <td>EM</td>\n",
       "      <td>68.0</td>\n",
       "      <td>0.695138</td>\n",
       "      <td>261.23</td>\n",
       "      <td>251.52</td>\n",
       "      <td>4.123654</td>\n",
       "      <td>2.9</td>\n",
       "    </tr>\n",
       "    <tr>\n",
       "      <th>3</th>\n",
       "      <td>2005</td>\n",
       "      <td>Centro-Oeste</td>\n",
       "      <td>privada</td>\n",
       "      <td>fundamental</td>\n",
       "      <td>EFAF</td>\n",
       "      <td>94.4</td>\n",
       "      <td>0.943491</td>\n",
       "      <td>283.57</td>\n",
       "      <td>266.82</td>\n",
       "      <td>5.840183</td>\n",
       "      <td>5.5</td>\n",
       "    </tr>\n",
       "    <tr>\n",
       "      <th>4</th>\n",
       "      <td>2005</td>\n",
       "      <td>Centro-Oeste</td>\n",
       "      <td>privada</td>\n",
       "      <td>fundamental</td>\n",
       "      <td>EFAI</td>\n",
       "      <td>97.3</td>\n",
       "      <td>0.972388</td>\n",
       "      <td>223.64</td>\n",
       "      <td>210.36</td>\n",
       "      <td>6.057024</td>\n",
       "      <td>5.9</td>\n",
       "    </tr>\n",
       "    <tr>\n",
       "      <th>5</th>\n",
       "      <td>2005</td>\n",
       "      <td>Centro-Oeste</td>\n",
       "      <td>privada</td>\n",
       "      <td>medio</td>\n",
       "      <td>EM</td>\n",
       "      <td>92.4</td>\n",
       "      <td>0.943179</td>\n",
       "      <td>338.52</td>\n",
       "      <td>309.85</td>\n",
       "      <td>6.082840</td>\n",
       "      <td>5.7</td>\n",
       "    </tr>\n",
       "  </tbody>\n",
       "</table>\n",
       "</div>"
      ],
      "text/plain": [
       "    ano        regiao      rede       ensino anos_escolares  taxa_aprovacao  \\\n",
       "0  2005  Centro-Oeste  estadual  fundamental           EFAF            72.1   \n",
       "1  2005  Centro-Oeste  estadual  fundamental           EFAI            83.0   \n",
       "2  2005  Centro-Oeste  estadual        medio             EM            68.0   \n",
       "3  2005  Centro-Oeste   privada  fundamental           EFAF            94.4   \n",
       "4  2005  Centro-Oeste   privada  fundamental           EFAI            97.3   \n",
       "5  2005  Centro-Oeste   privada        medio             EM            92.4   \n",
       "\n",
       "   indicador_rendimento  nota_saeb_matematica  nota_saeb_lingua_portuguesa  \\\n",
       "0              0.721828                233.50                       227.88   \n",
       "1              0.837081                185.38                       172.13   \n",
       "2              0.695138                261.23                       251.52   \n",
       "3              0.943491                283.57                       266.82   \n",
       "4              0.972388                223.64                       210.36   \n",
       "5              0.943179                338.52                       309.85   \n",
       "\n",
       "   nota_saeb_media_padronizada  ideb  \n",
       "0                     4.356453   3.1  \n",
       "1                     4.631618   3.9  \n",
       "2                     4.123654   2.9  \n",
       "3                     5.840183   5.5  \n",
       "4                     6.057024   5.9  \n",
       "5                     6.082840   5.7  "
      ]
     },
     "execution_count": 50,
     "metadata": {},
     "output_type": "execute_result"
    }
   ],
   "source": [
    "# Importando o conjunto de dados com os dados do IDEB nacional de provas realizadas de 2005 a 2021\n",
    "ideb = pd.read_csv(\n",
    "    'https://raw.githubusercontent.com/afonsosr2/dataviz-graficos-composicao-relacionamento/master/dados/ideb_reg_2005_2021.csv')\n",
    "\n",
    "ideb.head(6)"
   ]
  },
  {
   "cell_type": "code",
   "execution_count": 51,
   "metadata": {
    "id": "2nxEbnLqn6oW"
   },
   "outputs": [
    {
     "name": "stdout",
     "output_type": "stream",
     "text": [
      "<class 'pandas.core.frame.DataFrame'>\n",
      "RangeIndex: 270 entries, 0 to 269\n",
      "Data columns (total 11 columns):\n",
      " #   Column                       Non-Null Count  Dtype  \n",
      "---  ------                       --------------  -----  \n",
      " 0   ano                          270 non-null    int64  \n",
      " 1   regiao                       270 non-null    object \n",
      " 2   rede                         270 non-null    object \n",
      " 3   ensino                       270 non-null    object \n",
      " 4   anos_escolares               270 non-null    object \n",
      " 5   taxa_aprovacao               270 non-null    float64\n",
      " 6   indicador_rendimento         270 non-null    float64\n",
      " 7   nota_saeb_matematica         270 non-null    float64\n",
      " 8   nota_saeb_lingua_portuguesa  270 non-null    float64\n",
      " 9   nota_saeb_media_padronizada  270 non-null    float64\n",
      " 10  ideb                         270 non-null    float64\n",
      "dtypes: float64(6), int64(1), object(4)\n",
      "memory usage: 23.3+ KB\n"
     ]
    }
   ],
   "source": [
    "# Verificando os tipos de dados e se existem dados nulos\n",
    "ideb.info()"
   ]
  },
  {
   "cell_type": "markdown",
   "metadata": {
    "id": "6Nvm3SBon6oW"
   },
   "source": [
    "Após visualizarmos de maneira rápida os dados que possuímos, vamos partir para as análises que podemos fazer com esses dados e quais os gráficos de relacionamento vamos utilizar a fim de apresentar esse tipo de informação.\n",
    "\n",
    "### **Questionamentos**\n",
    "\n",
    "1.   Qual a relação entre o IDEB e o indicador de rendimento das escolas no ensino médio? É positiva, negativa ou não estão correlacionadas?\n",
    "\n",
    "2. Qual a relação entre as notas das disciplinas de língua portuguesa e matemática no SAEB por região no Ensino Fundamental Anos Iniciais? Conseguimos traçar algum paralelo entre elas?\n",
    "\n",
    "3. Qual seria a relação entre a taxa de aprovação e a média da nota do SAEB no Ensino Fundamental Anos Finais? Conseguimos notar como as duas se distribuem em relação ao IDEB e as regiões?"
   ]
  },
  {
   "cell_type": "markdown",
   "metadata": {
    "id": "w3PGNu6-npgq"
   },
   "source": [
    "## **5.2 - Gráfico de dispersão**\n",
    "\n",
    "---\n",
    "\n"
   ]
  },
  {
   "cell_type": "markdown",
   "metadata": {
    "id": "MrzgsGqnnaG6"
   },
   "source": [
    "<img src=\"https://github.com/afonsosr2/dataviz-graficos-composicao-relacionamento/blob/0e8022ffd2961343138edb39ce1226c55502423d/imagens/Tipos_Graficos/Gr%C3%A1ficos%20de%20relacionamento.png?raw=true\" alt=\"inserir alt\" height=\"227\">\n",
    "\n",
    "\n",
    "<font size=2>Fonte: Andrew Abela (Extreme Presentation/Biuwer)</font>\n"
   ]
  },
  {
   "cell_type": "markdown",
   "metadata": {
    "id": "umnihXT5UGRk"
   },
   "source": [
    "### **Pergunta 1 -** Qual a relação entre o IDEB e o indicador de rendimento das escolas no ensino médio? É positiva, negativa ou não estão correlacionadas?"
   ]
  },
  {
   "cell_type": "markdown",
   "metadata": {
    "id": "nrg12u42TFod"
   },
   "source": [
    "#### Visualizando os dados"
   ]
  },
  {
   "cell_type": "code",
   "execution_count": 52,
   "metadata": {
    "id": "OzVudYaUTFoe"
   },
   "outputs": [
    {
     "data": {
      "text/html": [
       "<div>\n",
       "<style scoped>\n",
       "    .dataframe tbody tr th:only-of-type {\n",
       "        vertical-align: middle;\n",
       "    }\n",
       "\n",
       "    .dataframe tbody tr th {\n",
       "        vertical-align: top;\n",
       "    }\n",
       "\n",
       "    .dataframe thead th {\n",
       "        text-align: right;\n",
       "    }\n",
       "</style>\n",
       "<table border=\"1\" class=\"dataframe\">\n",
       "  <thead>\n",
       "    <tr style=\"text-align: right;\">\n",
       "      <th></th>\n",
       "      <th>indicador_rendimento</th>\n",
       "      <th>ideb</th>\n",
       "    </tr>\n",
       "  </thead>\n",
       "  <tbody>\n",
       "    <tr>\n",
       "      <th>0</th>\n",
       "      <td>0.695138</td>\n",
       "      <td>2.9</td>\n",
       "    </tr>\n",
       "    <tr>\n",
       "      <th>1</th>\n",
       "      <td>0.943179</td>\n",
       "      <td>5.7</td>\n",
       "    </tr>\n",
       "    <tr>\n",
       "      <th>2</th>\n",
       "      <td>0.730819</td>\n",
       "      <td>2.7</td>\n",
       "    </tr>\n",
       "    <tr>\n",
       "      <th>3</th>\n",
       "      <td>0.916831</td>\n",
       "      <td>5.2</td>\n",
       "    </tr>\n",
       "    <tr>\n",
       "      <th>4</th>\n",
       "      <td>0.737045</td>\n",
       "      <td>2.7</td>\n",
       "    </tr>\n",
       "  </tbody>\n",
       "</table>\n",
       "</div>"
      ],
      "text/plain": [
       "   indicador_rendimento  ideb\n",
       "0              0.695138   2.9\n",
       "1              0.943179   5.7\n",
       "2              0.730819   2.7\n",
       "3              0.916831   5.2\n",
       "4              0.737045   2.7"
      ]
     },
     "execution_count": 52,
     "metadata": {},
     "output_type": "execute_result"
    }
   ],
   "source": [
    "ideb_em = ideb.query('anos_escolares == \"EM\"')[\n",
    "    ['indicador_rendimento', 'ideb']]\n",
    "ideb_em = ideb_em.reset_index(drop=True)\n",
    "ideb_em.head()"
   ]
  },
  {
   "cell_type": "markdown",
   "metadata": {
    "id": "0HEo-7PzTFof"
   },
   "source": [
    "#### Gerando o gráfico"
   ]
  },
  {
   "cell_type": "code",
   "execution_count": 54,
   "metadata": {
    "id": "q1cHNMSqe5F8"
   },
   "outputs": [
    {
     "data": {
      "application/vnd.plotly.v1+json": {
       "config": {
        "plotlyServerURL": "https://plot.ly"
       },
       "data": [
        {
         "hovertemplate": "<b>IDEB:</b> %{x} <br><b>Indicador de Rend:</b> %{y}",
         "legendgroup": "",
         "marker": {
          "color": "#6495ED",
          "symbol": "circle"
         },
         "mode": "markers",
         "name": "",
         "orientation": "v",
         "showlegend": false,
         "type": "scatter",
         "x": {
          "bdata": "MzMzMzMzB0DNzMzMzMwWQJqZmZmZmQVAzczMzMzMFECamZmZmZkFQAAAAAAAABRAmpmZmZmZCUDNzMzMzMwWQDMzMzMzMwtAmpmZmZmZF0AAAAAAAAAIQAAAAAAAABZAZmZmZmZmBkBmZmZmZmYUQJqZmZmZmQVAZmZmZmZmFEAzMzMzMzMLQM3MzMzMzBZAzczMzMzMDEAzMzMzMzMXQJqZmZmZmQlAMzMzMzMzF0DNzMzMzMwIQM3MzMzMzBRAzczMzMzMCECamZmZmZkVQAAAAAAAAAxAZmZmZmZmFkBmZmZmZmYOQJqZmZmZmRdAZmZmZmZmCkBmZmZmZmYWQAAAAAAAAAhAmpmZmZmZFUDNzMzMzMwIQM3MzMzMzBRAzczMzMzMDEAzMzMzMzMXQJqZmZmZmQ1AAAAAAAAAGEBmZmZmZmYKQGZmZmZmZhZAAAAAAAAACEDNzMzMzMwUQDMzMzMzMwdAAAAAAAAAFEDNzMzMzMwMQJqZmZmZmRVAzczMzMzMDEDNzMzMzMwWQDMzMzMzMwtAmpmZmZmZFUCamZmZmZkJQGZmZmZmZhRAmpmZmZmZCUDNzMzMzMwSQJqZmZmZmQ1AAAAAAAAAFkAAAAAAAAAMQGZmZmZmZhZAmpmZmZmZDUDNzMzMzMwWQJqZmZmZmQlAAAAAAAAAFkCamZmZmZkJQAAAAAAAABZAzczMzMzMDECamZmZmZkXQM3MzMzMzAxAmpmZmZmZF0BmZmZmZmYQQGZmZmZmZhhAzczMzMzMDEAzMzMzMzMXQDMzMzMzMwtAMzMzMzMzF0BmZmZmZmYQQAAAAAAAABhAZmZmZmZmEEAzMzMzMzMZQJqZmZmZmRVAMzMzMzMzC0CamZmZmZkVQGZmZmZmZg5AAAAAAAAAFkBmZmZmZmYQQJqZmZmZmRdAzczMzMzMEECamZmZmZkXQAAAAAAAABBA",
          "dtype": "f8"
         },
         "xaxis": "x",
         "y": {
          "bdata": "D9dJAZI+5j8zKEe/hS7uP2QQq4HeYuc/YHfbAa5W7T92Yfdf35XnP0fzU14jEO0/TgBygGif6D8xamsCFNztPzWzlgLSfuc/YEj73UN77j+AKLk/7k3nP88UGaHI6O0/ZIelPwOj5z+supp+geftP+E3ET/3LOc/UKiGgdc87j8CgELBtejoP6VrJt9s8+0/WMmm4BnC6D+EvYkhOZnuP3Pk9R42yuc/MOSmQEU57j99LX0iLmToP+QQkoETfO0/uNaLX4A26D//UJv+DfbtP0/pYP2fQ+k/TQVonens7T/qwKS+TRvpP1BUFZ7ASe4/lIjPIZnj5z93LSEf9GzuPw6GGZ6H6Og/cdM0YkXx7T+8uY1AmwDpP9sIOEIOA+4/4UTTXQJF6T9EToDdwA/uPxNgWP58W+k/toEaQr5Z7j8mcMpgtYfoPwSEQV+bqe4/BpAM/wq16T8xJEghoO3tPwNEoH5A9eg/DEpFIdE97j/+l4zf6xbqP7QR2x8gJu0/Rz/5P7C46T+bY8yfZ3ruP5hokIKnEOk/mm/QoJlu7j//Ike+OwfqPyFzhl5WU+4/CkAvHtZi6T9ehZSfVHvsP3MPCd/7m+o/Clj+vndi7j/5u5jigXPpP7yxwT4Rtu4/e1s8/gPz6j8DvnAhbrLuP9wfe/8XFuo/1FVPIMtm7j99Fa6BjGTqP7R1T6JOzu4/gH7fv3lx6j/j0qU9LXjuP6GTMYDokOk/xlrwYJPu7j/REpY+le/rPzm2niEcs+4/ol9bP/3n6j8laP5eK73uP2y9U7/aiuo/D0YNIikU7z97eY2fvqzrP556pMFt7e4/aIQrXjQd6z9GDBp+YBzvP97kt+hkKe8/MLjmjv6X6j/ylqsfm2TuPxB0tKolHe0/Rb3g05w87T8OTdnpB3XsP8fXnlkSIO8/PITx07g37D8XKZSFr6/vPxpqFJLM6us/",
          "dtype": "f8"
         },
         "yaxis": "y"
        },
        {
         "hovertemplate": "<b>OLS trendline</b><br>indicador_rendimento = 0.0694392 * ideb + 0.560133<br>R<sup>2</sup>=0.907207<br><br>IDEB=%{x}<br>Indicador de Rendimento=%{y} <b>(trend)</b><extra></extra>",
         "legendgroup": "",
         "line": {
          "color": "#555655"
         },
         "marker": {
          "color": "#6495ED",
          "symbol": "circle"
         },
         "mode": "lines",
         "name": "",
         "showlegend": false,
         "type": "scatter",
         "x": {
          "bdata": "mpmZmZmZBUCamZmZmZkFQJqZmZmZmQVAZmZmZmZmBkAzMzMzMzMHQDMzMzMzMwdAAAAAAAAACEAAAAAAAAAIQAAAAAAAAAhAzczMzMzMCEDNzMzMzMwIQM3MzMzMzAhAmpmZmZmZCUCamZmZmZkJQJqZmZmZmQlAmpmZmZmZCUCamZmZmZkJQJqZmZmZmQlAZmZmZmZmCkBmZmZmZmYKQDMzMzMzMwtAMzMzMzMzC0AzMzMzMzMLQDMzMzMzMwtAMzMzMzMzC0AAAAAAAAAMQAAAAAAAAAxAzczMzMzMDEDNzMzMzMwMQM3MzMzMzAxAzczMzMzMDEDNzMzMzMwMQM3MzMzMzAxAzczMzMzMDECamZmZmZkNQJqZmZmZmQ1AmpmZmZmZDUBmZmZmZmYOQGZmZmZmZg5AAAAAAAAAEEBmZmZmZmYQQGZmZmZmZhBAZmZmZmZmEEBmZmZmZmYQQM3MzMzMzBBAzczMzMzMEkAAAAAAAAAUQAAAAAAAABRAZmZmZmZmFEBmZmZmZmYUQGZmZmZmZhRAzczMzMzMFEDNzMzMzMwUQM3MzMzMzBRAzczMzMzMFECamZmZmZkVQJqZmZmZmRVAmpmZmZmZFUCamZmZmZkVQJqZmZmZmRVAmpmZmZmZFUAAAAAAAAAWQAAAAAAAABZAAAAAAAAAFkAAAAAAAAAWQAAAAAAAABZAZmZmZmZmFkBmZmZmZmYWQGZmZmZmZhZAZmZmZmZmFkDNzMzMzMwWQM3MzMzMzBZAzczMzMzMFkDNzMzMzMwWQM3MzMzMzBZAMzMzMzMzF0AzMzMzMzMXQDMzMzMzMxdAMzMzMzMzF0AzMzMzMzMXQJqZmZmZmRdAmpmZmZmZF0CamZmZmZkXQJqZmZmZmRdAmpmZmZmZF0CamZmZmZkXQAAAAAAAABhAAAAAAAAAGEBmZmZmZmYYQDMzMzMzMxlA",
          "dtype": "f8"
         },
         "xaxis": "x",
         "y": {
          "bdata": "nADmKX7s5z+cAOYpfuznP5wA5il+7Oc/IytxnGAl6D+qVfwOQ17oP6pV/A5DXug/MoCHgSWX6D8ygIeBJZfoPzKAh4Ell+g/uqoS9AfQ6D+6qhL0B9DoP7qqEvQH0Og/QdWdZuoI6T9B1Z1m6gjpP0HVnWbqCOk/QdWdZuoI6T9B1Z1m6gjpP0HVnWbqCOk/yP8o2cxB6T/I/yjZzEHpP1AqtEuveuk/UCq0S6966T9QKrRLr3rpP1AqtEuveuk/UCq0S6966T/YVD++kbPpP9hUP76Rs+k/X3/KMHTs6T9ff8owdOzpP19/yjB07Ok/X3/KMHTs6T9ff8owdOzpP19/yjB07Ok/X3/KMHTs6T/mqVWjViXqP+apVaNWJeo/5qlVo1Yl6j9u1OAVOV7qP27U4BU5Xuo/fSn3+v3P6j8EVIJt4AjrPwRUgm3gCOs/BFSCbeAI6z8EVIJt4AjrP4x+DeDCQes/MlPFHC9e7D/I0mZ01gjtP8jSZnTWCO0/UP3x5rhB7T9Q/fHmuEHtP1D98ea4Qe0/1yd9WZt67T/XJ31Zm3rtP9cnfVmbeu0/1yd9WZt67T/mfJM+YOztP+Z8kz5g7O0/5nyTPmDs7T/mfJM+YOztP+Z8kz5g7O0/5nyTPmDs7T9upx6xQiXuP26nHrFCJe4/bqcesUIl7j9upx6xQiXuP26nHrFCJe4/9dGpIyVe7j/10akjJV7uP/XRqSMlXu4/9dGpIyVe7j98/DSWB5fuP3z8NJYHl+4/fPw0lgeX7j98/DSWB5fuP3z8NJYHl+4/BCfACOrP7j8EJ8AI6s/uPwQnwAjqz+4/BCfACOrP7j8EJ8AI6s/uP4xRS3vMCO8/jFFLe8wI7z+MUUt7zAjvP4xRS3vMCO8/jFFLe8wI7z+MUUt7zAjvPxN81u2uQe8/E3zW7a5B7z+apmFgkXrvP6r7d0VW7O8/",
          "dtype": "f8"
         },
         "yaxis": "y"
        }
       ],
       "layout": {
        "annotations": [
         {
          "align": "left",
          "font": {
           "size": 10
          },
          "showarrow": false,
          "text": "Fonte dos dados: <a href=\"https://www.gov.br/inep/pt-br/areas-de-atuacao/avaliacao-e-exames-educacionais/saeb\">Sistema de Avaliação da Educação Básica (Saeb)</a>",
          "x": 1,
          "xref": "paper",
          "y": -0.15,
          "yref": "paper"
         }
        ],
        "font": {
         "color": "#414040",
         "size": 14
        },
        "height": 500,
        "legend": {
         "tracegroupgap": 0
        },
        "margin": {
         "t": 100
        },
        "template": {
         "data": {
          "bar": [
           {
            "error_x": {
             "color": "#2a3f5f"
            },
            "error_y": {
             "color": "#2a3f5f"
            },
            "marker": {
             "line": {
              "color": "#E5ECF6",
              "width": 0.5
             },
             "pattern": {
              "fillmode": "overlay",
              "size": 10,
              "solidity": 0.2
             }
            },
            "type": "bar"
           }
          ],
          "barpolar": [
           {
            "marker": {
             "line": {
              "color": "#E5ECF6",
              "width": 0.5
             },
             "pattern": {
              "fillmode": "overlay",
              "size": 10,
              "solidity": 0.2
             }
            },
            "type": "barpolar"
           }
          ],
          "carpet": [
           {
            "aaxis": {
             "endlinecolor": "#2a3f5f",
             "gridcolor": "white",
             "linecolor": "white",
             "minorgridcolor": "white",
             "startlinecolor": "#2a3f5f"
            },
            "baxis": {
             "endlinecolor": "#2a3f5f",
             "gridcolor": "white",
             "linecolor": "white",
             "minorgridcolor": "white",
             "startlinecolor": "#2a3f5f"
            },
            "type": "carpet"
           }
          ],
          "choropleth": [
           {
            "colorbar": {
             "outlinewidth": 0,
             "ticks": ""
            },
            "type": "choropleth"
           }
          ],
          "contour": [
           {
            "colorbar": {
             "outlinewidth": 0,
             "ticks": ""
            },
            "colorscale": [
             [
              0,
              "#0d0887"
             ],
             [
              0.1111111111111111,
              "#46039f"
             ],
             [
              0.2222222222222222,
              "#7201a8"
             ],
             [
              0.3333333333333333,
              "#9c179e"
             ],
             [
              0.4444444444444444,
              "#bd3786"
             ],
             [
              0.5555555555555556,
              "#d8576b"
             ],
             [
              0.6666666666666666,
              "#ed7953"
             ],
             [
              0.7777777777777778,
              "#fb9f3a"
             ],
             [
              0.8888888888888888,
              "#fdca26"
             ],
             [
              1,
              "#f0f921"
             ]
            ],
            "type": "contour"
           }
          ],
          "contourcarpet": [
           {
            "colorbar": {
             "outlinewidth": 0,
             "ticks": ""
            },
            "type": "contourcarpet"
           }
          ],
          "heatmap": [
           {
            "colorbar": {
             "outlinewidth": 0,
             "ticks": ""
            },
            "colorscale": [
             [
              0,
              "#0d0887"
             ],
             [
              0.1111111111111111,
              "#46039f"
             ],
             [
              0.2222222222222222,
              "#7201a8"
             ],
             [
              0.3333333333333333,
              "#9c179e"
             ],
             [
              0.4444444444444444,
              "#bd3786"
             ],
             [
              0.5555555555555556,
              "#d8576b"
             ],
             [
              0.6666666666666666,
              "#ed7953"
             ],
             [
              0.7777777777777778,
              "#fb9f3a"
             ],
             [
              0.8888888888888888,
              "#fdca26"
             ],
             [
              1,
              "#f0f921"
             ]
            ],
            "type": "heatmap"
           }
          ],
          "histogram": [
           {
            "marker": {
             "pattern": {
              "fillmode": "overlay",
              "size": 10,
              "solidity": 0.2
             }
            },
            "type": "histogram"
           }
          ],
          "histogram2d": [
           {
            "colorbar": {
             "outlinewidth": 0,
             "ticks": ""
            },
            "colorscale": [
             [
              0,
              "#0d0887"
             ],
             [
              0.1111111111111111,
              "#46039f"
             ],
             [
              0.2222222222222222,
              "#7201a8"
             ],
             [
              0.3333333333333333,
              "#9c179e"
             ],
             [
              0.4444444444444444,
              "#bd3786"
             ],
             [
              0.5555555555555556,
              "#d8576b"
             ],
             [
              0.6666666666666666,
              "#ed7953"
             ],
             [
              0.7777777777777778,
              "#fb9f3a"
             ],
             [
              0.8888888888888888,
              "#fdca26"
             ],
             [
              1,
              "#f0f921"
             ]
            ],
            "type": "histogram2d"
           }
          ],
          "histogram2dcontour": [
           {
            "colorbar": {
             "outlinewidth": 0,
             "ticks": ""
            },
            "colorscale": [
             [
              0,
              "#0d0887"
             ],
             [
              0.1111111111111111,
              "#46039f"
             ],
             [
              0.2222222222222222,
              "#7201a8"
             ],
             [
              0.3333333333333333,
              "#9c179e"
             ],
             [
              0.4444444444444444,
              "#bd3786"
             ],
             [
              0.5555555555555556,
              "#d8576b"
             ],
             [
              0.6666666666666666,
              "#ed7953"
             ],
             [
              0.7777777777777778,
              "#fb9f3a"
             ],
             [
              0.8888888888888888,
              "#fdca26"
             ],
             [
              1,
              "#f0f921"
             ]
            ],
            "type": "histogram2dcontour"
           }
          ],
          "mesh3d": [
           {
            "colorbar": {
             "outlinewidth": 0,
             "ticks": ""
            },
            "type": "mesh3d"
           }
          ],
          "parcoords": [
           {
            "line": {
             "colorbar": {
              "outlinewidth": 0,
              "ticks": ""
             }
            },
            "type": "parcoords"
           }
          ],
          "pie": [
           {
            "automargin": true,
            "type": "pie"
           }
          ],
          "scatter": [
           {
            "fillpattern": {
             "fillmode": "overlay",
             "size": 10,
             "solidity": 0.2
            },
            "type": "scatter"
           }
          ],
          "scatter3d": [
           {
            "line": {
             "colorbar": {
              "outlinewidth": 0,
              "ticks": ""
             }
            },
            "marker": {
             "colorbar": {
              "outlinewidth": 0,
              "ticks": ""
             }
            },
            "type": "scatter3d"
           }
          ],
          "scattercarpet": [
           {
            "marker": {
             "colorbar": {
              "outlinewidth": 0,
              "ticks": ""
             }
            },
            "type": "scattercarpet"
           }
          ],
          "scattergeo": [
           {
            "marker": {
             "colorbar": {
              "outlinewidth": 0,
              "ticks": ""
             }
            },
            "type": "scattergeo"
           }
          ],
          "scattergl": [
           {
            "marker": {
             "colorbar": {
              "outlinewidth": 0,
              "ticks": ""
             }
            },
            "type": "scattergl"
           }
          ],
          "scattermap": [
           {
            "marker": {
             "colorbar": {
              "outlinewidth": 0,
              "ticks": ""
             }
            },
            "type": "scattermap"
           }
          ],
          "scattermapbox": [
           {
            "marker": {
             "colorbar": {
              "outlinewidth": 0,
              "ticks": ""
             }
            },
            "type": "scattermapbox"
           }
          ],
          "scatterpolar": [
           {
            "marker": {
             "colorbar": {
              "outlinewidth": 0,
              "ticks": ""
             }
            },
            "type": "scatterpolar"
           }
          ],
          "scatterpolargl": [
           {
            "marker": {
             "colorbar": {
              "outlinewidth": 0,
              "ticks": ""
             }
            },
            "type": "scatterpolargl"
           }
          ],
          "scatterternary": [
           {
            "marker": {
             "colorbar": {
              "outlinewidth": 0,
              "ticks": ""
             }
            },
            "type": "scatterternary"
           }
          ],
          "surface": [
           {
            "colorbar": {
             "outlinewidth": 0,
             "ticks": ""
            },
            "colorscale": [
             [
              0,
              "#0d0887"
             ],
             [
              0.1111111111111111,
              "#46039f"
             ],
             [
              0.2222222222222222,
              "#7201a8"
             ],
             [
              0.3333333333333333,
              "#9c179e"
             ],
             [
              0.4444444444444444,
              "#bd3786"
             ],
             [
              0.5555555555555556,
              "#d8576b"
             ],
             [
              0.6666666666666666,
              "#ed7953"
             ],
             [
              0.7777777777777778,
              "#fb9f3a"
             ],
             [
              0.8888888888888888,
              "#fdca26"
             ],
             [
              1,
              "#f0f921"
             ]
            ],
            "type": "surface"
           }
          ],
          "table": [
           {
            "cells": {
             "fill": {
              "color": "#EBF0F8"
             },
             "line": {
              "color": "white"
             }
            },
            "header": {
             "fill": {
              "color": "#C8D4E3"
             },
             "line": {
              "color": "white"
             }
            },
            "type": "table"
           }
          ]
         },
         "layout": {
          "annotationdefaults": {
           "arrowcolor": "#2a3f5f",
           "arrowhead": 0,
           "arrowwidth": 1
          },
          "autotypenumbers": "strict",
          "coloraxis": {
           "colorbar": {
            "outlinewidth": 0,
            "ticks": ""
           }
          },
          "colorscale": {
           "diverging": [
            [
             0,
             "#8e0152"
            ],
            [
             0.1,
             "#c51b7d"
            ],
            [
             0.2,
             "#de77ae"
            ],
            [
             0.3,
             "#f1b6da"
            ],
            [
             0.4,
             "#fde0ef"
            ],
            [
             0.5,
             "#f7f7f7"
            ],
            [
             0.6,
             "#e6f5d0"
            ],
            [
             0.7,
             "#b8e186"
            ],
            [
             0.8,
             "#7fbc41"
            ],
            [
             0.9,
             "#4d9221"
            ],
            [
             1,
             "#276419"
            ]
           ],
           "sequential": [
            [
             0,
             "#0d0887"
            ],
            [
             0.1111111111111111,
             "#46039f"
            ],
            [
             0.2222222222222222,
             "#7201a8"
            ],
            [
             0.3333333333333333,
             "#9c179e"
            ],
            [
             0.4444444444444444,
             "#bd3786"
            ],
            [
             0.5555555555555556,
             "#d8576b"
            ],
            [
             0.6666666666666666,
             "#ed7953"
            ],
            [
             0.7777777777777778,
             "#fb9f3a"
            ],
            [
             0.8888888888888888,
             "#fdca26"
            ],
            [
             1,
             "#f0f921"
            ]
           ],
           "sequentialminus": [
            [
             0,
             "#0d0887"
            ],
            [
             0.1111111111111111,
             "#46039f"
            ],
            [
             0.2222222222222222,
             "#7201a8"
            ],
            [
             0.3333333333333333,
             "#9c179e"
            ],
            [
             0.4444444444444444,
             "#bd3786"
            ],
            [
             0.5555555555555556,
             "#d8576b"
            ],
            [
             0.6666666666666666,
             "#ed7953"
            ],
            [
             0.7777777777777778,
             "#fb9f3a"
            ],
            [
             0.8888888888888888,
             "#fdca26"
            ],
            [
             1,
             "#f0f921"
            ]
           ]
          },
          "colorway": [
           "#636efa",
           "#EF553B",
           "#00cc96",
           "#ab63fa",
           "#FFA15A",
           "#19d3f3",
           "#FF6692",
           "#B6E880",
           "#FF97FF",
           "#FECB52"
          ],
          "font": {
           "color": "#2a3f5f"
          },
          "geo": {
           "bgcolor": "white",
           "lakecolor": "white",
           "landcolor": "#E5ECF6",
           "showlakes": true,
           "showland": true,
           "subunitcolor": "white"
          },
          "hoverlabel": {
           "align": "left"
          },
          "hovermode": "closest",
          "mapbox": {
           "style": "light"
          },
          "paper_bgcolor": "white",
          "plot_bgcolor": "#E5ECF6",
          "polar": {
           "angularaxis": {
            "gridcolor": "white",
            "linecolor": "white",
            "ticks": ""
           },
           "bgcolor": "#E5ECF6",
           "radialaxis": {
            "gridcolor": "white",
            "linecolor": "white",
            "ticks": ""
           }
          },
          "scene": {
           "xaxis": {
            "backgroundcolor": "#E5ECF6",
            "gridcolor": "white",
            "gridwidth": 2,
            "linecolor": "white",
            "showbackground": true,
            "ticks": "",
            "zerolinecolor": "white"
           },
           "yaxis": {
            "backgroundcolor": "#E5ECF6",
            "gridcolor": "white",
            "gridwidth": 2,
            "linecolor": "white",
            "showbackground": true,
            "ticks": "",
            "zerolinecolor": "white"
           },
           "zaxis": {
            "backgroundcolor": "#E5ECF6",
            "gridcolor": "white",
            "gridwidth": 2,
            "linecolor": "white",
            "showbackground": true,
            "ticks": "",
            "zerolinecolor": "white"
           }
          },
          "shapedefaults": {
           "line": {
            "color": "#2a3f5f"
           }
          },
          "ternary": {
           "aaxis": {
            "gridcolor": "white",
            "linecolor": "white",
            "ticks": ""
           },
           "baxis": {
            "gridcolor": "white",
            "linecolor": "white",
            "ticks": ""
           },
           "bgcolor": "#E5ECF6",
           "caxis": {
            "gridcolor": "white",
            "linecolor": "white",
            "ticks": ""
           }
          },
          "title": {
           "x": 0.05
          },
          "xaxis": {
           "automargin": true,
           "gridcolor": "white",
           "linecolor": "white",
           "ticks": "",
           "title": {
            "standoff": 15
           },
           "zerolinecolor": "white",
           "zerolinewidth": 2
          },
          "yaxis": {
           "automargin": true,
           "gridcolor": "white",
           "linecolor": "white",
           "ticks": "",
           "title": {
            "standoff": 15
           },
           "zerolinecolor": "white",
           "zerolinewidth": 2
          }
         }
        },
        "title": {
         "font": {
          "color": "#231F20",
          "size": 24
         },
         "text": "Relação entre o IDEB e o indicador de rendimento das escolas<br><sup size=1 style=\"color:#555655\">Do Ensino Médio (EM) entre os anos de 2005 a 2021</sup>"
        },
        "width": 1000,
        "xaxis": {
         "anchor": "y",
         "domain": [
          0,
          1
         ],
         "range": [
          2.5,
          7.5
         ],
         "title": {
          "text": "IDEB (0-10)"
         }
        },
        "yaxis": {
         "anchor": "x",
         "domain": [
          0,
          1
         ],
         "range": [
          0,
          1.1
         ],
         "title": {
          "text": "Indicador de Rendimento (0-1)"
         }
        }
       }
      }
     },
     "metadata": {},
     "output_type": "display_data"
    }
   ],
   "source": [
    "# Importando a biblioteca\n",
    "import plotly.express as px\n",
    "\n",
    "# Gerando o gráfico de dispersão com uma reta representando um modelo de regressão linear (OLS - Mínimos Quadrados Ordinários)\n",
    "fig = px.scatter(\n",
    "    ideb_em,\n",
    "    x='ideb',\n",
    "    y='indicador_rendimento',\n",
    "    trendline='ols',\n",
    "    color_discrete_sequence=[AZUL3],\n",
    "    trendline_color_override=CINZA3,\n",
    "    labels={'ideb': 'IDEB', 'indicador_rendimento': 'Indicador de Rendimento'},\n",
    ")\n",
    "\n",
    "# Ajustando o layout do gráfico\n",
    "fig.update_layout(\n",
    "    width=1000,\n",
    "    height=500,\n",
    "    yaxis_range=[0, 1.1],\n",
    "    xaxis_range=[2.5, 7.5],\n",
    "    margin=dict(t=100),\n",
    "    font_size=14,\n",
    "    font_color=CINZA2,\n",
    "    title_font_color=CINZA1,\n",
    "    title_font_size=24,\n",
    "    title_text='Relação entre o IDEB e o indicador de rendimento das escolas' +\n",
    "    '<br><sup size=1 style=\"color:#555655\">Do Ensino Médio (EM) entre os anos de 2005 a 2021</sup>',\n",
    "    xaxis_title='IDEB (0-10)',\n",
    "    yaxis_title='Indicador de Rendimento (0-1)',\n",
    ")\n",
    "\n",
    "# Dados ao passar o mouse\n",
    "fig.update_traces(\n",
    "    hovertemplate='<b>IDEB:</b> %{x} <br><b>Indicador de Rend:</b> %{y}',\n",
    "    selector=dict(type='scatter', mode='markers'),\n",
    ")\n",
    "\n",
    "fig.add_annotation(\n",
    "    text='Fonte dos dados: <a href=\"https://www.gov.br/inep/pt-br/areas-de-atuacao/avaliacao-e-exames-educacionais/saeb\">'\n",
    "    'Sistema de Avaliação da Educação Básica (Saeb)</a>',\n",
    "    align='left',\n",
    "    xref='paper',\n",
    "    yref='paper',\n",
    "    x=1,\n",
    "    y=-0.15,\n",
    "    showarrow=False,\n",
    "    font_size=10\n",
    ")\n",
    "fig.show()"
   ]
  },
  {
   "cell_type": "markdown",
   "metadata": {
    "id": "salts8m6TFog"
   },
   "source": [
    "<font color=green size=4> Conclusões: </font>\n",
    "\n",
    "---\n",
    "\n",
    "O gráfico de dispersão pode ser utilizado para relacionar dados entre duas variáveis numéricas de diferentes naturezas. Essa relação pode ser positiva, negativa ou neutra, linear ou não linear.\n",
    "\n",
    "Aqui traçamos uma reta em volta dos dados que representam a tendência entre eles, similar ao comoportamento que geramos a trabalhar com modelos de regressão linear."
   ]
  },
  {
   "cell_type": "markdown",
   "metadata": {
    "id": "XfP_QHVMfM1t"
   },
   "source": [
    "## **5.3 - Gráfico de dispersão com cores**\n",
    "\n",
    "---\n",
    "\n",
    "\n",
    "\n",
    "\n"
   ]
  },
  {
   "cell_type": "markdown",
   "metadata": {
    "id": "Mgc031b6fM1u"
   },
   "source": [
    "### **Pergunta 2 -** Qual a relação entre as notas das disciplinas de língua portuguesa e matemática no SAEB por região no Ensino Fundamental Anos Iniciais? Conseguimos traçar algum paralelo entre elas?"
   ]
  },
  {
   "cell_type": "markdown",
   "metadata": {
    "id": "-Vohyw2nfM1u"
   },
   "source": [
    "#### Visualizando os dados"
   ]
  },
  {
   "cell_type": "code",
   "execution_count": 55,
   "metadata": {
    "id": "5fQMeNVHfM1u"
   },
   "outputs": [
    {
     "data": {
      "text/html": [
       "<div>\n",
       "<style scoped>\n",
       "    .dataframe tbody tr th:only-of-type {\n",
       "        vertical-align: middle;\n",
       "    }\n",
       "\n",
       "    .dataframe tbody tr th {\n",
       "        vertical-align: top;\n",
       "    }\n",
       "\n",
       "    .dataframe thead th {\n",
       "        text-align: right;\n",
       "    }\n",
       "</style>\n",
       "<table border=\"1\" class=\"dataframe\">\n",
       "  <thead>\n",
       "    <tr style=\"text-align: right;\">\n",
       "      <th></th>\n",
       "      <th>regiao</th>\n",
       "      <th>nota_saeb_matematica</th>\n",
       "      <th>nota_saeb_lingua_portuguesa</th>\n",
       "    </tr>\n",
       "  </thead>\n",
       "  <tbody>\n",
       "    <tr>\n",
       "      <th>0</th>\n",
       "      <td>Centro-Oeste</td>\n",
       "      <td>185.38</td>\n",
       "      <td>172.13</td>\n",
       "    </tr>\n",
       "    <tr>\n",
       "      <th>1</th>\n",
       "      <td>Centro-Oeste</td>\n",
       "      <td>223.64</td>\n",
       "      <td>210.36</td>\n",
       "    </tr>\n",
       "    <tr>\n",
       "      <th>2</th>\n",
       "      <td>Nordeste</td>\n",
       "      <td>162.61</td>\n",
       "      <td>156.61</td>\n",
       "    </tr>\n",
       "    <tr>\n",
       "      <th>3</th>\n",
       "      <td>Nordeste</td>\n",
       "      <td>211.16</td>\n",
       "      <td>199.88</td>\n",
       "    </tr>\n",
       "    <tr>\n",
       "      <th>4</th>\n",
       "      <td>Norte</td>\n",
       "      <td>166.39</td>\n",
       "      <td>161.30</td>\n",
       "    </tr>\n",
       "  </tbody>\n",
       "</table>\n",
       "</div>"
      ],
      "text/plain": [
       "         regiao  nota_saeb_matematica  nota_saeb_lingua_portuguesa\n",
       "0  Centro-Oeste                185.38                       172.13\n",
       "1  Centro-Oeste                223.64                       210.36\n",
       "2      Nordeste                162.61                       156.61\n",
       "3      Nordeste                211.16                       199.88\n",
       "4         Norte                166.39                       161.30"
      ]
     },
     "execution_count": 55,
     "metadata": {},
     "output_type": "execute_result"
    }
   ],
   "source": [
    "ideb_efai = ideb.query('anos_escolares == \"EFAI\"')[\n",
    "    ['regiao', 'nota_saeb_matematica', 'nota_saeb_lingua_portuguesa']\n",
    "]\n",
    "ideb_efai = ideb_efai.reset_index(drop=True)\n",
    "ideb_efai.head()"
   ]
  },
  {
   "cell_type": "markdown",
   "metadata": {
    "id": "s6NtJoQNfM1u"
   },
   "source": [
    "#### Gerando o gráfico"
   ]
  },
  {
   "cell_type": "code",
   "execution_count": 57,
   "metadata": {
    "id": "YySWHDorTFof"
   },
   "outputs": [
    {
     "data": {
      "image/png": "[encoded data removed]",
      "text/plain": [
       "<Figure size 1000x500 with 1 Axes>"
      ]
     },
     "metadata": {},
     "output_type": "display_data"
    }
   ],
   "source": [
    "# Configurando o gráfico com parâmetros que potencializam a visualização dos dados\n",
    "\n",
    "# Importando as bibliotecas\n",
    "import matplotlib.pyplot as plt\n",
    "import seaborn as sns\n",
    "\n",
    "# Definindo as cores do gráfico\n",
    "cores = [VERDE3, VERMELHO2, AZUL3, LARANJA1, CINZA4]\n",
    "\n",
    "# Área do gráfico e tema da visualização\n",
    "fig, ax = plt.subplots(figsize=(10, 5))\n",
    "sns.set_theme(style='white')\n",
    "\n",
    "# Gerando o gráfico de dispersão com cores como categorias\n",
    "ax = sns.scatterplot(\n",
    "    data=ideb_efai,\n",
    "    x='nota_saeb_matematica',\n",
    "    y='nota_saeb_lingua_portuguesa',\n",
    "    hue='regiao',\n",
    "    palette=cores,\n",
    ")\n",
    "\n",
    "# Personalizando o gráfico\n",
    "plt.suptitle(\n",
    "    'Relação entre as notas de matemática e língua portuguesa do SAEB',\n",
    "    size=18,\n",
    "    color=CINZA1,\n",
    "    ha='right',\n",
    "    x=0.97,\n",
    "    y=1.03\n",
    ")\n",
    "plt.title(\n",
    "    'Do Ensino Fudamental Anos Iniciais (EFAI) entre os anos de 2005 a 2021',\n",
    "    fontsize=14,\n",
    "    color=CINZA3,\n",
    "    pad=15,\n",
    "    loc='left'\n",
    ")\n",
    "ax.legend(\n",
    "    bbox_to_anchor=(155, 275),\n",
    "    title='Rede',\n",
    "    title_fontsize=10,\n",
    "    fontsize=10,\n",
    "    loc='upper left',\n",
    "    bbox_transform=ax.transData\n",
    ")\n",
    "ax.set_xlabel('Notas de Matemática (0 - 500)', fontsize=14)\n",
    "ax.set_ylabel('Notas de Português (0 - 500)', fontsize=14)\n",
    "ax.xaxis.set_tick_params(labelsize=12, color=CINZA2)\n",
    "ax.set_xlim(150, 280)\n",
    "ax.yaxis.set_tick_params(labelsize=12, color=CINZA2)\n",
    "ax.set_ylim(150, 280)\n",
    "sns.despine()\n",
    "\n",
    "# Limites das notas em no eixo y (notas de português) - 200 pontos (proficiência)\n",
    "ax.text(\n",
    "    ax.get_xlim()[0] + 1,\n",
    "    202,\n",
    "    'Nível 4 e superior',\n",
    "    fontsize=12,\n",
    "    color=CINZA3,\n",
    "    va='bottom'\n",
    ")\n",
    "ax.text(\n",
    "    ax.get_xlim()[0] + 1,\n",
    "    198,\n",
    "    'Nível 4 e inferior',\n",
    "    fontsize=12,\n",
    "    color=CINZA3,\n",
    "    va='top'\n",
    ")\n",
    "plt.axhline(y=200, color=CINZA5, linestyle='--')\n",
    "\n",
    "# Limites das notas em no eixo x (notas de matemática) - 225 pontos (proficiência)\n",
    "ax.text(\n",
    "    223,\n",
    "    ax.get_ylim()[1] - 10,\n",
    "    'Nível 5\\ne inferior',\n",
    "    fontsize=12,\n",
    "    color=CINZA3,\n",
    "    ha='right'\n",
    ")\n",
    "ax.text(\n",
    "    227,\n",
    "    ax.get_ylim()[1] - 10,\n",
    "    'Nível 5\\ne superior',\n",
    "    fontsize=12,\n",
    "    color=CINZA3,\n",
    "    ha='left'\n",
    ")\n",
    "plt.axvline(x=225, color=CINZA5, linestyle='--')\n",
    "\n",
    "# Adicionando um texo explicando a divisão de quadrantes e o que significa\n",
    "ax.annotate(\n",
    "    'Cada quadrante representa o nível de proficiência\\nde estudantes divididas pelo nível 5 (>=225 pontos)\\ne 4 (>=200 pontos)\\n\\n'\n",
    "    'Nota-se que o 2º quadrante (Nível 5 e superior em \\nmatemática e Nível 4 e superior em português)\\n'\n",
    "    'possuímos as notas com melhores desempenhos \\nà nivel nacional',\n",
    "    xy=(260, 180),\n",
    "    xycoords='data',\n",
    "    bbox=dict(boxstyle='round', fc=BRANCO, ec=CINZA3),\n",
    "    xytext=(0, 0),\n",
    "    textcoords='offset points'\n",
    ")\n",
    "\n",
    "plt.show()"
   ]
  },
  {
   "cell_type": "markdown",
   "metadata": {
    "id": "Zc2zDiZKsMwn"
   },
   "source": [
    "<font color=green size=4> Conclusões: </font>\n",
    "\n",
    "---\n",
    "\n",
    "O gráfico de dispersão por cores adiciona uma variável categórica a análise (em nosso exemplo, a região).\n",
    "\n",
    "Para compreender um pouco mais sobre os níveis de proficiência aessar este [link](https://download.inep.gov.br/publicacoes/institucionais/avaliacoes_e_exames_da_educacao_basica/escalas_de_proficiencia_do_saeb.pdf). E para entender sobre o nível de aprendizado proficiente acesse este outro [link](https://ajuda.focoescola.com.br/hc/pt-br/articles/360058736853-Como-%C3%A9-definido-o-padr%C3%A3o-de-desempenho-dos-alunos-para-os-resultados-do-Saeb)\n",
    "\n",
    "Aqui utilizamos dois recursos visuais que é o de acercamento (gerado pela delimitação dos níveis das notas de língua portuguesa e matemática) e o de similaridade por meio das cores, representando as categorias dos pontos representados pelas regiões."
   ]
  },
  {
   "cell_type": "markdown",
   "metadata": {
    "id": "baWLhlXHrAMz"
   },
   "source": [
    "## **5.4 - Gráfico de bolhas**\n",
    "\n",
    "---\n",
    "\n"
   ]
  },
  {
   "cell_type": "markdown",
   "metadata": {
    "id": "AipMngUxsvoZ"
   },
   "source": [
    "### **Pergunta 3 -** Qual seria a relação entre a taxa de aprovação e a média da nota do SAEB no Ensino Fundamental Anos Finais? Conseguimos notar como as duas se distribuem em relação ao IDEB e as regiões?"
   ]
  },
  {
   "cell_type": "markdown",
   "metadata": {
    "id": "ZiC06Yajsvor"
   },
   "source": [
    "#### Visualizando os dados"
   ]
  },
  {
   "cell_type": "code",
   "execution_count": 59,
   "metadata": {
    "id": "K6inEr-hsvor"
   },
   "outputs": [
    {
     "data": {
      "text/html": [
       "<div>\n",
       "<style scoped>\n",
       "    .dataframe tbody tr th:only-of-type {\n",
       "        vertical-align: middle;\n",
       "    }\n",
       "\n",
       "    .dataframe tbody tr th {\n",
       "        vertical-align: top;\n",
       "    }\n",
       "\n",
       "    .dataframe thead th {\n",
       "        text-align: right;\n",
       "    }\n",
       "</style>\n",
       "<table border=\"1\" class=\"dataframe\">\n",
       "  <thead>\n",
       "    <tr style=\"text-align: right;\">\n",
       "      <th></th>\n",
       "      <th>regiao</th>\n",
       "      <th>taxa_aprovacao</th>\n",
       "      <th>nota_saeb_media_padronizada</th>\n",
       "      <th>ideb</th>\n",
       "    </tr>\n",
       "  </thead>\n",
       "  <tbody>\n",
       "    <tr>\n",
       "      <th>0</th>\n",
       "      <td>Centro-Oeste</td>\n",
       "      <td>72.1</td>\n",
       "      <td>4.356453</td>\n",
       "      <td>3.1</td>\n",
       "    </tr>\n",
       "    <tr>\n",
       "      <th>1</th>\n",
       "      <td>Centro-Oeste</td>\n",
       "      <td>94.4</td>\n",
       "      <td>5.840183</td>\n",
       "      <td>5.5</td>\n",
       "    </tr>\n",
       "    <tr>\n",
       "      <th>2</th>\n",
       "      <td>Nordeste</td>\n",
       "      <td>66.8</td>\n",
       "      <td>3.925063</td>\n",
       "      <td>2.6</td>\n",
       "    </tr>\n",
       "    <tr>\n",
       "      <th>3</th>\n",
       "      <td>Nordeste</td>\n",
       "      <td>92.2</td>\n",
       "      <td>5.796700</td>\n",
       "      <td>5.3</td>\n",
       "    </tr>\n",
       "    <tr>\n",
       "      <th>4</th>\n",
       "      <td>Norte</td>\n",
       "      <td>75.3</td>\n",
       "      <td>4.097388</td>\n",
       "      <td>3.1</td>\n",
       "    </tr>\n",
       "  </tbody>\n",
       "</table>\n",
       "</div>"
      ],
      "text/plain": [
       "         regiao  taxa_aprovacao  nota_saeb_media_padronizada  ideb\n",
       "0  Centro-Oeste            72.1                     4.356453   3.1\n",
       "1  Centro-Oeste            94.4                     5.840183   5.5\n",
       "2      Nordeste            66.8                     3.925063   2.6\n",
       "3      Nordeste            92.2                     5.796700   5.3\n",
       "4         Norte            75.3                     4.097388   3.1"
      ]
     },
     "execution_count": 59,
     "metadata": {},
     "output_type": "execute_result"
    }
   ],
   "source": [
    "# Selecionando os dados desejados do dataframe\n",
    "ideb_efaf = ideb.query('anos_escolares == \"EFAF\"')[\n",
    "    ['regiao', 'taxa_aprovacao', 'nota_saeb_media_padronizada', 'ideb']\n",
    "]\n",
    "ideb_efaf = ideb_efaf.reset_index(drop=True)\n",
    "ideb_efaf.head()"
   ]
  },
  {
   "cell_type": "markdown",
   "metadata": {
    "id": "_PR3tIVTsvos"
   },
   "source": [
    "#### Gerando o gráfico"
   ]
  },
  {
   "cell_type": "code",
   "execution_count": 63,
   "metadata": {
    "id": "aNzgKSDTsvos"
   },
   "outputs": [
    {
     "data": {
      "image/png": "[encoded data removed]",
      "text/plain": [
       "<Figure size 1000x800 with 1 Axes>"
      ]
     },
     "metadata": {},
     "output_type": "display_data"
    }
   ],
   "source": [
    "# Configurando o gráfico com parâmetros que potencializam a visualização dos dados\n",
    "\n",
    "# Importando as bibliotecas\n",
    "import matplotlib.pyplot as plt\n",
    "import seaborn as sns\n",
    "import numpy as np\n",
    "\n",
    "# Área do gráfico e tema da visualização\n",
    "fig, ax = plt.subplots(figsize=(10, 8))\n",
    "\n",
    "# Definindo as cores do gráfico\n",
    "cores = [VERDE3, VERMELHO2, AZUL3, LARANJA1, CINZA4]\n",
    "\n",
    "# Gerando o gráfico de bolhas\n",
    "ax = sns.scatterplot(\n",
    "    data=ideb_efaf,\n",
    "    x='taxa_aprovacao',\n",
    "    y='nota_saeb_media_padronizada',\n",
    "    hue='regiao',\n",
    "    size='ideb',\n",
    "    sizes=(10, 200),\n",
    "    palette=cores,\n",
    ")\n",
    "\n",
    "# # Adicionando o IDEB nacional (Taxa * Nota Padronizada) - https://download.inep.gov.br/institucional/apresentacao_saeb_ideb_2021.pdf\n",
    "# ax.scatter([96], [5.32], color=VERMELHO1, s=80)\n",
    "# plt.axvline(x=96, color = CINZA5, linestyle='--', linewidth=0.5) # adicionando linhas de referência do IDEB nacional\n",
    "# plt.axhline(y=5.32, color = CINZA5, linestyle='--', linewidth=0.5) # adicionando linhas de referência do IDEB nacional\n",
    "# ax.text(95, 5.4, 'IDEB = 5.1\\n(Brasil) 2021', color=CINZA3, fontsize=10, fontweight='bold')\n",
    "\n",
    "# ## Personalizando o gráfico\n",
    "# plt.suptitle('Taxa de Aprovação X Nota Média Padronizada do SAEB', size=18, color=CINZA1, ha = 'right', x = 0.81, y = 1.07)\n",
    "# plt.title('Do Ensino Fudamental Anos Finais (EFAF) entre os anos de 2005 a 2021', fontsize=14, color=CINZA3, pad = 30, loc = \"left\")\n",
    "# ax.legend(bbox_to_anchor=(71, 7), fontsize = 10, loc='upper left', bbox_transform=ax.transData)\n",
    "# ax.xaxis.set_tick_params(labelsize=11, color = CINZA3)\n",
    "# ax.yaxis.set_tick_params(labelsize=11, color = CINZA3)\n",
    "# ax.set_xlim(70, 100)\n",
    "# ax.set_ylim(4, 7)\n",
    "\n",
    "# # Propriedades dos eixos x e y\n",
    "# xticks = np.arange(70, 105, 5)\n",
    "# yticks = np.arange(4, 7.5, 0.5)\n",
    "# plt.setp(ax, xticks=xticks, xticklabels=[str(i)+'%' for i in xticks], yticks=yticks)\n",
    "\n",
    "# # Ajustando a aparência dos ticks e tick labels\n",
    "# ax.tick_params(top=True, bottom=False, labelbottom=False, labeltop=True)\n",
    "# ax.xaxis.set_label_position('top')\n",
    "# ax.set_xlabel('Taxa de Aprovação (%)', fontsize = 14, loc=\"left\", labelpad = 15)\n",
    "# ax.set_ylabel('Nota Média Padronizada (0 - 10)', fontsize = 14, loc=\"top\", labelpad = 15)\n",
    "\n",
    "# # Removendo bordas da direita e base e alterando as cores da borda esquerda e do topo\n",
    "# ax.spines[['right', \"bottom\"]].set_visible(False)\n",
    "# ax.spines[['left', \"top\"]].set_color(CINZA3)\n",
    "\n",
    "plt.show()"
   ]
  },
  {
   "cell_type": "markdown",
   "metadata": {
    "id": "OiB9uBIrsvos"
   },
   "source": [
    "<font color=green size=4> Conclusões: </font>\n",
    "\n",
    "---\n",
    "\n",
    "Subindo um pouco a nossa análise, adicionamos mais um recurso visual: as bolhas. Elas mostram a magnitude de outra variável numérica, o IDEB. Aqui analisamos as notas médias do SAEB e a taxa de aprovação dos(as) estudantes e comparamos as regiões (categorias) e IDEB (valores numéricos).\n",
    "\n",
    "Utilizamos, também o recurso da delimitação do valor médio nacional e destacamos esse valor de interesse como padrão para analisarmos os valores dos outros pontos."
   ]
  }
 ],
 "metadata": {
  "colab": {
   "authorship_tag": "ABX9TyMgugrlmXkxsqnJhnhcGwoT",
   "collapsed_sections": [
    "BGO9CiDvw2br"
   ],
   "provenance": []
  },
  "kernelspec": {
   "display_name": "venv",
   "language": "python",
   "name": "python3"
  },
  "language_info": {
   "codemirror_mode": {
    "name": "ipython",
    "version": 3
   },
   "file_extension": ".py",
   "mimetype": "text/x-python",
   "name": "python",
   "nbconvert_exporter": "python",
   "pygments_lexer": "ipython3",
   "version": "3.12.3"
  }
 },
 "nbformat": 4,
 "nbformat_minor": 0
}
